{
 "cells": [
  {
   "cell_type": "markdown",
   "metadata": {
    "slideshow": {
     "slide_type": "slide"
    }
   },
   "source": [
    "### 講義での利用方法（＊＊重要＊＊）\n",
    "講義では、とくに指定のない限り（動作する） Python プログラム形式 (.py)として提出すること。\n",
    "実際には、セルで動作を確認したプログラムスクリプトをクリップボードにコピー、Python プログラムエディタにペーストする\n",
    "という方法が現実的と思われる。  \n",
    "もちろん自身が普段使い慣れているエディタを利用してもかまわない。"
   ]
  },
  {
   "cell_type": "markdown",
   "metadata": {},
   "source": [
    "### 提出の前に（＊＊重要＊＊）\n",
    "1. プログラム (.py)が動作するか、コマンドシェルから確認すること。\n",
    "1. ファイル名を間違えないこと。教員は課題評価の際にファイルを漁ったりしない。"
   ]
  },
  {
   "cell_type": "markdown",
   "metadata": {
    "slideshow": {
     "slide_type": "slide"
    }
   },
   "source": [
    "## 課題 7.  可視化（その１）\n",
    "\n",
    "`btc.ipynb`　などを参考に、公開されている 1 次元の数値列データをプロットするプログラムを作成せよ。\n",
    "\n",
    "プログラムファイルは `myplot.py` として、\n",
    "可視化内容の説明・考察を（プログラムの説明ではない）を Markdown 形式で `mypolot.md` に記述、教材配布 GitHub レポジトリにアップロードすること。\n",
    "\n",
    "評価基準は、例えば以下が挙げられる:\n",
    "- 利用したプロットオプション\n",
    "- データ形式の困難さ、たとえばネ申エクセル度\n",
    "- 秀逸なテーマには加点する\n",
    "\n",
    "以下のセルを修正してもよい。"
   ]
  },
  {
   "cell_type": "code",
   "execution_count": 1,
   "metadata": {},
   "outputs": [],
   "source": [
    "def myplot():\n",
    "    return\n",
    "\n",
    "myplot()"
   ]
  },
  {
   "cell_type": "markdown",
   "metadata": {
    "slideshow": {
     "slide_type": "slide"
    }
   },
   "source": [
    "## 課題 8.  可視化（その２）\n",
    "\n",
    "`cartopy.ipynb`　などを参考に、公開されている情報と地理情報を組み合わせ、可視化するプログラムを作成せよ。\n",
    "\n",
    "プログラムファイルは `mymap.py` として、\n",
    "可視化内容の説明・考察を（プログラムの説明ではない）を Markdown 形式で `mymap.md` に記述、教材配布 GitHub レポジトリにアップロードすること。\n",
    "\n",
    "以下のセルを修正してもよい。"
   ]
  },
  {
   "cell_type": "code",
   "execution_count": null,
   "metadata": {},
   "outputs": [],
   "source": [
    "def mymap():\n",
    "    return\n",
    "\n",
    "mymap()"
   ]
  }
 ],
 "metadata": {
  "celltoolbar": "Slideshow",
  "kernelspec": {
   "display_name": "Python 3",
   "language": "python",
   "name": "python3"
  },
  "language_info": {
   "codemirror_mode": {
    "name": "ipython",
    "version": 3
   },
   "file_extension": ".py",
   "mimetype": "text/x-python",
   "name": "python",
   "nbconvert_exporter": "python",
   "pygments_lexer": "ipython3",
   "version": "3.6.4"
  }
 },
 "nbformat": 4,
 "nbformat_minor": 2
}
