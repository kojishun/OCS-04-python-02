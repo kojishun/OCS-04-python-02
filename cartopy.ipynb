{
 "cells": [
  {
   "cell_type": "markdown",
   "metadata": {},
   "source": [
    "## Cartopy を利用した地理情報の可視化\n",
    "\n",
    "[Cartopy](http://scitools.org.uk/cartopy/) は地図生成や地理空間可視化を目的とした地理空間データ処理パッケージである。"
   ]
  },
  {
   "cell_type": "markdown",
   "metadata": {},
   "source": [
    "以下の例は、Cartopy を利用して、[Natural Earth](http://www.naturalearthdata.com) から日本の都道府県の境界データを取得し、\n",
    "matplotlib の patch を作成、描画するプログラムである:"
   ]
  },
  {
   "cell_type": "code",
   "execution_count": null,
   "metadata": {},
   "outputs": [],
   "source": [
    "%matplotlib inline\n",
    "import matplotlib.pyplot as plt\n",
    "import cartopy.crs as ccrs\n",
    "import cartopy.feature as cfeature\n",
    "import cartopy.io.shapereader as shapereader\n",
    "\n",
    "# 10m 解像度のデータ読み込み\n",
    "shpfilename = shapereader.natural_earth(resolution='10m',\n",
    "                                        category='cultural',\n",
    "                                        name='admin_1_states_provinces')\n",
    "\n",
    "# 国内の都道府県のみ取得\n",
    "reader = shapereader.Reader(shpfilename)\n",
    "provinces = []\n",
    "for province in reader.records():\n",
    "    if(province.attributes[\"admin\"] == \"Japan\"):\n",
    "        provinces.append(province)\n",
    "\n",
    "# Figure, Subplot 生成\n",
    "plt.figure(figsize=[8,8])\n",
    "ax = plt.axes(projection=ccrs.PlateCarree())\n",
    "\n",
    "# 都道府県のパッチで埋めていく\n",
    "for province in provinces:\n",
    "    geometry = province.geometry\n",
    "    ax.add_geometries(geometry, ccrs.PlateCarree(), edgecolor=\"black\", linestyle=\":\")\n",
    "\n",
    "# 日本以外を含む海岸線を描画\n",
    "# ax.coastlines(resolution='10m')\n",
    "\n",
    "# 描画範囲を緯度、経度で指定\n",
    "ax.set_extent([135, 142, 33, 40])\n",
    "plt.show()"
   ]
  },
  {
   "cell_type": "markdown",
   "metadata": {},
   "source": [
    "都道府県データから、英語名 \"name\"、日本語名 \"name_local\" を確認してみる。残念ながら　\"Shizuoka\" に対応する日本語名はないようだ:"
   ]
  },
  {
   "cell_type": "code",
   "execution_count": null,
   "metadata": {},
   "outputs": [],
   "source": [
    "for province in provinces:\n",
    "    print(province.attributes[\"name\"], province.attributes[\"name_local\"])"
   ]
  },
  {
   "cell_type": "markdown",
   "metadata": {},
   "source": [
    "### 階級区分図(Choropleth map)による可視化\n",
    "\n",
    "[住民基本台帳に基づく人口動態データ](http://www.soumu.go.jp/menu_news/s-news/01gyosei02_02000148.html)の人口増減率から都道府県単位の階級区分図（Choropleth_map）を描いてみる:"
   ]
  },
  {
   "cell_type": "code",
   "execution_count": null,
   "metadata": {},
   "outputs": [],
   "source": [
    "import matplotlib.pyplot as plt\n",
    "import cartopy.crs as ccrs\n",
    "import cartopy.feature as cfeature\n",
    "import cartopy.io.shapereader as shapereader\n",
    "import pandas as pd\n",
    "import numpy as np\n",
    "\n",
    "# とにかく Unnamed 列の文字列を消去するための関数\n",
    "def rename_unnamed(df): \n",
    "    \"\"\"Rename unamed columns name for Pandas DataFrame\n",
    "\n",
    "    See https://stackoverflow.com/questions/41221079/rename-multiindex-columns-in-pandas\n",
    "\n",
    "    Parameters\n",
    "    ----------\n",
    "    df : pd.DataFrame object\n",
    "        Input dataframe\n",
    "\n",
    "    Returns\n",
    "    -------\n",
    "    pd.DataFrame\n",
    "        Output dataframe\n",
    "\n",
    "    \"\"\"\n",
    "    for i, columns in enumerate(df.columns.levels):\n",
    "        columns_new = columns.tolist()\n",
    "        for j, row in enumerate(columns_new):\n",
    "            if \"Unnamed: \" in row:\n",
    "                columns_new[j] = \"\"\n",
    "        if pd.__version__ < \"0.21.0\":  # https://stackoverflow.com/a/48186976/716469\n",
    "            df.columns.set_levels(columns_new, level=i, inplace=True)\n",
    "        else:\n",
    "            df = df.rename(columns=dict(zip(columns.tolist(), columns_new)),\n",
    "                           level=i)\n",
    "    return df\n",
    "\n",
    "\n",
    "#　Excel データ読み込み\n",
    "df = pd.read_excel(\"000494956.xls\", sheet_name=0, header=[1,2,3], skiprows=[4])\n",
    "# Omit \"Unnamed\" indices and adjust \n",
    "df = rename_unnamed(df)\n",
    "df.set_index(\"都道府県名\", inplace=True)\n",
    "df.index.name=\"都道府県名\"\n",
    "\n",
    "shpfilename = shapereader.natural_earth(resolution='10m',\n",
    "                                        category='cultural',\n",
    "                                        name='admin_1_states_provinces')\n",
    "\n",
    "reader = shapereader.Reader(shpfilename)\n",
    "\n",
    "provinces = []\n",
    "for province in reader.records():\n",
    "    if(province.attributes[\"admin\"] == \"Japan\"):\n",
    "        provinces.append(province)\n",
    "\n",
    "plt.figure(figsize=[8,8])\n",
    "ax = plt.axes(projection=ccrs.PlateCarree())\n",
    "\n",
    "#　カラーマップのためのスケールデータ\n",
    "cmap = plt.cm.magma\n",
    "cnorm = max(df[\"平成28年\",\"増減率\"]) - min(df[\"平成28年\",\"増減率\"])\n",
    "coff = min(df[\"平成28年\",\"増減率\"])\n",
    "\n",
    "for province in provinces:\n",
    "    geometry = province.geometry\n",
    "    if province.attributes[\"name_local\"] == \"\":\n",
    "        continue\n",
    "    color = cmap((df[\"平成28年\",\"増減率\"][province.attributes[\"name_local\"]] - coff) / cnorm)\n",
    "    ax.add_geometries(geometry, ccrs.PlateCarree(), edgecolor=\"black\", linestyle=\":\",\n",
    "                        facecolor=color)\n",
    "\n",
    "ax.set_title(\"Population Growth Rate H28 - H29\")\n",
    "\n",
    "#ax.coastlines(resolution='10m')\n",
    "ax.set_extent([125, 146, 25, 47])\n",
    "\n",
    "sm = plt.cm.ScalarMappable(cmap=cmap,norm=plt.Normalize(cnorm + coff,coff))\n",
    "sm._A = []\n",
    "plt.colorbar(sm,ax=ax)\n",
    "\n",
    "plt.savefig(\"sample.pdf\", dps = 900, bbox_inches=\"tight\")\n",
    "plt.show()"
   ]
  },
  {
   "cell_type": "code",
   "execution_count": null,
   "metadata": {},
   "outputs": [],
   "source": []
  },
  {
   "cell_type": "code",
   "execution_count": null,
   "metadata": {},
   "outputs": [],
   "source": []
  }
 ],
 "metadata": {
  "kernelspec": {
   "display_name": "Python 3",
   "language": "python",
   "name": "python3"
  },
  "language_info": {
   "codemirror_mode": {
    "name": "ipython",
    "version": 3
   },
   "file_extension": ".py",
   "mimetype": "text/x-python",
   "name": "python",
   "nbconvert_exporter": "python",
   "pygments_lexer": "ipython3",
   "version": "3.7.3"
  }
 },
 "nbformat": 4,
 "nbformat_minor": 2
}
