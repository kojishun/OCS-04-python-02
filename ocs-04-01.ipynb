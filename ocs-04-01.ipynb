{
 "cells": [
  {
   "cell_type": "markdown",
   "metadata": {
    "slideshow": {
     "slide_type": "slide"
    }
   },
   "source": [
    "## NumPy\n",
    "\n",
    "この資料は[The Python Tutorial](https://docs.python.org/3.6/tutorial/index.html#the-python-tutorial)\n",
    "    ([日本語版](https://docs.python.jp/3/tutorial/)) および [Python for Data Analysis:Wrangling with Pandas, Numpy and IPython](http://shop.oreilly.com/product/0636920050896.do)を参考に作成した。  "
   ]
  },
  {
   "cell_type": "markdown",
   "metadata": {},
   "source": [
    "NumPy(Numerical Python) は Python の数値計算にとって重要なパッケージの一つ。\n",
    "\n",
    "NumPy は多次元配列、配列全体にわたる数値計算、ディスクの読み書きやメモリマップドファイル、線形代数、乱数生成、フーリエ変換、C, C++, FORTRAN ライブラリへの API などを含む。\n",
    "\n",
    "Numpy はモジュールを読み込んで利用する:\n",
    "```Python\n",
    "import numpy as np\n",
    "```\n",
    "\n",
    "### 多次元配列\n",
    "\n",
    "NumPy で最も重要なクラス、`np.ndarray`、は多次元配列を扱うクラスである。\n",
    "\n",
    "`np.ndarray` の生成方法はいくつかある:\n",
    "- `np.ndarray()` は要素が初期化されないことに注意すること。  \n",
    "    `np.array()`, `np.zeros()` の方が有用\n",
    "- `np.zeros()` は全てが 0 の、`np.ones()` は全てが 1 の配列を生成する。\n",
    "- `np.array()` では\n",
    "- この後の説明では、乱数を生成する `np.random.randn()` を多く利用する。  \n",
    "    `np.random` の説明は後述する"
   ]
  },
  {
   "cell_type": "code",
   "execution_count": 185,
   "metadata": {},
   "outputs": [
    {
     "name": "stdout",
     "output_type": "stream",
     "text": [
      "numpy.ndarray():\n",
      "[[2.22044605e-16 4.44089210e-16 5.55111512e-17 2.22044605e-16]\n",
      " [1.66533454e-16 4.44089210e-16 3.33066907e-16 2.22044605e-16]\n",
      " [1.24900090e-16 1.11022302e-16 2.22044605e-16 1.11022302e-16]\n",
      " [2.22044605e-16 1.11022302e-16 4.44089210e-16 1.66533454e-16]]\n",
      "\n",
      "Sample Vector:\n",
      "[0. 0. 0. 0.]\n",
      "Dimension: 1\n",
      "Shape: (4,)\n",
      "Type: float64\n",
      "\n",
      "Sample Matrix:\n",
      "[[0. 0. 0.]\n",
      " [0. 0. 0.]]\n",
      "Dimension: 2\n",
      "Shape: (2, 3)\n",
      "Type: float64\n",
      "\n",
      "Sample Tensor:\n",
      "[[[1. 1. 1.]\n",
      "  [1. 1. 1.]\n",
      "  [1. 1. 1.]]\n",
      "\n",
      " [[1. 1. 1.]\n",
      "  [1. 1. 1.]\n",
      "  [1. 1. 1.]]\n",
      "\n",
      " [[1. 1. 1.]\n",
      "  [1. 1. 1.]\n",
      "  [1. 1. 1.]]]\n",
      "Dimension: 3\n",
      "Shape: (3, 3, 3)\n",
      "Type: float64\n"
     ]
    }
   ],
   "source": [
    "import numpy as np\n",
    "\n",
    "print(\"numpy.ndarray():\")\n",
    "data0 = np.ndarray([4,4])         # 次元要素の数をリストで与える、ここでは 4 x 4 の行列\n",
    "print(data0)\n",
    "print()\n",
    "\n",
    "print(\"Sample Vector:\")\n",
    "data1 = np.zeros(4)               # 長さ 4 のベクトル（１次元配列）,ゼロで初期化\n",
    "print(data1)                      # 確認\n",
    "print(\"Dimension:\", data1.ndim)   # 次元を知りたい\n",
    "print(\"Shape:\", data1.shape)      # サイズ\n",
    "print(\"Type:\", data1.dtype)       # 要素の型\n",
    "print()\n",
    "\n",
    "print(\"Sample Matrix:\")\n",
    "data2 = np.zeros([2,3])           # 2 x 3 の行列を作る, ゼロで初期化\n",
    "print(data2)                      # 行列の確認\n",
    "print(\"Dimension:\", data2.ndim)   # 次元を知りたい\n",
    "print(\"Shape:\", data2.shape)      # サイズ\n",
    "print(\"Type:\", data2.dtype)       # 要素の型\n",
    "print()\n",
    "\n",
    "print(\"Sample Tensor:\")\n",
    "data3 = np.ones([3 ,3, 3])        # 3 x 3 x 3 のテンソルを作る\n",
    "print(data3)                      # 行列の確認\n",
    "print(\"Dimension:\", data3.ndim)   # 次元を知りたい\n",
    "print(\"Shape:\", data3.shape)      # サイズ\n",
    "print(\"Type:\", data3.dtype)       # 要素の型"
   ]
  },
  {
   "cell_type": "markdown",
   "metadata": {},
   "source": [
    "すでにあるリストあるいはタプルから `np.ndarray` を生成するには、`np.array()` を使う:"
   ]
  },
  {
   "cell_type": "code",
   "execution_count": 190,
   "metadata": {},
   "outputs": [
    {
     "name": "stdout",
     "output_type": "stream",
     "text": [
      "Sample Vector\n",
      "<class 'numpy.ndarray'>\n",
      "[1 2 3]\n",
      "Dimension: 1\n",
      "Shape: (3,)\n",
      "Type: int64\n",
      "\n",
      "Sample Matrix\n",
      "[[1 2 3]\n",
      " [4 5 6]\n",
      " [7 8 9]]\n",
      "Dimension: 2\n",
      "Shape: (3, 3)\n",
      "Type: int64\n",
      "\n"
     ]
    }
   ],
   "source": [
    "import numpy as np\n",
    "print(\"Sample Vector\")\n",
    "data1 = np.array([1, 2, 3])       # リストから作る\n",
    "print(type(data1))\n",
    "print(data1)\n",
    "print(\"Dimension:\", data1.ndim)   # 次元を知りたい\n",
    "print(\"Shape:\", data1.shape)      # サイズ\n",
    "print(\"Type:\", data1.dtype)       # 要素の型\n",
    "print()\n",
    "print(\"Sample Matrix\")\n",
    "data2 = np.array([[1, 2, 3],[4, 5, 6], [7, 8, 9]])   # 2 次元リストでも同様\n",
    "print(data2)\n",
    "print(\"Dimension:\", data2.ndim)   # 次元を知りたい\n",
    "print(\"Shape:\", data2.shape)      # サイズ\n",
    "print(\"Type:\", data2.dtype)       # 要素の型\n",
    "print()"
   ]
  },
  {
   "cell_type": "markdown",
   "metadata": {},
   "source": [
    "`np.random.randn()` も `np.ndarray` を生成する。  \n",
    "ただし引数は次元の要素数を可変長引数として与える（リストではない）ことに注意:"
   ]
  },
  {
   "cell_type": "code",
   "execution_count": 37,
   "metadata": {},
   "outputs": [
    {
     "data": {
      "text/plain": [
       "array([[[ 0.91738216, -1.5244501 , -1.94756131],\n",
       "        [-1.26215377, -0.32747145, -1.08663433],\n",
       "        [ 0.79725466,  0.04450173,  0.34936664]],\n",
       "\n",
       "       [[ 1.0146844 , -0.15195247, -1.32524809],\n",
       "        [ 0.76273512, -0.50376583,  1.78496722],\n",
       "        [ 0.62122625, -0.29175216,  0.04721141]],\n",
       "\n",
       "       [[-1.57382761, -0.07732282,  0.03008112],\n",
       "        [-0.67719275, -0.13127505, -1.17161919],\n",
       "        [ 1.46676563, -0.22218116,  0.03758074]]])"
      ]
     },
     "execution_count": 37,
     "metadata": {},
     "output_type": "execute_result"
    }
   ],
   "source": [
    "import numpy as np\n",
    "np.random.randn(3,3,3)     # 3 x 3 x 3 のテンソル"
   ]
  },
  {
   "cell_type": "markdown",
   "metadata": {},
   "source": [
    "`numpy.arange()` は Numpy 版の `range()` 関数で、少数点以下のステップにも対応している。\n",
    "リストではなく `np.ndarray` が生成されることに注意:"
   ]
  },
  {
   "cell_type": "code",
   "execution_count": 54,
   "metadata": {},
   "outputs": [
    {
     "name": "stdout",
     "output_type": "stream",
     "text": [
      "<class 'numpy.ndarray'>\n",
      "[0 1 2 3 4 5 6 7 8 9]\n",
      "[0.  0.1 0.2 0.3 0.4 0.5 0.6 0.7 0.8 0.9]\n"
     ]
    }
   ],
   "source": [
    "import numpy as np\n",
    "print(type(np.arange(10)))     # ndarray を返している\n",
    "print(np.arange(10))           # 組み込み range() 関数と変わらない\n",
    "print(np.arange(1, step=0.1))  # 0.1 刻み"
   ]
  },
  {
   "cell_type": "markdown",
   "metadata": {},
   "source": [
    "### ndarray の算法\n",
    "`np.ndarray` の演算子の性質は以下のとおり。多くの演算が要素単位に行われることに注意する:"
   ]
  },
  {
   "cell_type": "code",
   "execution_count": 43,
   "metadata": {},
   "outputs": [
    {
     "name": "stdout",
     "output_type": "stream",
     "text": [
      "Base matrix:\n",
      "[[1 2 3]\n",
      " [4 5 6]]\n",
      "10 * data:\n",
      "[[10 20 30]\n",
      " [40 50 60]]\n",
      "10 * data + data:\n",
      "[[11 22 33]\n",
      " [44 55 66]]\n",
      "10 * data - data:\n",
      "[[ 9 18 27]\n",
      " [36 45 54]]\n",
      "data * data:\n",
      "[[ 1  4  9]\n",
      " [16 25 36]]\n",
      "1 / data:\n",
      "[[1.         0.5        0.33333333]\n",
      " [0.25       0.2        0.16666667]]\n",
      "data ** 0.5:\n",
      "[[1.         1.41421356 1.73205081]\n",
      " [2.         2.23606798 2.44948974]]\n",
      "data == 2:\n",
      "[[False  True False]\n",
      " [False False False]]\n",
      "data != 2:\n",
      "[[ True False  True]\n",
      " [ True  True  True]]\n",
      "~(data == 2):\n",
      "[[ True False  True]\n",
      " [ True  True  True]]\n",
      "data > 2:\n",
      "[[False False  True]\n",
      " [ True  True  True]]\n"
     ]
    }
   ],
   "source": [
    "import numpy as np\n",
    "data = np.array([[1, 2, 3],[ 4, 5, 6]])\n",
    "print(\"Base matrix:\")\n",
    "print(data)\n",
    "print(\"10 * data:\")\n",
    "print(10*data)                   # スカラー倍\n",
    "print(\"10 * data + data:\")\n",
    "print(10*data + data)            # 要素の加算\n",
    "\n",
    "print(\"10 * data - data:\")\n",
    "print(10*data - data)            # 要素の差\n",
    "print(\"data * data:\")\n",
    "print(data * data)               # 要素ごとの積（配列演算ではないことに注意）\n",
    "\n",
    "print(\"1 / data:\")\n",
    "print(1 / data)                  # 商\n",
    "print(\"data ** 0.5:\")\n",
    "print(data**0.5)                 # べき乗\n",
    "\n",
    "print(\"data == 2:\")\n",
    "print(data == 2)                 # スカラーとの比較\n",
    "print(\"data != 2:\")\n",
    "print(data != 2)                 # スカラーとの比較2\n",
    "print(\"~(data == 2):\")\n",
    "print(~(data == 2))              # スカラーとの比較3\n",
    "print(\"data > 2:\")\n",
    "print(data > 2)                  # スカラーとの比較4"
   ]
  },
  {
   "cell_type": "markdown",
   "metadata": {},
   "source": [
    "`np.ndarray` 同士の比較演算は:"
   ]
  },
  {
   "cell_type": "code",
   "execution_count": 44,
   "metadata": {},
   "outputs": [
    {
     "name": "stdout",
     "output_type": "stream",
     "text": [
      "[[ True False False]\n",
      " [ True False False]]\n"
     ]
    }
   ],
   "source": [
    "import numpy as np\n",
    "data1 = np.array([[1, 2, 3],[ 4, 5, 6]])\n",
    "data2 = np.array([[3, 2, 1],[ 6, 5, 4]])\n",
    "\n",
    "print(\"data1 < data2:\")\n",
    "print(data1 < data2)         # np.ndarray 同士の比較演算"
   ]
  },
  {
   "cell_type": "markdown",
   "metadata": {},
   "source": [
    "単なる代入では `np.ndarray` の要素そのものはコピーされないことに注意（NumPy に限ったことではないが）："
   ]
  },
  {
   "cell_type": "code",
   "execution_count": 47,
   "metadata": {},
   "outputs": [
    {
     "name": "stdout",
     "output_type": "stream",
     "text": [
      "Substitution:\n",
      "[   1    2    3 1234    5    6]\n",
      "Explicit copy:\n",
      "[1 2 3 4 5 6]\n"
     ]
    }
   ],
   "source": [
    "import numpy as np\n",
    "print(\"Substitution:\")\n",
    "data = np.array([1, 2, 3, 4, 5, 6])\n",
    "data1 = data[2:4]                     # 代入なのでデータはコピーされない\n",
    "data1[1] = 1234\n",
    "print(data)                           # data も書き換えられる\n",
    "\n",
    "print(\"Explicit copy:\")\n",
    "data = np.array([1, 2, 3, 4, 5, 6])\n",
    "data1 = data[2:4].copy()              # コピーが必要な場合はこちらを使う\n",
    "data1[1] = 1234\n",
    "print(data)"
   ]
  },
  {
   "cell_type": "markdown",
   "metadata": {},
   "source": [
    "多次元 `np.ndarray` の要素はインデックス（添字）を使ってアクセスできる。  \n",
    "インデックスの与え方は 2 次元リスト、コンマ区切りのいずれも可能:"
   ]
  },
  {
   "cell_type": "code",
   "execution_count": 57,
   "metadata": {},
   "outputs": [
    {
     "name": "stdout",
     "output_type": "stream",
     "text": [
      "[1 2 3]\n",
      "6\n",
      "6\n"
     ]
    }
   ],
   "source": [
    "import numpy as np\n",
    "data = np.array([[1, 2, 3], [4, 5, 6], [7, 8, 9]])\n",
    "\n",
    "print(data[0])              # 1 行目\n",
    "print(data[1][2])           # 2 行、3列目\n",
    "print(data[1,2])            # こちらでも同じ"
   ]
  },
  {
   "cell_type": "markdown",
   "metadata": {},
   "source": [
    "### スライス\n",
    "リスト同様にスライス表記も使える。スライスへのスカラー値の代入は該当するすべての要素が更新される:"
   ]
  },
  {
   "cell_type": "code",
   "execution_count": 64,
   "metadata": {},
   "outputs": [
    {
     "name": "stdout",
     "output_type": "stream",
     "text": [
      "[3 4]\n",
      "[1 2 7 7 5 6]\n"
     ]
    }
   ],
   "source": [
    "import numpy as np\n",
    "data = np.array([1, 2, 3, 4, 5, 6])\n",
    "\n",
    "print(data[2:4])\n",
    "\n",
    "data[2:4] = 7         # スライスに代入してみる\n",
    "print(data)\n"
   ]
  },
  {
   "cell_type": "markdown",
   "metadata": {},
   "source": [
    "多次元配列でのスライス表記は:"
   ]
  },
  {
   "cell_type": "code",
   "execution_count": 62,
   "metadata": {},
   "outputs": [
    {
     "name": "stdout",
     "output_type": "stream",
     "text": [
      "[[1 2 3 4]\n",
      " [5 6 7 8]]\n",
      "[[ 1  2]\n",
      " [ 5  6]\n",
      " [ 9 10]\n",
      " [13 14]]\n",
      "[[3 4]\n",
      " [7 8]]\n",
      "[[3 4]\n",
      " [7 8]]\n"
     ]
    }
   ],
   "source": [
    "import numpy as np\n",
    "data = np.array([[1, 2, 3, 4], [5, 6, 7, 8], [9, 10, 11, 12], [13, 14, 15, 16]])\n",
    "\n",
    "print(data[:2])                # 1-2 行\n",
    "print(data[:,:2])              # 1-2 列\n",
    "\n",
    "print(data[0:2,2:4])           # 1-2 行,3-4 列\n",
    "print(data[:2,2:])             # 上に同じ"
   ]
  },
  {
   "cell_type": "markdown",
   "metadata": {},
   "source": [
    "### Bool インデックス\n",
    "\n",
    "`np.ndarray` における Bool インデックスの使用例を示した。\n",
    "ここで、`data` の各行は、`names` の要素に対応している:"
   ]
  },
  {
   "cell_type": "code",
   "execution_count": 65,
   "metadata": {},
   "outputs": [
    {
     "name": "stdout",
     "output_type": "stream",
     "text": [
      "[[0. 1. 2.]\n",
      " [1. 2. 3.]\n",
      " [2. 3. 4.]\n",
      " [3. 4. 5.]\n",
      " [4. 5. 6.]\n",
      " [5. 6. 7.]\n",
      " [6. 7. 8.]]\n",
      "\n",
      "[ True False False  True  True False False]\n",
      "\n",
      "[[0. 1. 2.]\n",
      " [3. 4. 5.]\n",
      " [4. 5. 6.]]\n",
      "\n",
      "[[1. 2.]\n",
      " [4. 5.]\n",
      " [5. 6.]]\n",
      "[[0. 1. 2.]\n",
      " [3. 4. 5.]\n",
      " [4. 5. 6.]\n",
      " [5. 6. 7.]]\n"
     ]
    }
   ],
   "source": [
    "import numpy as np\n",
    "names = np.array([\"apple\", \"orange\", \"grape\", \"apple\", \"apple\", \"kiwi\", \"orange\"])\n",
    "data = np.zeros((7,3))\n",
    "for i in range(7):\n",
    "    for j in range(3):\n",
    "        data[i,j] = i + j        \n",
    "print(data)\n",
    "print()\n",
    "\n",
    "print(names==\"apple\")             # apple と一致する bool リストを取得する\n",
    "print()\n",
    "\n",
    "print(data[names==\"apple\"])       # apple に対応する行だけ取り出す\n",
    "print()\n",
    "\n",
    "print(data[names==\"apple\", 1:])   # スライス表記と組み合わせも可能\n",
    "\n",
    "print(data[(names==\"apple\") | (names ==\"kiwi\")]) # apple と kiwi 行をとりだす"
   ]
  },
  {
   "cell_type": "markdown",
   "metadata": {},
   "source": [
    "Bool インデックスは多次元配列でも利用できる:"
   ]
  },
  {
   "cell_type": "code",
   "execution_count": 76,
   "metadata": {},
   "outputs": [
    {
     "name": "stdout",
     "output_type": "stream",
     "text": [
      "[[-0.12120045 -0.59257139  1.21046481 -0.99058345 -1.62998535 -1.30219124\n",
      "  -1.64351472]\n",
      " [ 2.26759974  1.83176788  0.83085159 -0.79055313 -0.48373395 -0.05915556\n",
      "   0.83655388]\n",
      " [ 0.50419437 -1.04214763  1.69827135  0.02270963  0.69686814  0.53176455\n",
      "  -0.38752502]]\n",
      "\n",
      "[[ True  True False  True  True  True  True]\n",
      " [False False False  True  True  True False]\n",
      " [False  True False False False False  True]]\n",
      "\n",
      "[[ 0.          0.          1.21046481  0.          0.          0.          0.        ]\n",
      " [ 2.26759974  1.83176788  0.83085159  0.          0.          0.\n",
      "   0.83655388]\n",
      " [ 0.50419437  0.          1.69827135  0.02270963  0.69686814  0.53176455\n",
      "   0.        ]]\n"
     ]
    }
   ],
   "source": [
    "import numpy as np\n",
    "data = np.random.randn(3,7)\n",
    "  \n",
    "print(data)\n",
    "print()\n",
    "print(data < 0)\n",
    "print()\n",
    "data[data < 0] = 0          # 負の要素のみ置き換え\n",
    "print(data)"
   ]
  },
  {
   "cell_type": "markdown",
   "metadata": {},
   "source": [
    "### Fancy インデックス\n",
    "`np.ndarray` では配列の添字をリストで与え、一部の取り出しおよび並べ替えもできる:"
   ]
  },
  {
   "cell_type": "code",
   "execution_count": 196,
   "metadata": {},
   "outputs": [
    {
     "name": "stdout",
     "output_type": "stream",
     "text": [
      "Sample:\n",
      "[[0.  0.1 0.2]\n",
      " [1.  1.1 1.2]\n",
      " [2.  2.1 2.2]\n",
      " [3.  3.1 3.2]\n",
      " [4.  4.1 4.2]\n",
      " [5.  5.1 5.2]\n",
      " [6.  6.1 6.2]]\n",
      "\n",
      "Pick 7, 5, 1 rows:\n",
      "[[6.  6.1 6.2]\n",
      " [0.  0.1 0.2]\n",
      " [4.  4.1 4.2]]\n",
      "\n",
      "Negative index:\n",
      "[[4.  4.1 4.2]\n",
      " [2.  2.1 2.2]]\n"
     ]
    }
   ],
   "source": [
    "import numpy as np\n",
    "data = np.zeros((7,3))\n",
    "for i in range(7):\n",
    "    for j in range(3):\n",
    "        data[i,j] = i + j/10\n",
    "print(\"Sample:\")\n",
    "print(data) \n",
    "print() \n",
    "print(\"Pick 7, 5, 1 rows:\")\n",
    "print(data[[6,0,4]])        # 7, 1, 5 行目を取り出し、並べる、インデックスが 2 重リストになっていることに注意\n",
    "print()\n",
    "\n",
    "print(\"Negative index:\")\n",
    "print(data[[-3,2]])         #負の添字も使える"
   ]
  },
  {
   "cell_type": "markdown",
   "metadata": {},
   "source": [
    "複数の添字リストによって取り出す（行、列）の指定も可能である。結果は一次元リストになる:"
   ]
  },
  {
   "cell_type": "code",
   "execution_count": 199,
   "metadata": {},
   "outputs": [
    {
     "name": "stdout",
     "output_type": "stream",
     "text": [
      "Sample:\n",
      "[[0.  0.1 0.2]\n",
      " [1.  1.1 1.2]\n",
      " [2.  2.1 2.2]\n",
      " [3.  3.1 3.2]\n",
      " [4.  4.1 4.2]\n",
      " [5.  5.1 5.2]\n",
      " [6.  6.1 6.2]]\n",
      "\n",
      "Pick data[0,2], data[2,0], data[4,1]:\n",
      "[0.2 2.  4.1]\n"
     ]
    }
   ],
   "source": [
    "import numpy as np\n",
    "data = np.zeros((7,3))\n",
    "for i in range(7):\n",
    "    for j in range(3):\n",
    "        data[i,j] = i + j/10\n",
    "\n",
    "print(\"Sample:\")\n",
    "print(data) \n",
    "print()\n",
    "print(\"Pick data[0,2], data[2,0], data[4,1]:\")\n",
    "print(data[[0,2,4], [2,0,1]])  # [data[0,2], data[2,0], data[4,1]] と等価"
   ]
  },
  {
   "cell_type": "markdown",
   "metadata": {},
   "source": [
    "以下の例のように Funcy インデックスを連続して適用することも可能である:"
   ]
  },
  {
   "cell_type": "code",
   "execution_count": 94,
   "metadata": {},
   "outputs": [
    {
     "name": "stdout",
     "output_type": "stream",
     "text": [
      "[[ 0.   0.1  0.2]\n",
      " [ 1.   1.1  1.2]\n",
      " [ 2.   2.1  2.2]\n",
      " [ 3.   3.1  3.2]\n",
      " [ 4.   4.1  4.2]\n",
      " [ 5.   5.1  5.2]\n",
      " [ 6.   6.1  6.2]]\n",
      "\n",
      "[[ 1.2  1.1  1. ]\n",
      " [ 3.2  3.1  3. ]\n",
      " [ 5.2  5.1  5. ]]\n"
     ]
    }
   ],
   "source": [
    "import numpy as np\n",
    "data = np.zeros((7,3))\n",
    "for i in range(7):\n",
    "    for j in range(3):\n",
    "       data[i,j] = i + j/10\n",
    "    \n",
    "print(data)\n",
    "print()\n",
    "\n",
    "print(data[[1,3,5]][:,[2,1,0]])      # 2, 4, 6 行を取り出したあとで、列を 3, 2, 1 の順に並び替える。"
   ]
  },
  {
   "cell_type": "markdown",
   "metadata": {},
   "source": [
    "### 転置行列\n",
    "\n",
    "ndarray の転置は、`ndaray.T` で得られる:"
   ]
  },
  {
   "cell_type": "code",
   "execution_count": 203,
   "metadata": {},
   "outputs": [
    {
     "name": "stdout",
     "output_type": "stream",
     "text": [
      "Original:\n",
      "[[0.  0.1 0.2]\n",
      " [1.  1.1 1.2]\n",
      " [2.  2.1 2.2]\n",
      " [3.  3.1 3.2]\n",
      " [4.  4.1 4.2]\n",
      " [5.  5.1 5.2]\n",
      " [6.  6.1 6.2]]\n",
      "\n",
      "Transpose:\n",
      "[[0.  1.  2.  3.  4.  5.  6. ]\n",
      " [0.1 1.1 2.1 3.1 4.1 5.1 6.1]\n",
      " [0.2 1.2 2.2 3.2 4.2 5.2 6.2]]\n"
     ]
    }
   ],
   "source": [
    "import numpy as np\n",
    "data = np.zeros((7,3))\n",
    "for i in range(7):\n",
    "    for j in range(3):\n",
    "        data[i,j] = i + j/10\n",
    "\n",
    "print(\"Sample:\")\n",
    "print(data)\n",
    "print()\n",
    "\n",
    "print(\"Transpose:\")\n",
    "print(data.T)                # 行列の転置（関数でないことに注意）"
   ]
  },
  {
   "cell_type": "markdown",
   "metadata": {},
   "source": [
    "### 汎用関数\n",
    "`np.exp()`, `np.sqrt()` などは `np.ndarray` 要素に対して実行される。  \n",
    "`np.maximum()`は引数に与えられる二つの `np.ndarray` の同じ添字をもつ要素の最大値で構成される `np.ndarray` を  \n",
    "`np.modf()` は各要素の小数部、整数部の `np.ndarray` をリストで返す:"
   ]
  },
  {
   "cell_type": "code",
   "execution_count": 209,
   "metadata": {},
   "outputs": [
    {
     "name": "stdout",
     "output_type": "stream",
     "text": [
      "Sample:\n",
      "[[-2.85574802 -5.85855744  3.1294711   5.33592706]\n",
      " [-0.58282775  1.97001317 -3.25784614 -5.30399032]\n",
      " [-1.01484877  0.2026208   0.12232135 -0.02411796]\n",
      " [-1.37562422  4.01701034 -1.70257343  2.74811638]] [[ 2.23770787 -2.11596678 -0.36781663  3.39674859]\n",
      " [ 6.32293161 -1.58634096 -1.85988616  1.55575025]\n",
      " [ 0.98451453  1.31198565 -1.67222442  2.28948338]\n",
      " [ 4.14208928  4.32074424 -6.8168172   6.12551588]]\n",
      "\n",
      "np.maxumim():\n",
      "[[ 2.23770787 -2.11596678  3.1294711   5.33592706]\n",
      " [ 6.32293161  1.97001317 -1.85988616  1.55575025]\n",
      " [ 0.98451453  1.31198565  0.12232135  2.28948338]\n",
      " [ 4.14208928  4.32074424 -1.70257343  6.12551588]]\n",
      "\n",
      "np.modf():\n",
      "(array([[-0.85574802, -0.85855744,  0.1294711 ,  0.33592706],\n",
      "       [-0.58282775,  0.97001317, -0.25784614, -0.30399032],\n",
      "       [-0.01484877,  0.2026208 ,  0.12232135, -0.02411796],\n",
      "       [-0.37562422,  0.01701034, -0.70257343,  0.74811638]]), array([[-2., -5.,  3.,  5.],\n",
      "       [-0.,  1., -3., -5.],\n",
      "       [-1.,  0.,  0., -0.],\n",
      "       [-1.,  4., -1.,  2.]]))\n",
      "\n",
      "np.sqrt() with reals:\n",
      "[       nan        nan 0.         1.         1.41421356 1.73205081]\n",
      "\n",
      "np.sqrt() with complexes:\n",
      "[0.        +1.41421356j 0.        +1.        j 0.        +0.        j\n",
      " 1.        +0.        j 1.41421356+0.        j 1.73205081+0.        j]\n"
     ]
    },
    {
     "name": "stderr",
     "output_type": "stream",
     "text": [
      "/Users/ikob/anaconda3/lib/python3.6/site-packages/ipykernel_launcher.py:17: RuntimeWarning: invalid value encountered in sqrt\n"
     ]
    }
   ],
   "source": [
    "import numpy as np\n",
    "data1 = np.random.randn(4,4)*4\n",
    "data2 = np.random.randn(4,4)*4\n",
    "print(\"Sample:\")\n",
    "print(data1, data2)\n",
    "print()\n",
    "\n",
    "print(\"np.maxumim():\")\n",
    "print(np.maximum(data1, data2))    # 大きい方の要素を取り出す\n",
    "print()\n",
    "\n",
    "print(\"np.modf():\")\n",
    "print(np.modf(data1))              # 整数・小数部に分けたい\n",
    "print()\n",
    "\n",
    "print(\"np.sqrt() with reals:\")\n",
    "print(np.sqrt([-2, -1, 0, 1, 2, 3]))       # 虚数解は Not a Number (NaN)\n",
    "print()\n",
    "print(\"np.sqrt() with complexes:\")\n",
    "print(np.sqrt([-2 + 0J, -1, 0, 1, 2, 3]))  # 虚数解も欲しいときは、ndarray を複素数型に\n"
   ]
  },
  {
   "cell_type": "markdown",
   "metadata": {},
   "source": [
    "### 配列志向のプログラミング\n",
    "\n",
    "Numpy を利用すれば（他ではループが必要な）配列表記のまま計算を実行することができる。  \n",
    "平面直交座標系の点 (x, y) の中心 (0,0)からの距離を濃淡で表現してみる:"
   ]
  },
  {
   "cell_type": "code",
   "execution_count": 98,
   "metadata": {},
   "outputs": [
    {
     "data": {
      "image/png": "[encoded data removed]",
      "text/plain": [
       "<matplotlib.figure.Figure at 0x11d70e5f8>"
      ]
     },
     "metadata": {},
     "output_type": "display_data"
    }
   ],
   "source": [
    "%matplotlib inline \n",
    "import numpy as np\n",
    "import matplotlib.pyplot as plt\n",
    "\n",
    "xs, ys = np.meshgrid(np.arange(-5,5, 0.1), np.arange(-5,5, 0.1))\n",
    "z = np.sqrt(xs **2 + ys **2)\n",
    "\n",
    "plt.imshow(z, cmap=plt.cm.gray)\n",
    "plt.colorbar()\n",
    "plt.title(\"Image plot $sqrt(x^2 + y^2)$\")\n",
    "plt.show()"
   ]
  },
  {
   "cell_type": "markdown",
   "metadata": {},
   "source": [
    "### 条件付きロジック\n",
    "\n",
    "`np.where(条件、真のときの値、偽のときの値)` は三項表記 `x if 条件 else y` の `np.ndarray` 版である。  \n",
    "直前に説明した、原点からの距離に応じた濃淡の問題を利用して説明する。\n",
    "以下の例では、100 x 100 に分割した平面で原点からの距離が (1.95, 2.05) の範囲であれば 0 を、それ以外は 10 を与えている:"
   ]
  },
  {
   "cell_type": "code",
   "execution_count": 99,
   "metadata": {},
   "outputs": [
    {
     "data": {
      "image/png": "[encoded data removed]",
      "text/plain": [
       "<matplotlib.figure.Figure at 0x11e1e00b8>"
      ]
     },
     "metadata": {},
     "output_type": "display_data"
    }
   ],
   "source": [
    "%matplotlib inline \n",
    "import numpy as np\n",
    "import matplotlib.pyplot as plt\n",
    "\n",
    "xs, ys = np.meshgrid(np.arange(-5,5, 0.1), np.arange(-5,5, 0.1))\n",
    "z = np.sqrt(xs **2 + ys **2)\n",
    "\n",
    "plt.imshow(np.where((1.95 < z) & (z < 2.05), 0, 10), cmap=plt.cm.gray)\n",
    "plt.title(\"Fill grids where $1.95 < sqrt(x^2 + y^2) < 2.05 $\")\n",
    "plt.show()"
   ]
  },
  {
   "cell_type": "markdown",
   "metadata": {},
   "source": [
    "### 統計\n",
    "\n",
    "`np.ndarray` の統計量、総和、平均、標準偏差(`np.sum(), np.mean(), np.std()`)、を計算する関数も用意されている。\n"
   ]
  },
  {
   "cell_type": "code",
   "execution_count": 110,
   "metadata": {},
   "outputs": [
    {
     "name": "stdout",
     "output_type": "stream",
     "text": [
      "Data:\n",
      "[[-0.02078304  1.19900967  0.20116583  0.21196276]\n",
      " [ 1.03140621 -0.6125166   1.22208293 -0.22873657]\n",
      " [-0.23975873  0.18968221  0.38595628 -1.56069793]\n",
      " [ 0.20461808 -0.43282198  0.40910466 -0.57456353]\n",
      " [ 0.87426994  0.24254426  0.11736884  2.60864398]]\n",
      "Mean(All): 0.2613968628500536\n",
      "Total(All): 5.227937257001072\n",
      "Mean(column wise): [0.36995049 0.11717951 0.46713571 0.09132174]\n",
      "Mean(row wise): [ 0.3978388   0.35305899 -0.30620454 -0.09841569  0.96070675]\n"
     ]
    },
    {
     "data": {
      "image/png": "[encoded data removed]",
      "text/plain": [
       "<matplotlib.figure.Figure at 0x11c409898>"
      ]
     },
     "metadata": {},
     "output_type": "display_data"
    }
   ],
   "source": [
    "%matplotlib inline \n",
    "import numpy as np\n",
    "import matplotlib.pyplot as plt\n",
    "\n",
    "data = np.random.randn(5,4)\n",
    "\n",
    "print(\"Data:\")\n",
    "print(data)\n",
    "\n",
    "print(\"Mean(All):\", data.mean())\n",
    "print(\"Total(All):\", data.sum())\n",
    "\n",
    "print(\"Mean(column wise):\", data.mean(axis=0))         # タテ方向の平均をリストで返す\n",
    "print(\"Mean(row wise):\",data.mean(axis=1))             # 横方向の平均\n",
    "\n",
    "plt.imshow(data, cmap=plt.cm.gray)                     # 意味はないが可視化してみる\n",
    "plt.colorbar()\n",
    "plt.show()"
   ]
  },
  {
   "cell_type": "markdown",
   "metadata": {},
   "source": [
    "累積和の計算には `np.cumsum()` が利用できる:"
   ]
  },
  {
   "cell_type": "code",
   "execution_count": 119,
   "metadata": {},
   "outputs": [
    {
     "name": "stdout",
     "output_type": "stream",
     "text": [
      "Cumulative sum:\n",
      "[ 0  1  3  6 10 15 21 28 36 45]\n"
     ]
    },
    {
     "data": {
      "image/png": "[encoded data removed]",
      "text/plain": [
       "<matplotlib.figure.Figure at 0x116cc5940>"
      ]
     },
     "metadata": {},
     "output_type": "display_data"
    }
   ],
   "source": [
    "%matplotlib inline \n",
    "import numpy as np\n",
    "import matplotlib.pyplot as plt\n",
    "\n",
    "data = np.arange(10)\n",
    "print(\"Cumulative sum:\")\n",
    "print(data.cumsum())\n",
    "\n",
    "ax = plt.subplot(1,2,1)\n",
    "plt.plot(data)\n",
    "\n",
    "plt.subplot(1,2,2, sharey=ax)\n",
    "plt.plot(data.cumsum())\n",
    "\n",
    "plt.show()"
   ]
  },
  {
   "cell_type": "markdown",
   "metadata": {},
   "source": [
    "### ブール演算\n",
    "\n",
    "ブール演算では `True` / `False` を返す。\n",
    "これを利用して、ndarray 中の `True` を数えるのは:"
   ]
  },
  {
   "cell_type": "code",
   "execution_count": 123,
   "metadata": {},
   "outputs": [
    {
     "name": "stdout",
     "output_type": "stream",
     "text": [
      "49\n"
     ]
    }
   ],
   "source": [
    "import numpy as np\n",
    "data = np.random.randn(100)\n",
    "\n",
    "print((data > 0).sum())       # 0 より大きい要素の数を数える"
   ]
  },
  {
   "cell_type": "markdown",
   "metadata": {},
   "source": [
    "さらに、`numpy.any()` および `numpy.all` メソッドは ndarray にわたって論理値を検査する。\n",
    "これらのメソッドでは論理値以外でも動作し、この場合 0 以外の値は `True` と評価される。"
   ]
  },
  {
   "cell_type": "code",
   "execution_count": 130,
   "metadata": {},
   "outputs": [
    {
     "name": "stdout",
     "output_type": "stream",
     "text": [
      "data: [False  True  True  True]\n",
      "data.all(): False\n",
      "data.any(): True\n",
      "\n",
      "data: [0 1 2 3 4 5]\n",
      "data.all(): False\n",
      "data.any(): True\n"
     ]
    }
   ],
   "source": [
    "data = np.array([False, True, True, True])\n",
    "print(\"data:\",data)\n",
    "print(\"data.all():\", data.all())\n",
    "print(\"data.any():\", data.any())\n",
    "print(\"\")\n",
    "data = np.array([0,1,2,3,4,5])\n",
    "print(\"data:\",data)\n",
    "print(\"data.all():\", data.all())\n",
    "print(\"data.any():\", data.any())"
   ]
  },
  {
   "cell_type": "markdown",
   "metadata": {},
   "source": [
    "### ソート\n",
    "\n",
    "list と同様に `np.sort()` によってソート（並べ替え）をおこなう。  \n",
    "`np.sort()` の第一引数にソート対象の次元を与えることもできる。  \n",
    "キーワード引数 `kind` でソートアルゴリズムの指定もできる。  \n",
    "逆順にしたい場合は、`new = old[::-1]`とすれば良い。"
   ]
  },
  {
   "cell_type": "code",
   "execution_count": 136,
   "metadata": {},
   "outputs": [
    {
     "name": "stdout",
     "output_type": "stream",
     "text": [
      "Sample:\n",
      "[ 1.63152519  0.90061293  1.51034952  0.24006905 -0.99878574]\n",
      "Sorted:\n",
      "[-0.99878574  0.24006905  0.90061293  1.51034952  1.63152519]\n",
      "Reverse:\n",
      "[ 1.63152519  1.51034952  0.90061293  0.24006905 -0.99878574]\n",
      "2D Sample:\n",
      "[[-0.0045587  -0.17275276 -0.05330216 -0.4212952 ]\n",
      " [-2.03376098  0.07177864 -1.04034823  0.91599479]\n",
      " [-0.56874863 -0.84804534 -1.00323581  0.97183046]\n",
      " [ 0.73028927 -0.17050413  0.24199593 -0.10922277]\n",
      " [ 0.26836155 -0.14156026  1.08342267 -1.28399945]]\n",
      "Sorted without axis:\n",
      "[[-0.4212952  -0.17275276 -0.05330216 -0.0045587 ]\n",
      " [-2.03376098 -1.04034823  0.07177864  0.91599479]\n",
      " [-1.00323581 -0.84804534 -0.56874863  0.97183046]\n",
      " [-0.17050413 -0.10922277  0.24199593  0.73028927]\n",
      " [-1.28399945 -0.14156026  0.26836155  1.08342267]]\n",
      "\n",
      "Sorted with axis:\n",
      "[[-2.03376098 -1.04034823 -0.56874863 -0.0045587 ]\n",
      " [-1.28399945 -0.84804534 -0.05330216  0.73028927]\n",
      " [-1.00323581 -0.17275276  0.07177864  0.91599479]\n",
      " [-0.4212952  -0.14156026  0.24199593  0.97183046]\n",
      " [-0.17050413 -0.10922277  0.26836155  1.08342267]]\n"
     ]
    }
   ],
   "source": [
    "%matplotlib inline \n",
    "import numpy as np\n",
    "import matplotlib.pyplot as plt\n",
    "\n",
    "data = np.random.randn(5)\n",
    "print(\"Sample:\")\n",
    "print(data)\n",
    "\n",
    "print(\"Sorted:\")\n",
    "data.sort()\n",
    "print(data)\n",
    "\n",
    "print(\"Reverse:\")\n",
    "data = data[::-1]                # ソート結果を逆順にする\n",
    "print(data)\n",
    "\n",
    "data = np.random.randn(5,4)      # 2 次元\n",
    "print(\"2D Sample:\")\n",
    "print(data)\n",
    "\n",
    "print(\"Sorted without axis:\")\n",
    "data.sort()                      # 次元（軸）が与えられない場合はもっとも低い次元でソート\n",
    "print(data)                      # この場合、行方向でソート\n",
    "print()\n",
    "\n",
    "print(\"Sorted with axis:\")\n",
    "data.sort(0)\n",
    "print(data)"
   ]
  },
  {
   "cell_type": "markdown",
   "metadata": {},
   "source": [
    "### Unique など\n",
    "\n",
    "1次元 ndarray 向けの関数として、`np.unique(ndarray)` もよく使われる。\n",
    "これは、ソート済みのユニークな値を ndarray として返す。\n",
    "また、`np.in1d(ndarray, 要素のリスト)`は ndarray の要素ごとに第2引数のリストの有無を検査し、結果を ndarray として返す:"
   ]
  },
  {
   "cell_type": "code",
   "execution_count": 140,
   "metadata": {},
   "outputs": [
    {
     "name": "stdout",
     "output_type": "stream",
     "text": [
      "np.unique():\n",
      "['apple' 'banana' 'kiwi' 'orange']\n",
      "['apple' 'banana' 'kiwi' 'orange']\n",
      "np.in1d():\n",
      "[ True False False  True  True False]\n"
     ]
    }
   ],
   "source": [
    "import numpy as np\n",
    "\n",
    "data = np.array([\"apple\", \"banana\", \"orange\", \"kiwi\", \"apple\", \"banana\"])\n",
    "\n",
    "print(\"np.unique():\")\n",
    "print(np.unique(data))\n",
    "print(np.array(sorted(set(data))))    # 集合(セット)を使えば等価になる\n",
    "\n",
    "print(\"np.in1d():\")\n",
    "print(np.in1d(data, [\"apple\", \"kiwi\"]))"
   ]
  },
  {
   "cell_type": "markdown",
   "metadata": {},
   "source": [
    "### 線形代数\n",
    "NumPy では行列積（Innter Product）は `np.dot()` をつかう。\n",
    "NumPy で二項演算子 `*` は要素同士の積になることに注意、どうしても 演算子を使いたい場合は `@` が用意されている:"
   ]
  },
  {
   "cell_type": "code",
   "execution_count": 148,
   "metadata": {},
   "outputs": [
    {
     "name": "stdout",
     "output_type": "stream",
     "text": [
      "Inner product:\n",
      "[[22 28]\n",
      " [49 64]]\n",
      "Another Inner product:\n",
      "[[22 28]\n",
      " [49 64]]\n",
      "Inner product with @ operator:\n",
      "[[22 28]\n",
      " [49 64]]\n",
      "Product with * operator:\n",
      "[[ 3  8 15]\n",
      " [24 35 48]]\n"
     ]
    }
   ],
   "source": [
    "import numpy as np\n",
    "\n",
    "a = np.array([[1, 2, 3], [4, 5, 6]])\n",
    "a2 = np.array([[3, 4, 5], [6, 7, 8]])\n",
    "b = np.array ([[1,2],[3,4],[5,6]])\n",
    "\n",
    "print(\"Inner product:\")\n",
    "print(a.dot(b))\n",
    "print(\"Another Inner product:\")\n",
    "print(np.dot(a, b))      # 上と等価\n",
    "print(\"Inner product with @ operator:\")\n",
    "print(a @ b)             # 行列積には演算子 @ を使う\n",
    "\n",
    "print(\"Product with * operator:\")\n",
    "print(a * a2)            # 演算子 * は要素同士の積"
   ]
  },
  {
   "cell_type": "markdown",
   "metadata": {},
   "source": [
    "`np.linalg` モジュールは標準的な行列分解、逆行列、固有値計算、連立一次方程式の解を計算する。  \n",
    "これらは、標準の線形代数ライブラリ BLAS, LAPACK が利用されている:"
   ]
  },
  {
   "cell_type": "code",
   "execution_count": 176,
   "metadata": {},
   "outputs": [
    {
     "name": "stdout",
     "output_type": "stream",
     "text": [
      "Sample:\n",
      "[[ 0.40571503  0.15956574 -0.06914652 ... -0.95803849 -0.50062831\n",
      "  -1.23623082]\n",
      " [-0.69119698  0.47263478 -1.53441367 ... -0.38879427  0.32756343\n",
      "   0.27824722]\n",
      " [ 0.12305503 -0.9163054  -0.61096572 ...  1.41324628 -0.03782237\n",
      "  -0.3678736 ]\n",
      " ...\n",
      " [ 0.31458231 -0.59750485  0.12898289 ...  1.17386313  1.23935184\n",
      "  -0.80400266]\n",
      " [-0.4091114  -2.0871686  -0.1302501  ... -1.98855968  1.26733457\n",
      "   0.62388348]\n",
      " [ 0.93818299 -0.14474953 -0.51140144 ...  1.02327206  1.9444703\n",
      "   0.21271274]]\n",
      "M = X + X.T:\n",
      "[[ 0.81143007 -0.53163125  0.05390852 ... -0.64345619 -0.90973971\n",
      "  -0.29804783]\n",
      " [-0.53163125  0.94526956 -2.45071907 ... -0.98629913 -1.75960517\n",
      "   0.13349769]\n",
      " [ 0.05390852 -2.45071907 -1.22193145 ...  1.54222917 -0.16807247\n",
      "  -0.87927504]\n",
      " ...\n",
      " [-0.64345619 -0.98629913  1.54222917 ...  2.34772626 -0.74920784\n",
      "   0.2192694 ]\n",
      " [-0.90973971 -1.75960517 -0.16807247 ... -0.74920784  2.53466913\n",
      "   2.56835378]\n",
      " [-0.29804783  0.13349769 -0.87927504 ...  0.2192694   2.56835378\n",
      "   0.42542549]]\n",
      "M^-1:\n",
      "[[-0.08117179 -0.00490618 -0.01493198 ...  0.01988024  0.06583788\n",
      "   0.00511918]\n",
      " [-0.00490618 -0.01183699  0.00714379 ...  0.0056035   0.0209376\n",
      "  -0.00281527]\n",
      " [-0.01493198  0.00714379 -0.00238892 ... -0.00885748  0.00474843\n",
      "  -0.00124253]\n",
      " ...\n",
      " [ 0.01988024  0.0056035  -0.00885748 ... -0.00542105 -0.05005583\n",
      "  -0.00439595]\n",
      " [ 0.06583788  0.0209376   0.00474843 ... -0.05005583 -0.13612463\n",
      "  -0.01046945]\n",
      " [ 0.00511918 -0.00281527 -0.00124253 ... -0.00439595 -0.01046945\n",
      "  -0.00940173]]\n",
      "M.dot(M^-1):\n",
      "[[ 1.00000000e+00  8.87484530e-15  2.03830008e-15 ... -2.82551760e-14\n",
      "   4.12239687e-14 -1.21430643e-14]\n",
      " [ 8.95117314e-15  1.00000000e+00  6.38725184e-15 ...  3.94823063e-15\n",
      "  -8.02136135e-15  1.50782165e-14]\n",
      " [ 1.46549439e-14  8.93729535e-15  1.00000000e+00 ... -8.60422844e-15\n",
      "  -3.08642001e-14  1.12826415e-14]\n",
      " ...\n",
      " [-3.59989816e-14  1.97064587e-14 -6.49480469e-15 ...  1.00000000e+00\n",
      "  -4.60742555e-15  1.52933222e-14]\n",
      " [-2.83661983e-14  5.06192310e-15 -5.91193761e-15 ...  3.10168558e-15\n",
      "   1.00000000e+00 -1.19071419e-14]\n",
      " [-4.21884749e-14 -1.79023463e-15  7.23032745e-15 ... -1.56541446e-14\n",
      "  -4.88498131e-15  1.00000000e+00]]\n"
     ]
    },
    {
     "data": {
      "image/png": "[encoded data removed]",
      "text/plain": [
       "<matplotlib.figure.Figure at 0x116fc7f60>"
      ]
     },
     "metadata": {},
     "output_type": "display_data"
    },
    {
     "name": "stdout",
     "output_type": "stream",
     "text": [
      "[[-6.10622664e-16 -1.33226763e-15 -4.16333634e-16 ... -4.44089210e-16\n",
      "   1.11022302e-16 -4.44089210e-16]\n",
      " [-1.11022302e-16 -1.49880108e-15  4.44089210e-16 ...  1.66533454e-16\n",
      "   2.77555756e-15  1.22124533e-15]\n",
      " [ 1.38777878e-17  2.22044605e-16  1.11022302e-16 ...  2.22044605e-16\n",
      "  -2.91433544e-16 -1.77635684e-15]\n",
      " ...\n",
      " [ 0.00000000e+00 -1.11022302e-16 -2.77555756e-17 ... -6.66133815e-16\n",
      "  -2.22044605e-16  6.66133815e-16]\n",
      " [ 0.00000000e+00  0.00000000e+00 -5.55111512e-17 ...  6.66133815e-16\n",
      "  -2.44249065e-15  1.44328993e-15]\n",
      " [ 0.00000000e+00 -2.77555756e-17 -1.11022302e-16 ... -6.66133815e-16\n",
      "  -8.88178420e-16 -5.82867088e-16]]\n"
     ]
    },
    {
     "data": {
      "image/png": "[encoded data removed]",
      "text/plain": [
       "<matplotlib.figure.Figure at 0x116d724e0>"
      ]
     },
     "metadata": {},
     "output_type": "display_data"
    }
   ],
   "source": [
    "import numpy as np\n",
    "import matplotlib.pyplot as plt\n",
    "from numpy.linalg import inv, qr\n",
    "\n",
    "X = np.random.randn(1000,1000)\n",
    "print(\"Sample:\")\n",
    "print(X)\n",
    "\n",
    "print(\"M = X + X.T:\")\n",
    "M = X + X.T              # 対称行列を得る\n",
    "print(M)\n",
    "print(\"M^-1:\")\n",
    "print(inv(M))            # 逆行列を計算\n",
    "\n",
    "print(\"M.dot(M^-1):\")\n",
    "print(M.dot(inv(M)))     # 単位行列になる\n",
    "\n",
    "plt.imshow(M.dot(inv(M)), cmap=plt.cm.gray, vmin =0, vmax=1) # わからないので可視化してみる\n",
    "plt.colorbar()\n",
    "plt.show()\n",
    "\n",
    "Q, R = qr(X)             # QR 分解　$X = Q \\cdot R$\n",
    "print(X - Q@R)\n",
    "plt.imshow(X - Q@R, cmap=plt.cm.gray, vmin =0, vmax=1) # こっちも可視化してみる\n",
    "plt.colorbar()\n",
    "plt.show()"
   ]
  },
  {
   "cell_type": "markdown",
   "metadata": {},
   "source": [
    "### 擬似乱数\n",
    "\n",
    "`np.randome` モジュールは各種の確率分布をもつ乱数を生成する。  \n",
    "正規分布の生成には、`np.random.randn()` や `np.random.normal()` が使える:"
   ]
  },
  {
   "cell_type": "code",
   "execution_count": 24,
   "metadata": {},
   "outputs": [
    {
     "data": {
      "text/plain": [
       "[<matplotlib.lines.Line2D at 0x111ec9518>]"
      ]
     },
     "execution_count": 24,
     "metadata": {},
     "output_type": "execute_result"
    },
    {
     "data": {
      "image/png": "[encoded data removed]",
      "text/plain": [
       "<matplotlib.figure.Figure at 0x1115e6f98>"
      ]
     },
     "metadata": {},
     "output_type": "display_data"
    }
   ],
   "source": [
    "%matplotlib inline \n",
    "import numpy as np\n",
    "import matplotlib.pyplot as plt\n",
    "np.random.poisson\n",
    "N = 1000000\n",
    "samples = np.random.normal(size=N)\n",
    "bins = np.zeros(100)\n",
    "for i in range(N):\n",
    "        if -5 < samples[i] and samples[i] < 5:\n",
    "            bins[int(samples[i] * 10 + 50)] += 1\n",
    "plt.plot(bins)"
   ]
  },
  {
   "cell_type": "markdown",
   "metadata": {},
   "source": [
    "このほか `np.random` では以下の乱数生成関数も使える:\n",
    "\n",
    "|分布    |関数        |備考         |\n",
    "|:------|:-----------|:-----------|\n",
    "|一様    |rand()      |            |\n",
    "|一様    |uniform()   |区間\\[0, 1)  |\n",
    "|正規    |randn()     |分散1, 平均0 |\n",
    "|正規    |normel()    |            |\n",
    "|二項    |binomial()  |            |"
   ]
  },
  {
   "cell_type": "markdown",
   "metadata": {},
   "source": [
    "`np.random` 擬似乱数の seed は、`np.random.seed()`で与えることができる。  \n",
    "この seed の設定はプログラム内全ての np.random に影響する。  \n",
    "別の擬似乱数列が欲しい場合は以下のようにすれば良い:"
   ]
  },
  {
   "cell_type": "code",
   "execution_count": 210,
   "metadata": {},
   "outputs": [
    {
     "data": {
      "text/plain": [
       "0.1915194503788923"
      ]
     },
     "execution_count": 210,
     "metadata": {},
     "output_type": "execute_result"
    }
   ],
   "source": [
    "rng = np.random.RandomState(1234)\n",
    "rng.rand()"
   ]
  }
 ],
 "metadata": {
  "celltoolbar": "Slideshow",
  "kernelspec": {
   "display_name": "Python 3",
   "language": "python",
   "name": "python3"
  },
  "language_info": {
   "codemirror_mode": {
    "name": "ipython",
    "version": 3
   },
   "file_extension": ".py",
   "mimetype": "text/x-python",
   "name": "python",
   "nbconvert_exporter": "python",
   "pygments_lexer": "ipython3",
   "version": "3.6.4"
  }
 },
 "nbformat": 4,
 "nbformat_minor": 2
}
