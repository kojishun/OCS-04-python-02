{
 "cells": [
  {
   "cell_type": "markdown",
   "metadata": {
    "slideshow": {
     "slide_type": "slide"
    }
   },
   "source": [
    "## NumPy\n",
    "\n",
    "この資料は[The Python Tutorial](https://docs.python.org/3.6/tutorial/index.html#the-python-tutorial)\n",
    "    ([日本語版](https://docs.python.jp/3/tutorial/)) および [Python for Data Analysis:Wrangling with Pandas, Numpy and IPython](http://shop.oreilly.com/product/0636920050896.do)を参考に作成した。  "
   ]
  },
  {
   "cell_type": "markdown",
   "metadata": {},
   "source": [
    "NumPy(Numerical Python) は Python の数値計算にとって重要なパッケージの一つ。\n",
    "\n",
    "NumPy は多次元配列、配列全体にわたる数値計算、ディスクの読み書きやメモリマップドファイル、線形代数、乱数生成、フーリエ変換、C, C++, FORTRAN ライブラリへの API などを含む。\n",
    "\n",
    "Numpy はモジュールを読み込んで利用する:\n",
    "```Python\n",
    "import numpy as np\n",
    "```\n",
    "\n",
    "### 多次元配列\n",
    "\n",
    "NumPy で最も重要なクラス、`np.ndarray`、は多次元配列を扱うクラスである。\n",
    "\n",
    "`np.ndarray` の生成方法はいくつかある:\n",
    "- `np.ndarray()` は要素が初期化されないことに注意すること。  \n",
    "    `np.array()`, `np.zeros()` の方が有用\n",
    "- `np.zeros()` は全てが 0 の、`np.ones()` は全てが 1 の配列を生成する。\n",
    "- `np.array()` では\n",
    "- この後の説明では、乱数を生成する `np.random.randn()` を多く利用する。  \n",
    "    `np.random` の説明は後述する"
   ]
  },
  {
   "cell_type": "code",
   "execution_count": 1,
   "metadata": {},
   "outputs": [
    {
     "name": "stdout",
     "output_type": "stream",
     "text": [
      "numpy.ndarray():\n",
      "[[ 1.49166815e-154  2.00389147e+000 -3.95252517e-323  0.00000000e+000]\n",
      " [ 2.12199579e-314  0.00000000e+000  0.00000000e+000  0.00000000e+000]\n",
      " [ 1.77229088e-310  3.50977866e+064  0.00000000e+000  0.00000000e+000]\n",
      " [             nan              nan  3.50977942e+064  1.11253913e-308]]\n",
      "\n",
      "Sample Vector:\n",
      "[0. 0. 0. 0.]\n",
      "Dimension: 1\n",
      "Shape: (4,)\n",
      "Type: float64\n",
      "\n",
      "Sample Matrix:\n",
      "[[0. 0. 0.]\n",
      " [0. 0. 0.]]\n",
      "Dimension: 2\n",
      "Shape: (2, 3)\n",
      "Type: float64\n",
      "\n",
      "Sample Tensor:\n",
      "[[[1. 1. 1.]\n",
      "  [1. 1. 1.]\n",
      "  [1. 1. 1.]]\n",
      "\n",
      " [[1. 1. 1.]\n",
      "  [1. 1. 1.]\n",
      "  [1. 1. 1.]]\n",
      "\n",
      " [[1. 1. 1.]\n",
      "  [1. 1. 1.]\n",
      "  [1. 1. 1.]]]\n",
      "Dimension: 3\n",
      "Shape: (3, 3, 3)\n",
      "Type: float64\n"
     ]
    }
   ],
   "source": [
    "import numpy as np\n",
    "\n",
    "print(\"numpy.ndarray():\")\n",
    "data0 = np.ndarray([4,4])         # 次元要素の数をリストで与える、ここでは 4 x 4 の行列\n",
    "print(data0)\n",
    "print()\n",
    "\n",
    "print(\"Sample Vector:\")\n",
    "data1 = np.zeros(4)               # 長さ 4 のベクトル（１次元配列）,ゼロで初期化\n",
    "print(data1)                      # 確認\n",
    "print(\"Dimension:\", data1.ndim)   # 次元を知りたい\n",
    "print(\"Shape:\", data1.shape)      # サイズ\n",
    "print(\"Type:\", data1.dtype)       # 要素の型\n",
    "print()\n",
    "\n",
    "print(\"Sample Matrix:\")\n",
    "data2 = np.zeros([2,3])           # 2 x 3 の行列を作る, ゼロで初期化\n",
    "print(data2)                      # 行列の確認\n",
    "print(\"Dimension:\", data2.ndim)   # 次元を知りたい\n",
    "print(\"Shape:\", data2.shape)      # サイズ\n",
    "print(\"Type:\", data2.dtype)       # 要素の型\n",
    "print()\n",
    "\n",
    "print(\"Sample Tensor:\")\n",
    "data3 = np.ones([3 ,3, 3])        # 3 x 3 x 3 のテンソルを作る\n",
    "print(data3)                      # 行列の確認\n",
    "print(\"Dimension:\", data3.ndim)   # 次元を知りたい\n",
    "print(\"Shape:\", data3.shape)      # サイズ\n",
    "print(\"Type:\", data3.dtype)       # 要素の型"
   ]
  },
  {
   "cell_type": "markdown",
   "metadata": {},
   "source": [
    "すでにあるリストあるいはタプルから `np.ndarray` を生成するには、`np.array()` を使う:"
   ]
  },
  {
   "cell_type": "code",
   "execution_count": 2,
   "metadata": {},
   "outputs": [
    {
     "name": "stdout",
     "output_type": "stream",
     "text": [
      "Sample Vector\n",
      "<class 'numpy.ndarray'>\n",
      "[1 2 3]\n",
      "Dimension: 1\n",
      "Shape: (3,)\n",
      "Type: int64\n",
      "\n",
      "Sample Matrix\n",
      "[[1 2 3]\n",
      " [4 5 6]\n",
      " [7 8 9]]\n",
      "Dimension: 2\n",
      "Shape: (3, 3)\n",
      "Type: int64\n",
      "\n"
     ]
    }
   ],
   "source": [
    "import numpy as np\n",
    "print(\"Sample Vector\")\n",
    "data1 = np.array([1, 2, 3])       # リストから作る\n",
    "print(type(data1))\n",
    "print(data1)\n",
    "print(\"Dimension:\", data1.ndim)   # 次元を知りたい\n",
    "print(\"Shape:\", data1.shape)      # サイズ\n",
    "print(\"Type:\", data1.dtype)       # 要素の型\n",
    "print()\n",
    "print(\"Sample Matrix\")\n",
    "data2 = np.array([[1, 2, 3],[4, 5, 6], [7, 8, 9]])   # 2 次元リストでも同様\n",
    "print(data2)\n",
    "print(\"Dimension:\", data2.ndim)   # 次元を知りたい\n",
    "print(\"Shape:\", data2.shape)      # サイズ\n",
    "print(\"Type:\", data2.dtype)       # 要素の型\n",
    "print()"
   ]
  },
  {
   "cell_type": "markdown",
   "metadata": {},
   "source": [
    "`np.random.randn()` も `np.ndarray` を生成する。  \n",
    "ただし引数は次元の要素数を可変長引数として与える（リストではない）ことに注意:"
   ]
  },
  {
   "cell_type": "code",
   "execution_count": 3,
   "metadata": {},
   "outputs": [
    {
     "data": {
      "text/plain": [
       "array([[[-1.2107916 , -0.24335555,  0.2470314 ],\n",
       "        [-0.46243227,  0.20296627,  0.63528111],\n",
       "        [-0.66865618, -1.41109542,  1.3357805 ]],\n",
       "\n",
       "       [[-2.67210397,  0.81850749,  0.72434184],\n",
       "        [-0.09983657, -0.33493416, -2.03471688],\n",
       "        [-1.02370143, -0.08858653,  0.16506422]],\n",
       "\n",
       "       [[-0.0153109 , -2.3501081 , -1.38390101],\n",
       "        [-0.89988717, -0.08700939, -0.55811184],\n",
       "        [-0.24570279, -0.33354633,  0.99212168]]])"
      ]
     },
     "execution_count": 3,
     "metadata": {},
     "output_type": "execute_result"
    }
   ],
   "source": [
    "import numpy as np\n",
    "np.random.randn(3,3,3)     # 3 x 3 x 3 のテンソル"
   ]
  },
  {
   "cell_type": "markdown",
   "metadata": {},
   "source": [
    "`numpy.arange()` は Numpy 版の `range()` 関数で、少数点以下のステップにも対応している。\n",
    "リストではなく `np.ndarray` が生成されることに注意:"
   ]
  },
  {
   "cell_type": "code",
   "execution_count": 4,
   "metadata": {},
   "outputs": [
    {
     "name": "stdout",
     "output_type": "stream",
     "text": [
      "<class 'numpy.ndarray'>\n",
      "[0 1 2 3 4 5 6 7 8 9]\n",
      "[0.  0.1 0.2 0.3 0.4 0.5 0.6 0.7 0.8 0.9]\n"
     ]
    }
   ],
   "source": [
    "import numpy as np\n",
    "print(type(np.arange(10)))     # ndarray を返している\n",
    "print(np.arange(10))           # 組み込み range() 関数と変わらない\n",
    "print(np.arange(1, step=0.1))  # 0.1 刻み"
   ]
  },
  {
   "cell_type": "markdown",
   "metadata": {},
   "source": [
    "### ndarray の算法\n",
    "`np.ndarray` の演算子の性質は以下のとおり。多くの演算が要素単位に行われることに注意する:"
   ]
  },
  {
   "cell_type": "code",
   "execution_count": 5,
   "metadata": {},
   "outputs": [
    {
     "name": "stdout",
     "output_type": "stream",
     "text": [
      "Base matrix:\n",
      "[[1 2 3]\n",
      " [4 5 6]]\n",
      "10 * data:\n",
      "[[10 20 30]\n",
      " [40 50 60]]\n",
      "10 * data + data:\n",
      "[[11 22 33]\n",
      " [44 55 66]]\n",
      "10 * data - data:\n",
      "[[ 9 18 27]\n",
      " [36 45 54]]\n",
      "data * data:\n",
      "[[ 1  4  9]\n",
      " [16 25 36]]\n",
      "1 / data:\n",
      "[[1.         0.5        0.33333333]\n",
      " [0.25       0.2        0.16666667]]\n",
      "data ** 0.5:\n",
      "[[1.         1.41421356 1.73205081]\n",
      " [2.         2.23606798 2.44948974]]\n",
      "data == 2:\n",
      "[[False  True False]\n",
      " [False False False]]\n",
      "data != 2:\n",
      "[[ True False  True]\n",
      " [ True  True  True]]\n",
      "~(data == 2):\n",
      "[[ True False  True]\n",
      " [ True  True  True]]\n",
      "data > 2:\n",
      "[[False False  True]\n",
      " [ True  True  True]]\n"
     ]
    }
   ],
   "source": [
    "import numpy as np\n",
    "data = np.array([[1, 2, 3],[ 4, 5, 6]])\n",
    "print(\"Base matrix:\")\n",
    "print(data)\n",
    "print(\"10 * data:\")\n",
    "print(10*data)                   # スカラー倍\n",
    "print(\"10 * data + data:\")\n",
    "print(10*data + data)            # 要素の加算\n",
    "\n",
    "print(\"10 * data - data:\")\n",
    "print(10*data - data)            # 要素の差\n",
    "print(\"data * data:\")\n",
    "print(data * data)               # 要素ごとの積（配列演算ではないことに注意）\n",
    "\n",
    "print(\"1 / data:\")\n",
    "print(1 / data)                  # 商\n",
    "print(\"data ** 0.5:\")\n",
    "print(data**0.5)                 # べき乗\n",
    "\n",
    "print(\"data == 2:\")\n",
    "print(data == 2)                 # スカラーとの比較\n",
    "print(\"data != 2:\")\n",
    "print(data != 2)                 # スカラーとの比較2\n",
    "print(\"~(data == 2):\")\n",
    "print(~(data == 2))              # スカラーとの比較3\n",
    "print(\"data > 2:\")\n",
    "print(data > 2)                  # スカラーとの比較4"
   ]
  },
  {
   "cell_type": "markdown",
   "metadata": {},
   "source": [
    "`np.ndarray` 同士の比較演算は:"
   ]
  },
  {
   "cell_type": "code",
   "execution_count": 6,
   "metadata": {},
   "outputs": [
    {
     "name": "stdout",
     "output_type": "stream",
     "text": [
      "data1 < data2:\n",
      "[[ True False False]\n",
      " [ True False False]]\n"
     ]
    }
   ],
   "source": [
    "import numpy as np\n",
    "data1 = np.array([[1, 2, 3],[ 4, 5, 6]])\n",
    "data2 = np.array([[3, 2, 1],[ 6, 5, 4]])\n",
    "\n",
    "print(\"data1 < data2:\")\n",
    "print(data1 < data2)         # np.ndarray 同士の比較演算"
   ]
  },
  {
   "cell_type": "markdown",
   "metadata": {},
   "source": [
    "単なる代入では `np.ndarray` の要素そのものはコピーされないことに注意（NumPy に限ったことではないが）："
   ]
  },
  {
   "cell_type": "code",
   "execution_count": 7,
   "metadata": {},
   "outputs": [
    {
     "name": "stdout",
     "output_type": "stream",
     "text": [
      "Substitution:\n",
      "[   1    2    3 1234    5    6]\n",
      "Explicit copy:\n",
      "[1 2 3 4 5 6]\n"
     ]
    }
   ],
   "source": [
    "import numpy as np\n",
    "print(\"Substitution:\")\n",
    "data = np.array([1, 2, 3, 4, 5, 6])\n",
    "data1 = data[2:4]                     # 代入なのでデータはコピーされない\n",
    "data1[1] = 1234\n",
    "print(data)                           # data も書き換えられる\n",
    "\n",
    "print(\"Explicit copy:\")\n",
    "data = np.array([1, 2, 3, 4, 5, 6])\n",
    "data1 = data[2:4].copy()              # コピーが必要な場合はこちらを使う\n",
    "data1[1] = 1234\n",
    "print(data)"
   ]
  },
  {
   "cell_type": "markdown",
   "metadata": {},
   "source": [
    "多次元 `np.ndarray` の要素はインデックス（添字）を使ってアクセスできる。  \n",
    "インデックスの与え方は 2 次元リスト、コンマ区切りのいずれも可能:"
   ]
  },
  {
   "cell_type": "code",
   "execution_count": 8,
   "metadata": {},
   "outputs": [
    {
     "name": "stdout",
     "output_type": "stream",
     "text": [
      "[1 2 3]\n",
      "6\n",
      "6\n"
     ]
    }
   ],
   "source": [
    "import numpy as np\n",
    "data = np.array([[1, 2, 3], [4, 5, 6], [7, 8, 9]])\n",
    "\n",
    "print(data[0])              # 1 行目\n",
    "print(data[1][2])           # 2 行、3列目\n",
    "print(data[1,2])            # こちらでも同じ"
   ]
  },
  {
   "cell_type": "markdown",
   "metadata": {},
   "source": [
    "### スライス\n",
    "リスト同様にスライス表記も使える。スライスへのスカラー値の代入は該当するすべての要素が更新される:"
   ]
  },
  {
   "cell_type": "code",
   "execution_count": 9,
   "metadata": {},
   "outputs": [
    {
     "name": "stdout",
     "output_type": "stream",
     "text": [
      "[3 4]\n",
      "[1 2 7 7 5 6]\n"
     ]
    }
   ],
   "source": [
    "import numpy as np\n",
    "data = np.array([1, 2, 3, 4, 5, 6])\n",
    "\n",
    "print(data[2:4])\n",
    "\n",
    "data[2:4] = 7         # スライスに代入してみる\n",
    "print(data)\n"
   ]
  },
  {
   "cell_type": "markdown",
   "metadata": {},
   "source": [
    "多次元配列でのスライス表記は:"
   ]
  },
  {
   "cell_type": "code",
   "execution_count": 10,
   "metadata": {},
   "outputs": [
    {
     "name": "stdout",
     "output_type": "stream",
     "text": [
      "[[1 2 3 4]\n",
      " [5 6 7 8]]\n",
      "[[ 1  2]\n",
      " [ 5  6]\n",
      " [ 9 10]\n",
      " [13 14]]\n",
      "[[3 4]\n",
      " [7 8]]\n",
      "[[3 4]\n",
      " [7 8]]\n"
     ]
    }
   ],
   "source": [
    "import numpy as np\n",
    "data = np.array([[1, 2, 3, 4], [5, 6, 7, 8], [9, 10, 11, 12], [13, 14, 15, 16]])\n",
    "\n",
    "print(data[:2])                # 1-2 行\n",
    "print(data[:,:2])              # 1-2 列\n",
    "\n",
    "print(data[0:2,2:4])           # 1-2 行,3-4 列\n",
    "print(data[:2,2:])             # 上に同じ"
   ]
  },
  {
   "cell_type": "markdown",
   "metadata": {},
   "source": [
    "### Bool インデックス\n",
    "\n",
    "`np.ndarray` における Bool インデックスの使用例を示した。\n",
    "ここで、`data` の各行は、`names` の要素に対応している:"
   ]
  },
  {
   "cell_type": "code",
   "execution_count": 11,
   "metadata": {},
   "outputs": [
    {
     "name": "stdout",
     "output_type": "stream",
     "text": [
      "[[0. 1. 2.]\n",
      " [1. 2. 3.]\n",
      " [2. 3. 4.]\n",
      " [3. 4. 5.]\n",
      " [4. 5. 6.]\n",
      " [5. 6. 7.]\n",
      " [6. 7. 8.]]\n",
      "\n",
      "[ True False False  True  True False False]\n",
      "\n",
      "[[0. 1. 2.]\n",
      " [3. 4. 5.]\n",
      " [4. 5. 6.]]\n",
      "\n",
      "[[1. 2.]\n",
      " [4. 5.]\n",
      " [5. 6.]]\n",
      "[[0. 1. 2.]\n",
      " [3. 4. 5.]\n",
      " [4. 5. 6.]\n",
      " [5. 6. 7.]]\n"
     ]
    }
   ],
   "source": [
    "import numpy as np\n",
    "names = np.array([\"apple\", \"orange\", \"grape\", \"apple\", \"apple\", \"kiwi\", \"orange\"])\n",
    "data = np.zeros((7,3))\n",
    "for i in range(7):\n",
    "    for j in range(3):\n",
    "        data[i,j] = i + j        \n",
    "print(data)\n",
    "print()\n",
    "\n",
    "print(names==\"apple\")             # apple と一致する bool リストを取得する\n",
    "print()\n",
    "\n",
    "print(data[names==\"apple\"])       # apple に対応する行だけ取り出す\n",
    "print()\n",
    "\n",
    "print(data[names==\"apple\", 1:])   # スライス表記と組み合わせも可能\n",
    "\n",
    "print(data[(names==\"apple\") | (names ==\"kiwi\")]) # apple と kiwi 行をとりだす"
   ]
  },
  {
   "cell_type": "markdown",
   "metadata": {},
   "source": [
    "Bool インデックスは多次元配列でも利用できる:"
   ]
  },
  {
   "cell_type": "code",
   "execution_count": 12,
   "metadata": {},
   "outputs": [
    {
     "name": "stdout",
     "output_type": "stream",
     "text": [
      "[[ 0.55474242 -0.01018376 -1.61584199 -1.03854629  1.88071659  0.91222858\n",
      "  -0.90076266]\n",
      " [-0.21609552 -1.61727226 -0.04263469 -0.15638003 -0.55759824 -1.67833427\n",
      "   0.50442662]\n",
      " [-1.11383753  0.13217992 -0.38827187 -0.93334908  0.6429047  -0.35820058\n",
      "  -0.83919332]]\n",
      "\n",
      "[[False  True  True  True False False  True]\n",
      " [ True  True  True  True  True  True False]\n",
      " [ True False  True  True False  True  True]]\n",
      "\n",
      "[[0.55474242 0.         0.         0.         1.88071659 0.91222858\n",
      "  0.        ]\n",
      " [0.         0.         0.         0.         0.         0.\n",
      "  0.50442662]\n",
      " [0.         0.13217992 0.         0.         0.6429047  0.\n",
      "  0.        ]]\n"
     ]
    }
   ],
   "source": [
    "import numpy as np\n",
    "data = np.random.randn(3,7)\n",
    "  \n",
    "print(data)\n",
    "print()\n",
    "print(data < 0)\n",
    "print()\n",
    "data[data < 0] = 0          # 負の要素のみ置き換え\n",
    "print(data)"
   ]
  },
  {
   "cell_type": "markdown",
   "metadata": {},
   "source": [
    "### Fancy インデックス\n",
    "`np.ndarray` では配列の添字をリストで与え、一部の取り出しおよび並べ替えもできる:"
   ]
  },
  {
   "cell_type": "code",
   "execution_count": 13,
   "metadata": {},
   "outputs": [
    {
     "name": "stdout",
     "output_type": "stream",
     "text": [
      "Sample:\n",
      "[[0.  0.1 0.2]\n",
      " [1.  1.1 1.2]\n",
      " [2.  2.1 2.2]\n",
      " [3.  3.1 3.2]\n",
      " [4.  4.1 4.2]\n",
      " [5.  5.1 5.2]\n",
      " [6.  6.1 6.2]]\n",
      "\n",
      "Pick 7, 5, 1 rows:\n",
      "[[6.  6.1 6.2]\n",
      " [0.  0.1 0.2]\n",
      " [4.  4.1 4.2]]\n",
      "\n",
      "Negative index:\n",
      "[[4.  4.1 4.2]\n",
      " [2.  2.1 2.2]]\n"
     ]
    }
   ],
   "source": [
    "import numpy as np\n",
    "data = np.zeros((7,3))\n",
    "for i in range(7):\n",
    "    for j in range(3):\n",
    "        data[i,j] = i + j/10\n",
    "print(\"Sample:\")\n",
    "print(data) \n",
    "print() \n",
    "print(\"Pick 7, 5, 1 rows:\")\n",
    "print(data[[6,0,4]])        # 7, 1, 5 行目を取り出し、並べる、インデックスが 2 重リストになっていることに注意\n",
    "print()\n",
    "\n",
    "print(\"Negative index:\")\n",
    "print(data[[-3,2]])         #負の添字も使える"
   ]
  },
  {
   "cell_type": "markdown",
   "metadata": {},
   "source": [
    "複数の添字リストによって取り出す（行、列）の指定も可能である。結果は一次元リストになる:"
   ]
  },
  {
   "cell_type": "code",
   "execution_count": 14,
   "metadata": {},
   "outputs": [
    {
     "name": "stdout",
     "output_type": "stream",
     "text": [
      "Sample:\n",
      "[[0.  0.1 0.2]\n",
      " [1.  1.1 1.2]\n",
      " [2.  2.1 2.2]\n",
      " [3.  3.1 3.2]\n",
      " [4.  4.1 4.2]\n",
      " [5.  5.1 5.2]\n",
      " [6.  6.1 6.2]]\n",
      "\n",
      "Pick data[0,2], data[2,0], data[4,1]:\n",
      "[0.2 2.  4.1]\n"
     ]
    }
   ],
   "source": [
    "import numpy as np\n",
    "data = np.zeros((7,3))\n",
    "for i in range(7):\n",
    "    for j in range(3):\n",
    "        data[i,j] = i + j/10\n",
    "\n",
    "print(\"Sample:\")\n",
    "print(data) \n",
    "print()\n",
    "print(\"Pick data[0,2], data[2,0], data[4,1]:\")\n",
    "print(data[[0,2,4], [2,0,1]])  # [data[0,2], data[2,0], data[4,1]] と等価"
   ]
  },
  {
   "cell_type": "markdown",
   "metadata": {},
   "source": [
    "以下の例のように Funcy インデックスを連続して適用することも可能である:"
   ]
  },
  {
   "cell_type": "code",
   "execution_count": 15,
   "metadata": {},
   "outputs": [
    {
     "name": "stdout",
     "output_type": "stream",
     "text": [
      "[[0.  0.1 0.2]\n",
      " [1.  1.1 1.2]\n",
      " [2.  2.1 2.2]\n",
      " [3.  3.1 3.2]\n",
      " [4.  4.1 4.2]\n",
      " [5.  5.1 5.2]\n",
      " [6.  6.1 6.2]]\n",
      "\n",
      "[[1.2 1.1 1. ]\n",
      " [3.2 3.1 3. ]\n",
      " [5.2 5.1 5. ]]\n"
     ]
    }
   ],
   "source": [
    "import numpy as np\n",
    "data = np.zeros((7,3))\n",
    "for i in range(7):\n",
    "    for j in range(3):\n",
    "       data[i,j] = i + j/10\n",
    "    \n",
    "print(data)\n",
    "print()\n",
    "\n",
    "print(data[[1,3,5]][:,[2,1,0]])      # 2, 4, 6 行を取り出したあとで、列を 3, 2, 1 の順に並び替える。"
   ]
  },
  {
   "cell_type": "markdown",
   "metadata": {},
   "source": [
    "### 転置行列\n",
    "\n",
    "ndarray の転置は、`ndaray.T` で得られる:"
   ]
  },
  {
   "cell_type": "code",
   "execution_count": 16,
   "metadata": {},
   "outputs": [
    {
     "name": "stdout",
     "output_type": "stream",
     "text": [
      "Sample:\n",
      "[[0.  0.1 0.2]\n",
      " [1.  1.1 1.2]\n",
      " [2.  2.1 2.2]\n",
      " [3.  3.1 3.2]\n",
      " [4.  4.1 4.2]\n",
      " [5.  5.1 5.2]\n",
      " [6.  6.1 6.2]]\n",
      "\n",
      "Transpose:\n",
      "[[0.  1.  2.  3.  4.  5.  6. ]\n",
      " [0.1 1.1 2.1 3.1 4.1 5.1 6.1]\n",
      " [0.2 1.2 2.2 3.2 4.2 5.2 6.2]]\n"
     ]
    }
   ],
   "source": [
    "import numpy as np\n",
    "data = np.zeros((7,3))\n",
    "for i in range(7):\n",
    "    for j in range(3):\n",
    "        data[i,j] = i + j/10\n",
    "\n",
    "print(\"Sample:\")\n",
    "print(data)\n",
    "print()\n",
    "\n",
    "print(\"Transpose:\")\n",
    "print(data.T)                # 行列の転置（関数でないことに注意）"
   ]
  },
  {
   "cell_type": "markdown",
   "metadata": {},
   "source": [
    "### 汎用関数\n",
    "`np.exp()`, `np.sqrt()` などは `np.ndarray` 要素に対して実行される。  \n",
    "`np.maximum()`は引数に与えられる二つの `np.ndarray` の同じ添字をもつ要素の最大値で構成される `np.ndarray` を  \n",
    "`np.modf()` は各要素の小数部、整数部の `np.ndarray` をリストで返す:"
   ]
  },
  {
   "cell_type": "code",
   "execution_count": 17,
   "metadata": {},
   "outputs": [
    {
     "name": "stdout",
     "output_type": "stream",
     "text": [
      "Sample:\n",
      "[[-4.38253367  3.25390004  3.18176623 -4.77716868]\n",
      " [-1.05357811  1.39003059 -2.27585859  4.09720179]\n",
      " [-3.39789474  1.82597031  0.44286118 -1.40944157]\n",
      " [ 1.43051078  0.04766526 -0.98987847  6.4641809 ]] [[-3.68803877 -4.17825109 -1.96489811  5.42511105]\n",
      " [ 1.06558462 -9.93421549 -2.63724738 -2.97802153]\n",
      " [-4.4590819  -0.12546257 -7.03235395  0.25353705]\n",
      " [ 1.31492057 -3.6486513   0.04385007  4.76493528]]\n",
      "\n",
      "np.maxumim():\n",
      "[[-3.68803877  3.25390004  3.18176623  5.42511105]\n",
      " [ 1.06558462  1.39003059 -2.27585859  4.09720179]\n",
      " [-3.39789474  1.82597031  0.44286118  0.25353705]\n",
      " [ 1.43051078  0.04766526  0.04385007  6.4641809 ]]\n",
      "\n",
      "np.modf():\n",
      "(array([[-0.38253367,  0.25390004,  0.18176623, -0.77716868],\n",
      "       [-0.05357811,  0.39003059, -0.27585859,  0.09720179],\n",
      "       [-0.39789474,  0.82597031,  0.44286118, -0.40944157],\n",
      "       [ 0.43051078,  0.04766526, -0.98987847,  0.4641809 ]]), array([[-4.,  3.,  3., -4.],\n",
      "       [-1.,  1., -2.,  4.],\n",
      "       [-3.,  1.,  0., -1.],\n",
      "       [ 1.,  0., -0.,  6.]]))\n",
      "\n",
      "np.sqrt() with reals:\n",
      "[       nan        nan 0.         1.         1.41421356 1.73205081]\n",
      "\n",
      "np.sqrt() with complexes:\n",
      "[0.        +1.41421356j 0.        +1.j         0.        +0.j\n",
      " 1.        +0.j         1.41421356+0.j         1.73205081+0.j        ]\n"
     ]
    },
    {
     "name": "stderr",
     "output_type": "stream",
     "text": [
      "/Users/ikob/opt/anaconda3/lib/python3.7/site-packages/ipykernel_launcher.py:17: RuntimeWarning: invalid value encountered in sqrt\n"
     ]
    }
   ],
   "source": [
    "import numpy as np\n",
    "data1 = np.random.randn(4,4)*4\n",
    "data2 = np.random.randn(4,4)*4\n",
    "print(\"Sample:\")\n",
    "print(data1, data2)\n",
    "print()\n",
    "\n",
    "print(\"np.maxumim():\")\n",
    "print(np.maximum(data1, data2))    # 大きい方の要素を取り出す\n",
    "print()\n",
    "\n",
    "print(\"np.modf():\")\n",
    "print(np.modf(data1))              # 整数・小数部に分けたい\n",
    "print()\n",
    "\n",
    "print(\"np.sqrt() with reals:\")\n",
    "print(np.sqrt([-2, -1, 0, 1, 2, 3]))       # 虚数解は Not a Number (NaN)\n",
    "print()\n",
    "print(\"np.sqrt() with complexes:\")\n",
    "print(np.sqrt([-2 + 0J, -1, 0, 1, 2, 3]))  # 虚数解も欲しいときは、ndarray を複素数型に\n"
   ]
  },
  {
   "cell_type": "markdown",
   "metadata": {},
   "source": [
    "### 配列志向のプログラミング\n",
    "\n",
    "Numpy を利用すれば（他ではループが必要な）配列表記のまま計算を実行することができる。  \n",
    "平面直交座標系の点 (x, y) の中心 (0,0)からの距離を濃淡で表現してみる:"
   ]
  },
  {
   "cell_type": "code",
   "execution_count": 18,
   "metadata": {},
   "outputs": [
    {
     "data": {
      "image/png": "[encoded data removed]",
      "text/plain": [
       "<Figure size 432x288 with 2 Axes>"
      ]
     },
     "metadata": {
      "needs_background": "light"
     },
     "output_type": "display_data"
    }
   ],
   "source": [
    "%matplotlib inline \n",
    "import numpy as np\n",
    "import matplotlib.pyplot as plt\n",
    "\n",
    "xs, ys = np.meshgrid(np.arange(-5,5, 0.1), np.arange(-5,5, 0.1))\n",
    "z = np.sqrt(xs **2 + ys **2)\n",
    "\n",
    "plt.imshow(z, cmap=plt.cm.gray)\n",
    "plt.colorbar()\n",
    "plt.title(\"Image plot $sqrt(x^2 + y^2)$\")\n",
    "plt.show()"
   ]
  },
  {
   "cell_type": "markdown",
   "metadata": {},
   "source": [
    "### 条件付きロジック\n",
    "\n",
    "`np.where(条件、真のときの値、偽のときの値)` は三項表記 `x if 条件 else y` の `np.ndarray` 版である。  \n",
    "直前に説明した、原点からの距離に応じた濃淡の問題を利用して説明する。\n",
    "以下の例では、100 x 100 に分割した平面で原点からの距離が (1.95, 2.05) の範囲であれば 0 を、それ以外は 10 を与えている:"
   ]
  },
  {
   "cell_type": "code",
   "execution_count": 19,
   "metadata": {},
   "outputs": [
    {
     "data": {
      "image/png": "[encoded data removed]",
      "text/plain": [
       "<Figure size 432x288 with 1 Axes>"
      ]
     },
     "metadata": {
      "needs_background": "light"
     },
     "output_type": "display_data"
    }
   ],
   "source": [
    "%matplotlib inline \n",
    "import numpy as np\n",
    "import matplotlib.pyplot as plt\n",
    "\n",
    "xs, ys = np.meshgrid(np.arange(-5,5, 0.1), np.arange(-5,5, 0.1))\n",
    "z = np.sqrt(xs **2 + ys **2)\n",
    "\n",
    "plt.imshow(np.where((1.95 < z) & (z < 2.05), 0, 10), cmap=plt.cm.gray)\n",
    "plt.title(\"Fill grids where $1.95 < sqrt(x^2 + y^2) < 2.05 $\")\n",
    "plt.show()"
   ]
  },
  {
   "cell_type": "markdown",
   "metadata": {},
   "source": [
    "### 統計\n",
    "\n",
    "`np.ndarray` の統計量、総和、平均、標準偏差(`np.sum(), np.mean(), np.std()`)、を計算する関数も用意されている。\n"
   ]
  },
  {
   "cell_type": "code",
   "execution_count": 20,
   "metadata": {},
   "outputs": [
    {
     "name": "stdout",
     "output_type": "stream",
     "text": [
      "Data:\n",
      "[[ 0.2074105  -2.92526199  0.17896891 -1.23724825]\n",
      " [ 0.87445469 -0.49185902 -0.13440367  0.41771975]\n",
      " [-0.17225021  0.97840367 -0.80591523 -1.29127852]\n",
      " [ 1.48934034  1.49977047  0.73749899 -0.14923205]\n",
      " [-0.60045062 -0.3546948   0.65100167 -0.6298199 ]]\n",
      "Mean(All): -0.0878922646430013\n",
      "Total(All): -1.757845292860026\n",
      "Mean(column wise): [ 0.35970094 -0.25872834  0.12543013 -0.5779718 ]\n",
      "Mean(row wise): [-0.94403271  0.16647794 -0.32276008  0.89434444 -0.23349092]\n"
     ]
    },
    {
     "data": {
      "image/png": "[encoded data removed]",
      "text/plain": [
       "<Figure size 432x288 with 2 Axes>"
      ]
     },
     "metadata": {
      "needs_background": "light"
     },
     "output_type": "display_data"
    }
   ],
   "source": [
    "%matplotlib inline \n",
    "import numpy as np\n",
    "import matplotlib.pyplot as plt\n",
    "\n",
    "data = np.random.randn(5,4)\n",
    "\n",
    "print(\"Data:\")\n",
    "print(data)\n",
    "\n",
    "print(\"Mean(All):\", data.mean())\n",
    "print(\"Total(All):\", data.sum())\n",
    "\n",
    "print(\"Mean(column wise):\", data.mean(axis=0))         # タテ方向の平均をリストで返す\n",
    "print(\"Mean(row wise):\",data.mean(axis=1))             # 横方向の平均\n",
    "\n",
    "plt.imshow(data, cmap=plt.cm.gray)                     # 意味はないが可視化してみる\n",
    "plt.colorbar()\n",
    "plt.show()"
   ]
  },
  {
   "cell_type": "markdown",
   "metadata": {},
   "source": [
    "累積和の計算には `np.cumsum()` が利用できる:"
   ]
  },
  {
   "cell_type": "code",
   "execution_count": 21,
   "metadata": {},
   "outputs": [
    {
     "name": "stdout",
     "output_type": "stream",
     "text": [
      "Cumulative sum:\n",
      "[ 0  1  3  6 10 15 21 28 36 45]\n"
     ]
    },
    {
     "data": {
      "image/png": "[encoded data removed]",
      "text/plain": [
       "<Figure size 432x288 with 2 Axes>"
      ]
     },
     "metadata": {
      "needs_background": "light"
     },
     "output_type": "display_data"
    }
   ],
   "source": [
    "%matplotlib inline \n",
    "import numpy as np\n",
    "import matplotlib.pyplot as plt\n",
    "\n",
    "data = np.arange(10)\n",
    "print(\"Cumulative sum:\")\n",
    "print(data.cumsum())\n",
    "\n",
    "ax = plt.subplot(1,2,1)\n",
    "plt.plot(data)\n",
    "\n",
    "plt.subplot(1,2,2, sharey=ax)\n",
    "plt.plot(data.cumsum())\n",
    "\n",
    "plt.show()"
   ]
  },
  {
   "cell_type": "markdown",
   "metadata": {},
   "source": [
    "### ブール演算\n",
    "\n",
    "ブール演算では `True` / `False` を返す。\n",
    "これを利用して、ndarray 中の `True` を数えるのは:"
   ]
  },
  {
   "cell_type": "code",
   "execution_count": 22,
   "metadata": {},
   "outputs": [
    {
     "name": "stdout",
     "output_type": "stream",
     "text": [
      "49\n"
     ]
    }
   ],
   "source": [
    "import numpy as np\n",
    "data = np.random.randn(100)\n",
    "\n",
    "print((data > 0).sum())       # 0 より大きい要素の数を数える"
   ]
  },
  {
   "cell_type": "markdown",
   "metadata": {},
   "source": [
    "さらに、`numpy.any()` および `numpy.all` メソッドは ndarray にわたって論理値を検査する。\n",
    "これらのメソッドでは論理値以外でも動作し、この場合 0 以外の値は `True` と評価される。"
   ]
  },
  {
   "cell_type": "code",
   "execution_count": 23,
   "metadata": {},
   "outputs": [
    {
     "name": "stdout",
     "output_type": "stream",
     "text": [
      "data: [False  True  True  True]\n",
      "data.all(): False\n",
      "data.any(): True\n",
      "\n",
      "data: [0 1 2 3 4 5]\n",
      "data.all(): False\n",
      "data.any(): True\n"
     ]
    }
   ],
   "source": [
    "data = np.array([False, True, True, True])\n",
    "print(\"data:\",data)\n",
    "print(\"data.all():\", data.all())\n",
    "print(\"data.any():\", data.any())\n",
    "print(\"\")\n",
    "data = np.array([0,1,2,3,4,5])\n",
    "print(\"data:\",data)\n",
    "print(\"data.all():\", data.all())\n",
    "print(\"data.any():\", data.any())"
   ]
  },
  {
   "cell_type": "markdown",
   "metadata": {},
   "source": [
    "### ソート\n",
    "\n",
    "list と同様に `np.sort()` によってソート（並べ替え）をおこなう。  \n",
    "`np.sort()` の第一引数にソート対象の次元を与えることもできる。  \n",
    "キーワード引数 `kind` でソートアルゴリズムの指定もできる。  \n",
    "逆順にしたい場合は、`new = old[::-1]`とすれば良い。"
   ]
  },
  {
   "cell_type": "code",
   "execution_count": 24,
   "metadata": {},
   "outputs": [
    {
     "name": "stdout",
     "output_type": "stream",
     "text": [
      "Sample:\n",
      "[ 0.87540433 -0.5159781   1.12904515 -0.66737295 -0.79145627]\n",
      "Sorted:\n",
      "[-0.79145627 -0.66737295 -0.5159781   0.87540433  1.12904515]\n",
      "Reverse:\n",
      "[ 1.12904515  0.87540433 -0.5159781  -0.66737295 -0.79145627]\n",
      "2D Sample:\n",
      "[[-1.59851911 -0.67397386 -0.2697715   0.80487285]\n",
      " [-0.58596764  2.65258582  2.34202991 -2.72071875]\n",
      " [-1.65489037  0.91894727  0.52110958 -0.84843919]\n",
      " [ 0.25893504  0.23292242 -0.02693078 -1.43049284]\n",
      " [ 1.64886879 -0.25755151  0.05690257 -0.54608488]]\n",
      "Sorted without axis:\n",
      "[[-1.59851911 -0.67397386 -0.2697715   0.80487285]\n",
      " [-2.72071875 -0.58596764  2.34202991  2.65258582]\n",
      " [-1.65489037 -0.84843919  0.52110958  0.91894727]\n",
      " [-1.43049284 -0.02693078  0.23292242  0.25893504]\n",
      " [-0.54608488 -0.25755151  0.05690257  1.64886879]]\n",
      "\n",
      "Sorted with axis:\n",
      "[[-2.72071875 -0.84843919 -0.2697715   0.25893504]\n",
      " [-1.65489037 -0.67397386  0.05690257  0.80487285]\n",
      " [-1.59851911 -0.58596764  0.23292242  0.91894727]\n",
      " [-1.43049284 -0.25755151  0.52110958  1.64886879]\n",
      " [-0.54608488 -0.02693078  2.34202991  2.65258582]]\n"
     ]
    }
   ],
   "source": [
    "%matplotlib inline \n",
    "import numpy as np\n",
    "import matplotlib.pyplot as plt\n",
    "\n",
    "data = np.random.randn(5)\n",
    "print(\"Sample:\")\n",
    "print(data)\n",
    "\n",
    "print(\"Sorted:\")\n",
    "data.sort()\n",
    "print(data)\n",
    "\n",
    "print(\"Reverse:\")\n",
    "data = data[::-1]                # ソート結果を逆順にする\n",
    "print(data)\n",
    "\n",
    "data = np.random.randn(5,4)      # 2 次元\n",
    "print(\"2D Sample:\")\n",
    "print(data)\n",
    "\n",
    "print(\"Sorted without axis:\")\n",
    "data.sort()                      # 次元（軸）が与えられない場合はもっとも低い次元でソート\n",
    "print(data)                      # この場合、行方向でソート\n",
    "print()\n",
    "\n",
    "print(\"Sorted with axis:\")\n",
    "data.sort(0)\n",
    "print(data)"
   ]
  },
  {
   "cell_type": "markdown",
   "metadata": {},
   "source": [
    "### Unique など\n",
    "\n",
    "1次元 ndarray 向けの関数として、`np.unique(ndarray)` もよく使われる。\n",
    "これは、ソート済みのユニークな値を ndarray として返す。\n",
    "また、`np.in1d(ndarray, 要素のリスト)`は ndarray の要素ごとに第2引数のリストの有無を検査し、結果を ndarray として返す:"
   ]
  },
  {
   "cell_type": "code",
   "execution_count": 25,
   "metadata": {},
   "outputs": [
    {
     "name": "stdout",
     "output_type": "stream",
     "text": [
      "np.unique():\n",
      "['apple' 'banana' 'kiwi' 'orange']\n",
      "['apple' 'banana' 'kiwi' 'orange']\n",
      "np.in1d():\n",
      "[ True False False  True  True False]\n"
     ]
    }
   ],
   "source": [
    "import numpy as np\n",
    "\n",
    "data = np.array([\"apple\", \"banana\", \"orange\", \"kiwi\", \"apple\", \"banana\"])\n",
    "\n",
    "print(\"np.unique():\")\n",
    "print(np.unique(data))\n",
    "print(np.array(sorted(set(data))))    # 集合(セット)を使えば等価になる\n",
    "\n",
    "print(\"np.in1d():\")\n",
    "print(np.in1d(data, [\"apple\", \"kiwi\"]))"
   ]
  },
  {
   "cell_type": "markdown",
   "metadata": {},
   "source": [
    "### 線形代数\n",
    "NumPy では行列積（Innter Product）は `np.dot()` をつかう。\n",
    "NumPy で二項演算子 `*` は要素同士の積になることに注意、どうしても 演算子を使いたい場合は `@` が用意されている:"
   ]
  },
  {
   "cell_type": "code",
   "execution_count": 26,
   "metadata": {},
   "outputs": [
    {
     "name": "stdout",
     "output_type": "stream",
     "text": [
      "Inner product:\n",
      "[[22 28]\n",
      " [49 64]]\n",
      "Another Inner product:\n",
      "[[22 28]\n",
      " [49 64]]\n",
      "Inner product with @ operator:\n",
      "[[22 28]\n",
      " [49 64]]\n",
      "Product with * operator:\n",
      "[[ 3  8 15]\n",
      " [24 35 48]]\n"
     ]
    }
   ],
   "source": [
    "import numpy as np\n",
    "\n",
    "a = np.array([[1, 2, 3], [4, 5, 6]])\n",
    "a2 = np.array([[3, 4, 5], [6, 7, 8]])\n",
    "b = np.array ([[1,2],[3,4],[5,6]])\n",
    "\n",
    "print(\"Inner product:\")\n",
    "print(a.dot(b))\n",
    "print(\"Another Inner product:\")\n",
    "print(np.dot(a, b))      # 上と等価\n",
    "print(\"Inner product with @ operator:\")\n",
    "print(a @ b)             # 行列積には演算子 @ を使う\n",
    "\n",
    "print(\"Product with * operator:\")\n",
    "print(a * a2)            # 演算子 * は要素同士の積"
   ]
  },
  {
   "cell_type": "markdown",
   "metadata": {},
   "source": [
    "`np.linalg` モジュールは標準的な行列分解、逆行列、固有値計算、連立一次方程式の解を計算する。  \n",
    "これらは、標準の線形代数ライブラリ BLAS, LAPACK が利用されている:"
   ]
  },
  {
   "cell_type": "code",
   "execution_count": 27,
   "metadata": {},
   "outputs": [
    {
     "name": "stdout",
     "output_type": "stream",
     "text": [
      "Sample:\n",
      "[[ 0.67285259 -0.34869134 -0.8549388  ... -0.37770948  0.63828176\n",
      "  -0.55232615]\n",
      " [ 0.3590859  -0.02065792 -0.99646326 ... -1.03498361 -0.06472522\n",
      "   2.44885836]\n",
      " [ 1.98989033  0.40059595  0.90594892 ...  0.0095015   1.37971795\n",
      "   0.46238558]\n",
      " ...\n",
      " [ 0.5127979   0.18766765 -0.17364964 ... -1.18621708  0.16382622\n",
      "  -0.32015845]\n",
      " [-0.38138273 -0.01913543 -1.38487107 ...  0.93929154 -1.3697149\n",
      "   1.24058841]\n",
      " [ 0.35973423  0.13611246 -0.67023999 ...  0.89719975  0.13014807\n",
      "   0.22675552]]\n",
      "M = X + X.T:\n",
      "[[ 1.34570518  0.01039456  1.13495153 ...  0.13508841  0.25689902\n",
      "  -0.19259192]\n",
      " [ 0.01039456 -0.04131584 -0.59586731 ... -0.84731596 -0.08386065\n",
      "   2.58497081]\n",
      " [ 1.13495153 -0.59586731  1.81189783 ... -0.16414814 -0.00515313\n",
      "  -0.20785441]\n",
      " ...\n",
      " [ 0.13508841 -0.84731596 -0.16414814 ... -2.37243417  1.10311776\n",
      "   0.5770413 ]\n",
      " [ 0.25689902 -0.08386065 -0.00515313 ...  1.10311776 -2.7394298\n",
      "   1.37073647]\n",
      " [-0.19259192  2.58497081 -0.20785441 ...  0.5770413   1.37073647\n",
      "   0.45351103]]\n",
      "M^-1:\n",
      "[[-0.01817309 -0.02075708  0.00981586 ...  0.02291311 -0.00668888\n",
      "  -0.00015456]\n",
      " [-0.02075708  0.0047153  -0.00259274 ... -0.01298712 -0.01371528\n",
      "   0.00070719]\n",
      " [ 0.00981586 -0.00259274 -0.00596013 ...  0.00575493 -0.00445182\n",
      "   0.00626555]\n",
      " ...\n",
      " [ 0.02291311 -0.01298712  0.00575493 ...  0.01961012 -0.01478316\n",
      "   0.0096672 ]\n",
      " [-0.00668888 -0.01371528 -0.00445182 ... -0.01478316 -0.02463341\n",
      "  -0.00811045]\n",
      " [-0.00015456  0.00070719  0.00626555 ...  0.0096672  -0.00811045\n",
      "   0.0021103 ]]\n",
      "M.dot(M^-1):\n",
      "[[ 1.00000000e+00  1.02695630e-14 -1.16712195e-14 ...  1.57512892e-15\n",
      "  -2.22044605e-16 -1.24969479e-14]\n",
      " [ 8.13238366e-15  1.00000000e+00  3.20576898e-15 ...  7.24420524e-15\n",
      "  -1.20736754e-15  3.74700271e-15]\n",
      " [ 1.64313008e-14 -8.40993941e-15  1.00000000e+00 ...  3.16413562e-15\n",
      "  -1.35030875e-14 -1.08246745e-15]\n",
      " ...\n",
      " [ 3.03923553e-15 -7.61890551e-15 -1.50712776e-14 ...  1.00000000e+00\n",
      "   1.19557142e-14 -9.57567359e-16]\n",
      " [-6.53643806e-15  2.53269627e-15 -4.71844785e-15 ...  1.45300438e-14\n",
      "   1.00000000e+00 -6.24500451e-16]\n",
      " [ 1.77635684e-15 -9.35362898e-15 -3.73312492e-15 ...  1.74860126e-15\n",
      "  -1.73472348e-15  1.00000000e+00]]\n"
     ]
    },
    {
     "data": {
      "image/png": "[encoded data removed]",
      "text/plain": [
       "<Figure size 432x288 with 2 Axes>"
      ]
     },
     "metadata": {
      "needs_background": "light"
     },
     "output_type": "display_data"
    },
    {
     "name": "stdout",
     "output_type": "stream",
     "text": [
      "[[-3.10862447e-15 -6.10622664e-16  8.88178420e-16 ... -2.38697950e-15\n",
      "  -1.66533454e-15 -2.22044605e-16]\n",
      " [-5.55111512e-17  3.21964677e-15 -3.33066907e-16 ...  1.33226763e-15\n",
      "   9.57567359e-16 -2.66453526e-15]\n",
      " [-4.44089210e-16  0.00000000e+00 -2.33146835e-15 ... -9.07260378e-16\n",
      "  -4.44089210e-16 -4.44089210e-16]\n",
      " ...\n",
      " [ 0.00000000e+00  2.77555756e-17  2.77555756e-17 ...  8.88178420e-16\n",
      "   5.55111512e-17  0.00000000e+00]\n",
      " [ 0.00000000e+00  6.93889390e-18  2.22044605e-16 ...  8.88178420e-16\n",
      "  -2.44249065e-15  6.66133815e-16]\n",
      " [ 0.00000000e+00 -2.77555756e-17  0.00000000e+00 ...  4.44089210e-16\n",
      "  -2.22044605e-16 -2.49800181e-16]]\n"
     ]
    },
    {
     "data": {
      "image/png": "[encoded data removed]",
      "text/plain": [
       "<Figure size 432x288 with 2 Axes>"
      ]
     },
     "metadata": {
      "needs_background": "light"
     },
     "output_type": "display_data"
    }
   ],
   "source": [
    "import numpy as np\n",
    "import matplotlib.pyplot as plt\n",
    "from numpy.linalg import inv, qr\n",
    "\n",
    "X = np.random.randn(1000,1000)\n",
    "print(\"Sample:\")\n",
    "print(X)\n",
    "\n",
    "print(\"M = X + X.T:\")\n",
    "M = X + X.T              # 対称行列を得る\n",
    "print(M)\n",
    "print(\"M^-1:\")\n",
    "print(inv(M))            # 逆行列を計算\n",
    "\n",
    "print(\"M.dot(M^-1):\")\n",
    "print(M.dot(inv(M)))     # 単位行列になる\n",
    "\n",
    "plt.imshow(M.dot(inv(M)), cmap=plt.cm.gray, vmin =0, vmax=1) # わからないので可視化してみる\n",
    "plt.colorbar()\n",
    "plt.show()\n",
    "\n",
    "Q, R = qr(X)             # QR 分解　$X = Q \\cdot R$\n",
    "print(X - Q@R)\n",
    "plt.imshow(X - Q@R, cmap=plt.cm.gray, vmin =0, vmax=1) # こっちも可視化してみる\n",
    "plt.colorbar()\n",
    "plt.show()"
   ]
  },
  {
   "cell_type": "markdown",
   "metadata": {},
   "source": [
    "### 擬似乱数\n",
    "\n",
    "`np.randome` モジュールは各種の確率分布をもつ乱数を生成する。  \n",
    "正規分布の生成には、`np.random.randn()` や `np.random.normal()` が使える:"
   ]
  },
  {
   "cell_type": "code",
   "execution_count": 28,
   "metadata": {},
   "outputs": [
    {
     "data": {
      "text/plain": [
       "[<matplotlib.lines.Line2D at 0x11a59b150>]"
      ]
     },
     "execution_count": 28,
     "metadata": {},
     "output_type": "execute_result"
    },
    {
     "data": {
      "image/png": "[encoded data removed]",
      "text/plain": [
       "<Figure size 432x288 with 1 Axes>"
      ]
     },
     "metadata": {
      "needs_background": "light"
     },
     "output_type": "display_data"
    }
   ],
   "source": [
    "%matplotlib inline \n",
    "import numpy as np\n",
    "import matplotlib.pyplot as plt\n",
    "np.random.poisson\n",
    "N = 1000000\n",
    "samples = np.random.normal(size=N)\n",
    "bins = np.zeros(100)\n",
    "for i in range(N):\n",
    "        if -5 < samples[i] and samples[i] < 5:\n",
    "            bins[int(samples[i] * 10 + 50)] += 1\n",
    "plt.plot(bins)"
   ]
  },
  {
   "cell_type": "markdown",
   "metadata": {},
   "source": [
    "このほか `np.random` では以下の乱数生成関数も使える:\n",
    "\n",
    "|分布    |関数        |備考         |\n",
    "|:------|:-----------|:-----------|\n",
    "|一様    |rand()      |            |\n",
    "|一様    |uniform()   |区間\\[0, 1)  |\n",
    "|正規    |randn()     |分散1, 平均0 |\n",
    "|正規    |normel()    |            |\n",
    "|二項    |binomial()  |            |"
   ]
  },
  {
   "cell_type": "markdown",
   "metadata": {},
   "source": [
    "`np.random` 擬似乱数の seed は、`np.random.seed()`で与えることができる。  \n",
    "この seed の設定はプログラム内全ての np.random に影響する。  \n",
    "別の擬似乱数列が欲しい場合は以下のようにすれば良い:"
   ]
  },
  {
   "cell_type": "code",
   "execution_count": 29,
   "metadata": {},
   "outputs": [
    {
     "data": {
      "text/plain": [
       "0.1915194503788923"
      ]
     },
     "execution_count": 29,
     "metadata": {},
     "output_type": "execute_result"
    }
   ],
   "source": [
    "rng = np.random.RandomState(1234)\n",
    "rng.rand()"
   ]
  }
 ],
 "metadata": {
  "celltoolbar": "Slideshow",
  "kernelspec": {
   "display_name": "Python 3",
   "language": "python",
   "name": "python3"
  },
  "language_info": {
   "codemirror_mode": {
    "name": "ipython",
    "version": 3
   },
   "file_extension": ".py",
   "mimetype": "text/x-python",
   "name": "python",
   "nbconvert_exporter": "python",
   "pygments_lexer": "ipython3",
   "version": "3.7.7"
  }
 },
 "nbformat": 4,
 "nbformat_minor": 2
}
