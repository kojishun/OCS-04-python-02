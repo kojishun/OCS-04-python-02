{
 "cells": [
  {
   "cell_type": "markdown",
   "metadata": {
    "slideshow": {
     "slide_type": "slide"
    }
   },
   "source": [
    "## Python の基本\n",
    "この資料は[The Python Tutorial](https://docs.python.org/3.6/tutorial/index.html#the-python-tutorial)\n",
    "    ([日本語版](https://docs.python.jp/3/tutorial/)) および [Python for Data Analysis:Wrangling with Pandas, Numpy and IPython](http://shop.oreilly.com/product/0636920050896.do)を参考に作成した。  \n",
    "このチュートリアルでは他のプログラミング言語を習得している方を想定し、Python の特徴などを説明する。"
   ]
  },
  {
   "cell_type": "markdown",
   "metadata": {},
   "source": [
    "### システムコール(参考)\n",
    "*データ処理ではより高度な機能をもつ pandas のファイル I/O を利用する方が良い。*\n",
    "\n",
    "システムコールはプログラムがオペレーティングシステムを介してコンピュータ資源、例えばファイルシステムやネットワーク、へのアクセス手段を提供する。\n",
    "\n",
    "#### ファイル I/O\n",
    "ここでは、ファイルシステムを例に紹介する。もっとも基本的な書き方は以下のとおり。\n",
    "このとき、一度開いた `ファイル構造体.close()` を忘れないこと:"
   ]
  },
  {
   "cell_type": "code",
   "execution_count": 1,
   "metadata": {},
   "outputs": [
    {
     "name": "stdout",
     "output_type": "stream",
     "text": [
      "A\n",
      "a\n",
      "aa\n",
      "aal\n",
      "aalii\n",
      "aam\n",
      "Aani\n",
      "aardvark\n",
      "aardwolf\n",
      "Aaron\n",
      "\n",
      "False\n",
      "True\n"
     ]
    }
   ],
   "source": [
    "path = \"/usr/share/dict/words\"\n",
    "\n",
    "f = open(path)\n",
    "\n",
    "i = 0\n",
    "for line in f:\n",
    "    i = i + 1\n",
    "    print(line.strip())\n",
    "    if i >= 10:\n",
    "        break\n",
    "print()\n",
    "print(f.closed)              # ちゃんとクローズされていない\n",
    "f.close()\n",
    "print(f.closed)"
   ]
  },
  {
   "cell_type": "markdown",
   "metadata": {},
   "source": [
    "関数にもよるが `with` を利用すればコードブロック終了時、インデントが戻された時点で、必要な後処理を自動的におこなう。\n",
    "`open()` の場合は `close()` 処理がおこなわれる:"
   ]
  },
  {
   "cell_type": "code",
   "execution_count": 2,
   "metadata": {},
   "outputs": [
    {
     "name": "stdout",
     "output_type": "stream",
     "text": [
      "A\n",
      "a\n",
      "aa\n",
      "aal\n",
      "aalii\n",
      "aam\n",
      "Aani\n",
      "aardvark\n",
      "aardwolf\n",
      "Aaron\n",
      "\n",
      "True\n"
     ]
    }
   ],
   "source": [
    "path = \"/usr/share/dict/words\"\n",
    "\n",
    "with open(path) as f:\n",
    "    i = 0\n",
    "    for line in f:\n",
    "        i = i + 1\n",
    "        print(line.strip())\n",
    "        if i >= 10:\n",
    "            break\n",
    "\n",
    "print()\n",
    "print(f.closed)\n",
    "# f.close() ここでは不要"
   ]
  },
  {
   "cell_type": "markdown",
   "metadata": {},
   "source": [
    "lines に全てのデータを読み込む場合は内包表記リストで、\n",
    "個別に読み込む場合は generator で、それぞれ以下のように記述してもよい:"
   ]
  },
  {
   "cell_type": "code",
   "execution_count": 3,
   "metadata": {},
   "outputs": [
    {
     "data": {
      "text/plain": [
       "['A',\n",
       " 'a',\n",
       " 'aa',\n",
       " 'aal',\n",
       " 'aalii',\n",
       " 'aam',\n",
       " 'Aani',\n",
       " 'aardvark',\n",
       " 'aardwolf',\n",
       " 'Aaron']"
      ]
     },
     "execution_count": 3,
     "metadata": {},
     "output_type": "execute_result"
    }
   ],
   "source": [
    "path = \"words\"\n",
    "lines = [x.rstrip() for x in open(path)]\n",
    "lines[0:10]"
   ]
  },
  {
   "cell_type": "code",
   "execution_count": 4,
   "metadata": {},
   "outputs": [
    {
     "name": "stdout",
     "output_type": "stream",
     "text": [
      "A\n",
      "a\n",
      "aa\n",
      "aal\n",
      "aalii\n",
      "aam\n",
      "Aani\n",
      "aardvark\n",
      "aardwolf\n",
      "Aaron\n"
     ]
    }
   ],
   "source": [
    "path = \"words\"\n",
    "lines = (x.rstrip() for x in open(path))\n",
    "i = 0\n",
    "for line in lines:\n",
    "    i = i + 1\n",
    "    print(line)\n",
    "    if i > 9:\n",
    "        break"
   ]
  }
 ],
 "metadata": {
  "celltoolbar": "Slideshow",
  "kernelspec": {
   "display_name": "Python 3",
   "language": "python",
   "name": "python3"
  },
  "language_info": {
   "codemirror_mode": {
    "name": "ipython",
    "version": 3
   },
   "file_extension": ".py",
   "mimetype": "text/x-python",
   "name": "python",
   "nbconvert_exporter": "python",
   "pygments_lexer": "ipython3",
   "version": "3.7.7"
  }
 },
 "nbformat": 4,
 "nbformat_minor": 2
}
