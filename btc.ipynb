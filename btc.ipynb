{
 "cells": [
  {
   "cell_type": "markdown",
   "metadata": {},
   "source": [
    "## BTC の ローソク足チャート\n",
    "\n",
    "matplotlib.finance ではローソク足チャートを描画できる。"
   ]
  },
  {
   "cell_type": "markdown",
   "metadata": {},
   "source": [
    "以下の例では、[Yahoo! Finance から取得したビットコイン-USD 交換レートデータ](https://finance.yahoo.com/quote/BTC-USD/history/)の毎日の始値をプロットしている:"
   ]
  },
  {
   "cell_type": "code",
   "execution_count": null,
   "metadata": {},
   "outputs": [],
   "source": [
    "%matplotlib inline\n",
    "\n",
    "import matplotlib.pyplot as plt\n",
    "\n",
    "from matplotlib.dates import date2num\n",
    "\n",
    "import pandas as pd\n",
    "from datetime import datetime\n",
    "\n",
    "fig, ax = plt.subplots(1,1)\n",
    "\n",
    "df = pd.read_csv(\"BTC-USD.csv\", index_col = 0, parse_dates=True)\n",
    "ax.plot(df[\"Open\"])\n",
    "#ax.plot(df[\"Close\"])\n",
    "\n",
    "ax.set_xlim([\"2017/11/1\", \"2018/4/30\"])"
   ]
  },
  {
   "cell_type": "markdown",
   "metadata": {},
   "source": [
    "以下の例では、ローソク足チャートを描画している。`ohlc` は `[日付,始値,高値,低値,終値]` を要素に持つリスト:"
   ]
  },
  {
   "cell_type": "code",
   "execution_count": null,
   "metadata": {},
   "outputs": [],
   "source": [
    "import matplotlib.pyplot as plt\n",
    "from mpl_finance import candlestick_ohlc\n",
    "from matplotlib.dates import date2num\n",
    "\n",
    "import pandas as pd\n",
    "from datetime import datetime\n",
    "\n",
    "fig = plt.figure()\n",
    "ax = plt.subplot(1,1, 1)\n",
    "\n",
    "\n",
    "df = pd.read_csv(\"BTC-USD.csv\", index_col = 0, parse_dates=True)\n",
    "ohlc = [(date2num(x.date()), val[\"Open\"], val[\"High\"], val[\"Low\"], val[\"Close\"]) for x, val in df.iterrows()]\n",
    "candlestick_ohlc(ax, ohlc)\n",
    "\n",
    "ax.set_xlim(df.index[0], df.index[-1])\n",
    "ax.set_xlim([\"2017/12/1\", \"2018/1/1\"])\n",
    "fig.autofmt_xdate()\n",
    "ax.set_ylabel(\"USD/BTC\")\n",
    "plt.show()"
   ]
  },
  {
   "cell_type": "markdown",
   "metadata": {},
   "source": [
    "以下の例では、さらに相場に影響を与えたイベントを注釈として加えている:"
   ]
  },
  {
   "cell_type": "code",
   "execution_count": null,
   "metadata": {},
   "outputs": [],
   "source": [
    "import matplotlib.pyplot as plt\n",
    "from mpl_finance import candlestick_ohlc\n",
    "from matplotlib.dates import date2num\n",
    "\n",
    "import pandas as pd\n",
    "from datetime import datetime\n",
    "\n",
    "fig = plt.figure(figsize=(8,8))\n",
    "ax = plt.subplot(1,1, 1)\n",
    "\n",
    "\n",
    "df = pd.read_csv(\"BTC-USD.csv\", index_col = 0, parse_dates=True)\n",
    "ohlc = [(date2num(x.date()), val[\"Open\"], val[\"High\"], val[\"Low\"], val[\"Close\"]) for x, val in df.iterrows()]\n",
    "candlestick_ohlc(ax, ohlc)\n",
    "\n",
    "btc_topics = [\n",
    "    (datetime(2017,9,4), \"CHN banned ICO.\"),\n",
    "    (datetime(2017,12,22), \"UKR Ex. was hacked.\"),\n",
    "    (datetime(2018,1,10), \"CHN banned mining.\"),\n",
    "]\n",
    "\n",
    "ax.set_xlim(df.index[0], df.index[-1])\n",
    "ax.set_xlim([\"2017/8/1\", \"2018/3/1\"])\n",
    "fig.autofmt_xdate()\n",
    "for date, label in btc_topics:\n",
    "    ax.annotate(label, xy =(date, df[\"Open\"].asof(date) + 1000),\n",
    "    xytext = (date, df[\"Open\"].asof(date) + 4000),\n",
    "    arrowprops=dict(facecolor=\"black\", headwidth=4, width = 2, headlength=4),\n",
    "               horizontalalignment=\"left\")\n",
    "ax.set_ylabel(\"USD/BTC\")\n",
    "plt.show()"
   ]
  },
  {
   "cell_type": "code",
   "execution_count": null,
   "metadata": {},
   "outputs": [],
   "source": []
  }
 ],
 "metadata": {
  "kernelspec": {
   "display_name": "Python 3",
   "language": "python",
   "name": "python3"
  },
  "language_info": {
   "codemirror_mode": {
    "name": "ipython",
    "version": 3
   },
   "file_extension": ".py",
   "mimetype": "text/x-python",
   "name": "python",
   "nbconvert_exporter": "python",
   "pygments_lexer": "ipython3",
   "version": "3.7.3"
  }
 },
 "nbformat": 4,
 "nbformat_minor": 2
}
