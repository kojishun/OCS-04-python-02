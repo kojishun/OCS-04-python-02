{
 "cells": [
  {
   "cell_type": "markdown",
   "metadata": {
    "slideshow": {
     "slide_type": "slide"
    }
   },
   "source": [
    "## Pandas\n",
    "\n",
    "この資料は[The Python Tutorial](https://docs.python.org/3.6/tutorial/index.html#the-python-tutorial)\n",
    "    ([日本語版](https://docs.python.jp/3/tutorial/)) および [Python for Data Analysis:Wrangling with Pandas, Numpy and IPython](http://shop.oreilly.com/product/0636920050896.do)を参考に作成した。  "
   ]
  },
  {
   "cell_type": "markdown",
   "metadata": {},
   "source": [
    "## Pandas モジュールインストール\n",
    "Anaconda の default 構成では pandas はインストールされない。以下の手順で install すること。\n",
    "\n",
    "1. Anaconda Navigator -> Environments から Installed -> Not installed を選択\n",
    "2. Search Packages フィールドから \"pandas\" パッケージを検索\n",
    "3. pandas を選択、Apply ボタンをクリックしインストール"
   ]
  },
  {
   "cell_type": "markdown",
   "metadata": {},
   "source": [
    "Pandas は Python でデータ分析をおこなうためのデータ構造やデータ操作ツールを提供している。\n",
    "Pandas を利用するには、以下のようにモジュールを import する:\n",
    "```Python\n",
    "import pandas as pd\n",
    "```\n",
    "\n",
    "ここでは、Pandas のデータ構造のうち、`pd.Series` と `pd.DataFrame` を採り上げる。\n",
    "\n",
    "### `pd.Series`\n",
    "`pd.Series` は一次元配列と配列に関連づけられたインデックス名で構成されている。  \n",
    "一次元リストから、`pd.Series`は、以下のように生成できる。  \n",
    "値とインデックスはそれぞれ `pd.Series.values`, `pd.Series.index` 属性から得る:"
   ]
  },
  {
   "cell_type": "code",
   "execution_count": 117,
   "metadata": {},
   "outputs": [
    {
     "name": "stdout",
     "output_type": "stream",
     "text": [
      "pd.Series:\n",
      "0    9\n",
      "1    8\n",
      "2    7\n",
      "3    6\n",
      "dtype: int64\n",
      "\n",
      "pd.Series.values:\n",
      "[9 8 7 6]\n",
      "\n",
      "pd.Series.index:\n",
      "RangeIndex(start=0, stop=4, step=1)\n"
     ]
    }
   ],
   "source": [
    "import pandas as pd\n",
    "obj = pd.Series([9,8,7,6])\n",
    "print(\"pd.Series:\")\n",
    "print(obj)\n",
    "print()\n",
    "print(\"pd.Series.values:\")\n",
    "print(obj.values)\n",
    "print()\n",
    "print(\"pd.Series.index:\")\n",
    "print(obj.index)"
   ]
  },
  {
   "cell_type": "markdown",
   "metadata": {},
   "source": [
    "インデックスとして文字列（ラベル）を使うこともできる:"
   ]
  },
  {
   "cell_type": "code",
   "execution_count": 118,
   "metadata": {},
   "outputs": [
    {
     "name": "stdout",
     "output_type": "stream",
     "text": [
      "pd.Series:\n",
      "a    9\n",
      "b    8\n",
      "c    7\n",
      "d    6\n",
      "dtype: int64\n",
      "\n",
      "pd.Series.values:\n",
      "[9 8 7 6]\n",
      "\n",
      "pd.Series.index:\n",
      "Index(['a', 'b', 'c', 'd'], dtype='object')\n"
     ]
    }
   ],
   "source": [
    "import pandas as pd\n",
    "obj2 = pd.Series([9,8,7,6], index=[\"a\", \"b\", \"c\", \"d\"])\n",
    "print(\"pd.Series:\")\n",
    "print(obj2)\n",
    "print()\n",
    "print(\"pd.Series.values:\")\n",
    "print(obj2.values)\n",
    "print()\n",
    "print(\"pd.Series.index:\")\n",
    "print(obj2.index)"
   ]
  },
  {
   "cell_type": "markdown",
   "metadata": {},
   "source": [
    "`numpy.ndarray` との一番大きなちがいは、`pd.Series` はラベルを使って要素にアクセスできる:"
   ]
  },
  {
   "cell_type": "code",
   "execution_count": 119,
   "metadata": {},
   "outputs": [
    {
     "name": "stdout",
     "output_type": "stream",
     "text": [
      "obj2[\"a\"]:\n",
      "9\n",
      "\n",
      "After substitutions:\n",
      "a    9999\n",
      "b       8\n",
      "c       7\n",
      "d       6\n",
      "e       0\n",
      "dtype: int64\n"
     ]
    }
   ],
   "source": [
    "import pandas as pd\n",
    "obj2 = pd.Series([9,8,7,6], index=[\"a\", \"b\", \"c\", \"d\"])\n",
    "print('obj2[\"a\"]:')\n",
    "print(obj2[\"a\"])\n",
    "print()\n",
    "obj2[\"a\"] = 9999\n",
    "obj2[\"e\"] = 0\n",
    "print(\"After substitutions:\")\n",
    "print(obj2)"
   ]
  },
  {
   "cell_type": "markdown",
   "metadata": {},
   "source": [
    "`pd.Series` では `numpy.ndarray` と同様のフィルタリング、演算がおこなえる:"
   ]
  },
  {
   "cell_type": "code",
   "execution_count": 120,
   "metadata": {},
   "outputs": [
    {
     "name": "stdout",
     "output_type": "stream",
     "text": [
      "obj2[obj2 < 8]:\n",
      "c    7\n",
      "d    6\n",
      "dtype: int64\n",
      "\n",
      "obj2 * 2\n",
      "a    18\n",
      "b    16\n",
      "c    14\n",
      "d    12\n",
      "dtype: int64\n"
     ]
    }
   ],
   "source": [
    "import pandas as pd\n",
    "obj2 = pd.Series([9,8,7,6], index=[\"a\", \"b\", \"c\", \"d\"])\n",
    "print('obj2[obj2 < 8]:')\n",
    "print(obj2[obj2 < 8])\n",
    "print()\n",
    "print('obj2 * 2')\n",
    "print(obj2 * 2)"
   ]
  },
  {
   "cell_type": "markdown",
   "metadata": {},
   "source": [
    "辞書形式のデータがあれば、それから `pd.Series`を生成することもできる。`key` がラベルに、`value` が要素となる:"
   ]
  },
  {
   "cell_type": "code",
   "execution_count": 121,
   "metadata": {},
   "outputs": [
    {
     "name": "stdout",
     "output_type": "stream",
     "text": [
      "pd.Series:\n",
      "Chiba        800\n",
      "Kanagawa     900\n",
      "Tokyo       1000\n",
      "dtype: int64\n",
      "\n",
      "pd.Series.values:\n",
      "[ 800  900 1000]\n",
      "\n",
      "pd.Series.index:\n",
      "Index(['Chiba', 'Kanagawa', 'Tokyo'], dtype='object')\n"
     ]
    }
   ],
   "source": [
    "import pandas as pd\n",
    "data_dict = {\"Tokyo\":1000, \"Kanagawa\":900, \"Chiba\":800}\n",
    "\n",
    "obj3 = pd.Series(data_dict)\n",
    "\n",
    "print(\"pd.Series:\")\n",
    "print(obj3)\n",
    "print()\n",
    "print(\"pd.Series.values:\")\n",
    "print(obj3.values)\n",
    "print()\n",
    "print(\"pd.Series.index:\")\n",
    "print(obj3.index)"
   ]
  },
  {
   "cell_type": "markdown",
   "metadata": {},
   "source": [
    "辞書から `pd.Series` 生成時にインデックスを指定することもできる。  \n",
    "以下の例では辞書の `key` にないラベルとして Saitama が与えられている。\n",
    "生成された `pd.Series` では、対応する `value` は NaN (Not a Number) となる。  \n",
    "一方で、Kanagawa というラベルはインデックスとして与えられていないため `pd.Series` からは除かれる:"
   ]
  },
  {
   "cell_type": "code",
   "execution_count": 122,
   "metadata": {},
   "outputs": [
    {
     "name": "stdout",
     "output_type": "stream",
     "text": [
      "pd.Series:\n",
      "Tokyo      1000.0\n",
      "Chiba       800.0\n",
      "Saitama       NaN\n",
      "dtype: float64\n",
      "\n"
     ]
    }
   ],
   "source": [
    "import pandas as pd\n",
    "data_dict = {\"Tokyo\":1000, \"Kanagawa\":900, \"Chiba\":800}\n",
    "\n",
    "obj4 = pd.Series(data_dict, index=[\"Tokyo\", \"Chiba\", \"Saitama\"])\n",
    "\n",
    "print(\"pd.Series:\")\n",
    "print(obj4)\n",
    "print()"
   ]
  },
  {
   "cell_type": "markdown",
   "metadata": {},
   "source": [
    "データ欠落の検出には `pd.isnull()`を、有効データの検査には `pd.notnull()` を使う:"
   ]
  },
  {
   "cell_type": "code",
   "execution_count": 123,
   "metadata": {},
   "outputs": [
    {
     "name": "stdout",
     "output_type": "stream",
     "text": [
      "pd.isnull():\n",
      "Tokyo      False\n",
      "Chiba      False\n",
      "Saitama     True\n",
      "dtype: bool\n",
      "\n",
      "pd.notnull():\n",
      "Tokyo       True\n",
      "Chiba       True\n",
      "Saitama    False\n",
      "dtype: bool\n"
     ]
    }
   ],
   "source": [
    "import pandas as pd\n",
    "data_dict = {\"Tokyo\":1000, \"Kanagawa\":900, \"Chiba\":800}\n",
    "\n",
    "obj4 = pd.Series(data_dict, index=[\"Tokyo\", \"Chiba\", \"Saitama\"])\n",
    "\n",
    "print(\"pd.isnull():\")\n",
    "print(pd.isnull(obj4))\n",
    "print()\n",
    "print(\"pd.notnull():\")\n",
    "print(pd.notnull(obj4))"
   ]
  },
  {
   "cell_type": "markdown",
   "metadata": {},
   "source": [
    "`pd.Series` オブジェクトおよびインデックスに名付けすることもできる:"
   ]
  },
  {
   "cell_type": "code",
   "execution_count": 124,
   "metadata": {},
   "outputs": [
    {
     "name": "stdout",
     "output_type": "stream",
     "text": [
      "都道府県\n",
      "Tokyo      1000.0\n",
      "Chiba       800.0\n",
      "Saitama       NaN\n",
      "Name: 年収, dtype: float64\n"
     ]
    }
   ],
   "source": [
    "import pandas as pd\n",
    "data_dict = {\"Tokyo\":1000, \"Kanagawa\":900, \"Chiba\":800}\n",
    "obj4 = pd.Series(data_dict, index=[\"Tokyo\", \"Chiba\", \"Saitama\"])\n",
    "\n",
    "obj4.name = \"年収\"\n",
    "obj4.index.name = \"都道府県\"\n",
    "\n",
    "print(obj4)"
   ]
  },
  {
   "cell_type": "markdown",
   "metadata": {},
   "source": [
    "### インデックス、選択、フィルタリング\n",
    "`pd.Series` には Numpy と同じように要素番号でアクセスできる。\n",
    "添字には、数字だけではなくインデックスも使える:"
   ]
  },
  {
   "cell_type": "code",
   "execution_count": 125,
   "metadata": {},
   "outputs": [
    {
     "name": "stdout",
     "output_type": "stream",
     "text": [
      "Sample:\n",
      "a    0\n",
      "b    1\n",
      "c    2\n",
      "d    3\n",
      "e    4\n",
      "dtype: int64\n",
      "\n",
      "obj[\"b\"], obj[1]\n",
      "1 1\n",
      "\n",
      "obj[[\"b\", \"d\", \"e\"]] : fancy index\n",
      "b    1\n",
      "d    3\n",
      "e    4\n",
      "dtype: int64\n",
      "\n",
      "obj[obj > 2] : filtering\n",
      "d    3\n",
      "e    4\n",
      "dtype: int64\n"
     ]
    }
   ],
   "source": [
    "import pandas as pd\n",
    "import numpy as np\n",
    "\n",
    "obj = pd.Series(range(5), index = [\"a\", \"b\", \"c\", \"d\", \"e\"])\n",
    "\n",
    "print(\"Sample:\")\n",
    "print(obj)\n",
    "print()\n",
    "print('obj[\"b\"], obj[1]')\n",
    "print(obj[\"b\"], obj[1])\n",
    "print()\n",
    "print('obj[[\"b\", \"d\", \"e\"]] : fancy index')\n",
    "print(obj[[\"b\", \"d\", \"e\"]])\n",
    "print()\n",
    "print('obj[obj > 2] : filtering')\n",
    "print(obj[obj > 2])"
   ]
  },
  {
   "cell_type": "markdown",
   "metadata": {},
   "source": [
    "インデックスを使ったスライシングも使える。  \n",
    "通常のスライシングと違うのは、stop の要素も含まれる。\n",
    "スライスされた要素への代入もできる:"
   ]
  },
  {
   "cell_type": "code",
   "execution_count": 126,
   "metadata": {},
   "outputs": [
    {
     "name": "stdout",
     "output_type": "stream",
     "text": [
      "Sample:\n",
      "a    0\n",
      "b    1\n",
      "c    2\n",
      "d    3\n",
      "e    4\n",
      "dtype: int64\n",
      "\n",
      "obj[1:4]\n",
      "b    1\n",
      "c    2\n",
      "d    3\n",
      "dtype: int64\n",
      "\n",
      "obj[\"a\":\"c\"]\n",
      "a    0\n",
      "b    1\n",
      "c    2\n",
      "dtype: int64\n",
      "\n",
      "after obj[\"a\":\"c\"] = 99\n",
      "a    99\n",
      "b    99\n",
      "c    99\n",
      "d     3\n",
      "e     4\n",
      "dtype: int64\n"
     ]
    }
   ],
   "source": [
    "import pandas as pd\n",
    "import numpy as np\n",
    "\n",
    "obj = pd.Series(range(5), index = [\"a\", \"b\", \"c\", \"d\", \"e\"])\n",
    "\n",
    "print(\"Sample:\")\n",
    "print(obj)\n",
    "print()\n",
    "\n",
    "print('obj[1:4]')\n",
    "print(obj[1:4])\n",
    "print()\n",
    "\n",
    "print('obj[\"a\":\"c\"]')\n",
    "print(obj[\"a\":\"c\"])\n",
    "print()\n",
    "\n",
    "print('after obj[\"a\":\"c\"] = 99')\n",
    "obj[\"a\":\"c\"] = 99\n",
    "print(obj)"
   ]
  },
  {
   "cell_type": "markdown",
   "metadata": {},
   "source": [
    "### `pd.DataFrame`\n",
    "\n",
    "`pd.DataFrame` は複数の列、`column(s)`、から構成された２次元の表である。\n",
    "それぞれの列で異なる要素型とすることができる。\n",
    "`pd.DataFrame` は行、列ともににインデックスを与えることができる（Jupyter notebook では  `pd.DataFrame` は整形されるので以降これを利用する）:"
   ]
  },
  {
   "cell_type": "code",
   "execution_count": 127,
   "metadata": {},
   "outputs": [
    {
     "data": {
      "text/html": [
       "<div>\n",
       "<style scoped>\n",
       "    .dataframe tbody tr th:only-of-type {\n",
       "        vertical-align: middle;\n",
       "    }\n",
       "\n",
       "    .dataframe tbody tr th {\n",
       "        vertical-align: top;\n",
       "    }\n",
       "\n",
       "    .dataframe thead th {\n",
       "        text-align: right;\n",
       "    }\n",
       "</style>\n",
       "<table border=\"1\" class=\"dataframe\">\n",
       "  <thead>\n",
       "    <tr style=\"text-align: right;\">\n",
       "      <th></th>\n",
       "      <th>pop</th>\n",
       "      <th>prefecture</th>\n",
       "      <th>year</th>\n",
       "    </tr>\n",
       "  </thead>\n",
       "  <tbody>\n",
       "    <tr>\n",
       "      <th>0</th>\n",
       "      <td>13.70</td>\n",
       "      <td>Tokyo</td>\n",
       "      <td>2017</td>\n",
       "    </tr>\n",
       "    <tr>\n",
       "      <th>1</th>\n",
       "      <td>6.14</td>\n",
       "      <td>Chiba</td>\n",
       "      <td>2012</td>\n",
       "    </tr>\n",
       "    <tr>\n",
       "      <th>2</th>\n",
       "      <td>9.10</td>\n",
       "      <td>Kanagawa</td>\n",
       "      <td>2012</td>\n",
       "    </tr>\n",
       "    <tr>\n",
       "      <th>3</th>\n",
       "      <td>7.20</td>\n",
       "      <td>Saitama</td>\n",
       "      <td>2012</td>\n",
       "    </tr>\n",
       "  </tbody>\n",
       "</table>\n",
       "</div>"
      ],
      "text/plain": [
       "     pop prefecture  year\n",
       "0  13.70      Tokyo  2017\n",
       "1   6.14      Chiba  2012\n",
       "2   9.10   Kanagawa  2012\n",
       "3   7.20    Saitama  2012"
      ]
     },
     "execution_count": 127,
     "metadata": {},
     "output_type": "execute_result"
    }
   ],
   "source": [
    "import pandas as pd\n",
    "data_dict = {\"prefecture\":[\"Tokyo\", \"Chiba\", \"Kanagawa\", \"Saitama\"], \n",
    "             \"year\":[2017, 2012, 2012, 2012],\n",
    "             \"pop\":[13.7, 6.14, 9.1, 7.2]}\n",
    "df = pd.DataFrame(data_dict)\n",
    "\n",
    "df"
   ]
  },
  {
   "cell_type": "markdown",
   "metadata": {},
   "source": [
    "`pd.DataFrame()` では、`columns` 引数によって列の順序を調整できる。  \n",
    "相当するインデックス（この場合キー）がなければその列は `NaN` となる:"
   ]
  },
  {
   "cell_type": "code",
   "execution_count": 128,
   "metadata": {},
   "outputs": [
    {
     "name": "stdout",
     "output_type": "stream",
     "text": [
      "pd.DataFrame:\n"
     ]
    },
    {
     "data": {
      "text/html": [
       "<div>\n",
       "<style scoped>\n",
       "    .dataframe tbody tr th:only-of-type {\n",
       "        vertical-align: middle;\n",
       "    }\n",
       "\n",
       "    .dataframe tbody tr th {\n",
       "        vertical-align: top;\n",
       "    }\n",
       "\n",
       "    .dataframe thead th {\n",
       "        text-align: right;\n",
       "    }\n",
       "</style>\n",
       "<table border=\"1\" class=\"dataframe\">\n",
       "  <thead>\n",
       "    <tr style=\"text-align: right;\">\n",
       "      <th></th>\n",
       "      <th>year</th>\n",
       "      <th>prefecture</th>\n",
       "      <th>pop</th>\n",
       "      <th>debt</th>\n",
       "    </tr>\n",
       "  </thead>\n",
       "  <tbody>\n",
       "    <tr>\n",
       "      <th>one</th>\n",
       "      <td>2017</td>\n",
       "      <td>Tokyo</td>\n",
       "      <td>13.70</td>\n",
       "      <td>NaN</td>\n",
       "    </tr>\n",
       "    <tr>\n",
       "      <th>two</th>\n",
       "      <td>2012</td>\n",
       "      <td>Chiba</td>\n",
       "      <td>6.14</td>\n",
       "      <td>NaN</td>\n",
       "    </tr>\n",
       "    <tr>\n",
       "      <th>three</th>\n",
       "      <td>2012</td>\n",
       "      <td>Kanagawa</td>\n",
       "      <td>9.10</td>\n",
       "      <td>NaN</td>\n",
       "    </tr>\n",
       "    <tr>\n",
       "      <th>four</th>\n",
       "      <td>2012</td>\n",
       "      <td>Saitama</td>\n",
       "      <td>7.20</td>\n",
       "      <td>NaN</td>\n",
       "    </tr>\n",
       "  </tbody>\n",
       "</table>\n",
       "</div>"
      ],
      "text/plain": [
       "       year prefecture    pop debt\n",
       "one    2017      Tokyo  13.70  NaN\n",
       "two    2012      Chiba   6.14  NaN\n",
       "three  2012   Kanagawa   9.10  NaN\n",
       "four   2012    Saitama   7.20  NaN"
      ]
     },
     "execution_count": 128,
     "metadata": {},
     "output_type": "execute_result"
    }
   ],
   "source": [
    "import pandas as pd\n",
    "data_dict = {\"prefecture\":[\"Tokyo\", \"Chiba\", \"Kanagawa\", \"Saitama\"], \n",
    "             \"year\":[2017, 2012, 2012, 2012],\n",
    "             \"pop\":[13.7, 6.14, 9.1, 7.2]}\n",
    "\n",
    "df2 = pd.DataFrame(data_dict, columns=[\"year\", \"prefecture\", \"pop\", \"debt\"],\n",
    "                     index=[\"one\", \"two\", \"three\", \"four\"])\n",
    "\n",
    "print(\"pd.DataFrame:\")\n",
    "df2"
   ]
  },
  {
   "cell_type": "markdown",
   "metadata": {},
   "source": [
    "列にはインデックス名を辞書 key あるいは属性としてアクセスすることができる\n",
    "（行へのアクセスは、`pd.DataFrame.loc` あるいは `pd.DataFrame.iloc` を利用する）:"
   ]
  },
  {
   "cell_type": "code",
   "execution_count": 129,
   "metadata": {},
   "outputs": [
    {
     "name": "stdout",
     "output_type": "stream",
     "text": [
      "Pick column as dictionary:\n",
      "one         Tokyo\n",
      "two         China\n",
      "three    Kanagawa\n",
      "four      Saitama\n",
      "Name: prefecture, dtype: object\n",
      "\n",
      "Pick column as attribute:\n",
      "one      2017\n",
      "two      2012\n",
      "three    2012\n",
      "four     2012\n",
      "Name: year, dtype: int64\n"
     ]
    }
   ],
   "source": [
    "import pandas as pd\n",
    "data_dict = {\"prefecture\":[\"Tokyo\", \"China\", \"Kanagawa\", \"Saitama\"], \n",
    "             \"year\":[2017, 2012, 2012, 2012],\n",
    "             \"pop\":[13.7, 6.14, 9.1, 7.2]}\n",
    "\n",
    "df2 = pd.DataFrame(data_dict, columns=[\"year\", \"prefecture\", \"pop\", \"debt\"],\n",
    "                     index=[\"one\", \"two\", \"three\", \"four\"])\n",
    "\n",
    "print(\"Pick column as dictionary:\")\n",
    "print(df2[\"prefecture\"])\n",
    "print()\n",
    "print(\"Pick column as attribute:\")\n",
    "print(df2.year)"
   ]
  },
  {
   "cell_type": "markdown",
   "metadata": {},
   "source": [
    "列の内容を更新することは可能、例えば `debt` 列を更新する場合以下のようにできる。  \n",
    "list など配列で更新する場合はその長さを `pd.DataFrame` 長さに合わせる必要がある。  \n",
    "インデックス付きの `pd.Series` を使えば長さをそろえる必要はない:"
   ]
  },
  {
   "cell_type": "code",
   "execution_count": 130,
   "metadata": {},
   "outputs": [
    {
     "data": {
      "text/html": [
       "<div>\n",
       "<style scoped>\n",
       "    .dataframe tbody tr th:only-of-type {\n",
       "        vertical-align: middle;\n",
       "    }\n",
       "\n",
       "    .dataframe tbody tr th {\n",
       "        vertical-align: top;\n",
       "    }\n",
       "\n",
       "    .dataframe thead th {\n",
       "        text-align: right;\n",
       "    }\n",
       "</style>\n",
       "<table border=\"1\" class=\"dataframe\">\n",
       "  <thead>\n",
       "    <tr style=\"text-align: right;\">\n",
       "      <th></th>\n",
       "      <th>year</th>\n",
       "      <th>prefecture</th>\n",
       "      <th>pop</th>\n",
       "      <th>debt</th>\n",
       "    </tr>\n",
       "  </thead>\n",
       "  <tbody>\n",
       "    <tr>\n",
       "      <th>one</th>\n",
       "      <td>2017</td>\n",
       "      <td>Tokyo</td>\n",
       "      <td>13.70</td>\n",
       "      <td>16.5</td>\n",
       "    </tr>\n",
       "    <tr>\n",
       "      <th>two</th>\n",
       "      <td>2012</td>\n",
       "      <td>Chiba</td>\n",
       "      <td>6.14</td>\n",
       "      <td>16.5</td>\n",
       "    </tr>\n",
       "    <tr>\n",
       "      <th>three</th>\n",
       "      <td>2012</td>\n",
       "      <td>Kanagawa</td>\n",
       "      <td>9.10</td>\n",
       "      <td>16.5</td>\n",
       "    </tr>\n",
       "    <tr>\n",
       "      <th>four</th>\n",
       "      <td>2012</td>\n",
       "      <td>Saitama</td>\n",
       "      <td>7.20</td>\n",
       "      <td>16.5</td>\n",
       "    </tr>\n",
       "  </tbody>\n",
       "</table>\n",
       "</div>"
      ],
      "text/plain": [
       "       year prefecture    pop  debt\n",
       "one    2017      Tokyo  13.70  16.5\n",
       "two    2012      Chiba   6.14  16.5\n",
       "three  2012   Kanagawa   9.10  16.5\n",
       "four   2012    Saitama   7.20  16.5"
      ]
     },
     "execution_count": 130,
     "metadata": {},
     "output_type": "execute_result"
    }
   ],
   "source": [
    "import pandas as pd\n",
    "data_dict = {\"prefecture\":[\"Tokyo\", \"Chiba\", \"Kanagawa\", \"Saitama\"], \n",
    "             \"year\":[2017, 2012, 2012, 2012],\n",
    "             \"pop\":[13.7, 6.14, 9.1, 7.2]}\n",
    "\n",
    "df2 = pd.DataFrame(data_dict, columns=[\"year\", \"prefecture\", \"pop\", \"debt\"],\n",
    "                     index=[\"one\", \"two\", \"three\", \"four\"])\n",
    "\n",
    "df2[\"debt\"] = 16.5 # Fill a scalar value\n",
    "df2"
   ]
  },
  {
   "cell_type": "code",
   "execution_count": 131,
   "metadata": {},
   "outputs": [
    {
     "data": {
      "text/html": [
       "<div>\n",
       "<style scoped>\n",
       "    .dataframe tbody tr th:only-of-type {\n",
       "        vertical-align: middle;\n",
       "    }\n",
       "\n",
       "    .dataframe tbody tr th {\n",
       "        vertical-align: top;\n",
       "    }\n",
       "\n",
       "    .dataframe thead th {\n",
       "        text-align: right;\n",
       "    }\n",
       "</style>\n",
       "<table border=\"1\" class=\"dataframe\">\n",
       "  <thead>\n",
       "    <tr style=\"text-align: right;\">\n",
       "      <th></th>\n",
       "      <th>year</th>\n",
       "      <th>prefecture</th>\n",
       "      <th>pop</th>\n",
       "      <th>debt</th>\n",
       "    </tr>\n",
       "  </thead>\n",
       "  <tbody>\n",
       "    <tr>\n",
       "      <th>one</th>\n",
       "      <td>2017</td>\n",
       "      <td>Tokyo</td>\n",
       "      <td>13.70</td>\n",
       "      <td>0</td>\n",
       "    </tr>\n",
       "    <tr>\n",
       "      <th>two</th>\n",
       "      <td>2012</td>\n",
       "      <td>Chiba</td>\n",
       "      <td>6.14</td>\n",
       "      <td>1</td>\n",
       "    </tr>\n",
       "    <tr>\n",
       "      <th>three</th>\n",
       "      <td>2012</td>\n",
       "      <td>Kanagawa</td>\n",
       "      <td>9.10</td>\n",
       "      <td>2</td>\n",
       "    </tr>\n",
       "    <tr>\n",
       "      <th>four</th>\n",
       "      <td>2012</td>\n",
       "      <td>Saitama</td>\n",
       "      <td>7.20</td>\n",
       "      <td>3</td>\n",
       "    </tr>\n",
       "  </tbody>\n",
       "</table>\n",
       "</div>"
      ],
      "text/plain": [
       "       year prefecture    pop  debt\n",
       "one    2017      Tokyo  13.70     0\n",
       "two    2012      Chiba   6.14     1\n",
       "three  2012   Kanagawa   9.10     2\n",
       "four   2012    Saitama   7.20     3"
      ]
     },
     "execution_count": 131,
     "metadata": {},
     "output_type": "execute_result"
    }
   ],
   "source": [
    "df2[\"debt\"] = range(4) #Fill sequence values\n",
    "df2"
   ]
  },
  {
   "cell_type": "code",
   "execution_count": 132,
   "metadata": {},
   "outputs": [
    {
     "data": {
      "text/html": [
       "<div>\n",
       "<style scoped>\n",
       "    .dataframe tbody tr th:only-of-type {\n",
       "        vertical-align: middle;\n",
       "    }\n",
       "\n",
       "    .dataframe tbody tr th {\n",
       "        vertical-align: top;\n",
       "    }\n",
       "\n",
       "    .dataframe thead th {\n",
       "        text-align: right;\n",
       "    }\n",
       "</style>\n",
       "<table border=\"1\" class=\"dataframe\">\n",
       "  <thead>\n",
       "    <tr style=\"text-align: right;\">\n",
       "      <th></th>\n",
       "      <th>year</th>\n",
       "      <th>prefecture</th>\n",
       "      <th>pop</th>\n",
       "      <th>debt</th>\n",
       "    </tr>\n",
       "  </thead>\n",
       "  <tbody>\n",
       "    <tr>\n",
       "      <th>one</th>\n",
       "      <td>2017</td>\n",
       "      <td>Tokyo</td>\n",
       "      <td>13.70</td>\n",
       "      <td>NaN</td>\n",
       "    </tr>\n",
       "    <tr>\n",
       "      <th>two</th>\n",
       "      <td>2012</td>\n",
       "      <td>Chiba</td>\n",
       "      <td>6.14</td>\n",
       "      <td>10.0</td>\n",
       "    </tr>\n",
       "    <tr>\n",
       "      <th>three</th>\n",
       "      <td>2012</td>\n",
       "      <td>Kanagawa</td>\n",
       "      <td>9.10</td>\n",
       "      <td>NaN</td>\n",
       "    </tr>\n",
       "    <tr>\n",
       "      <th>four</th>\n",
       "      <td>2012</td>\n",
       "      <td>Saitama</td>\n",
       "      <td>7.20</td>\n",
       "      <td>12.0</td>\n",
       "    </tr>\n",
       "  </tbody>\n",
       "</table>\n",
       "</div>"
      ],
      "text/plain": [
       "       year prefecture    pop  debt\n",
       "one    2017      Tokyo  13.70   NaN\n",
       "two    2012      Chiba   6.14  10.0\n",
       "three  2012   Kanagawa   9.10   NaN\n",
       "four   2012    Saitama   7.20  12.0"
      ]
     },
     "execution_count": 132,
     "metadata": {},
     "output_type": "execute_result"
    }
   ],
   "source": [
    "val = pd.Series([10, 12], index=[\"two\", \"four\"])\n",
    "df2[\"debt\"] = val # Replace partial elements\n",
    "df2"
   ]
  },
  {
   "cell_type": "markdown",
   "metadata": {},
   "source": [
    "インデックスのない列への代入では列が作成される。`del` によって列を削除することも可能:"
   ]
  },
  {
   "cell_type": "code",
   "execution_count": 133,
   "metadata": {},
   "outputs": [
    {
     "data": {
      "text/html": [
       "<div>\n",
       "<style scoped>\n",
       "    .dataframe tbody tr th:only-of-type {\n",
       "        vertical-align: middle;\n",
       "    }\n",
       "\n",
       "    .dataframe tbody tr th {\n",
       "        vertical-align: top;\n",
       "    }\n",
       "\n",
       "    .dataframe thead th {\n",
       "        text-align: right;\n",
       "    }\n",
       "</style>\n",
       "<table border=\"1\" class=\"dataframe\">\n",
       "  <thead>\n",
       "    <tr style=\"text-align: right;\">\n",
       "      <th></th>\n",
       "      <th>year</th>\n",
       "      <th>prefecture</th>\n",
       "      <th>pop</th>\n",
       "      <th>debt</th>\n",
       "      <th>capital</th>\n",
       "    </tr>\n",
       "  </thead>\n",
       "  <tbody>\n",
       "    <tr>\n",
       "      <th>one</th>\n",
       "      <td>2017</td>\n",
       "      <td>Tokyo</td>\n",
       "      <td>13.70</td>\n",
       "      <td>NaN</td>\n",
       "      <td>True</td>\n",
       "    </tr>\n",
       "    <tr>\n",
       "      <th>two</th>\n",
       "      <td>2012</td>\n",
       "      <td>Chiba</td>\n",
       "      <td>6.14</td>\n",
       "      <td>NaN</td>\n",
       "      <td>False</td>\n",
       "    </tr>\n",
       "    <tr>\n",
       "      <th>three</th>\n",
       "      <td>2012</td>\n",
       "      <td>Kanagawa</td>\n",
       "      <td>9.10</td>\n",
       "      <td>NaN</td>\n",
       "      <td>False</td>\n",
       "    </tr>\n",
       "    <tr>\n",
       "      <th>four</th>\n",
       "      <td>2012</td>\n",
       "      <td>Saitama</td>\n",
       "      <td>7.20</td>\n",
       "      <td>NaN</td>\n",
       "      <td>False</td>\n",
       "    </tr>\n",
       "  </tbody>\n",
       "</table>\n",
       "</div>"
      ],
      "text/plain": [
       "       year prefecture    pop debt  capital\n",
       "one    2017      Tokyo  13.70  NaN     True\n",
       "two    2012      Chiba   6.14  NaN    False\n",
       "three  2012   Kanagawa   9.10  NaN    False\n",
       "four   2012    Saitama   7.20  NaN    False"
      ]
     },
     "execution_count": 133,
     "metadata": {},
     "output_type": "execute_result"
    }
   ],
   "source": [
    "import pandas as pd\n",
    "data_dict = {\"prefecture\":[\"Tokyo\", \"Chiba\", \"Kanagawa\", \"Saitama\"], \n",
    "             \"year\":[2017, 2012, 2012, 2012],\n",
    "             \"pop\":[13.7, 6.14, 9.1, 7.2]}\n",
    "\n",
    "df2 = pd.DataFrame(data_dict, columns=[\"year\", \"prefecture\", \"pop\", \"debt\"],\n",
    "                     index=[\"one\", \"two\", \"three\", \"four\"])\n",
    "\n",
    "\n",
    "df2[\"capital\"] = df2.prefecture == \"Tokyo\" #Add capital culumn\n",
    "df2"
   ]
  },
  {
   "cell_type": "code",
   "execution_count": 134,
   "metadata": {},
   "outputs": [
    {
     "data": {
      "text/html": [
       "<div>\n",
       "<style scoped>\n",
       "    .dataframe tbody tr th:only-of-type {\n",
       "        vertical-align: middle;\n",
       "    }\n",
       "\n",
       "    .dataframe tbody tr th {\n",
       "        vertical-align: top;\n",
       "    }\n",
       "\n",
       "    .dataframe thead th {\n",
       "        text-align: right;\n",
       "    }\n",
       "</style>\n",
       "<table border=\"1\" class=\"dataframe\">\n",
       "  <thead>\n",
       "    <tr style=\"text-align: right;\">\n",
       "      <th></th>\n",
       "      <th>year</th>\n",
       "      <th>prefecture</th>\n",
       "      <th>pop</th>\n",
       "      <th>debt</th>\n",
       "    </tr>\n",
       "  </thead>\n",
       "  <tbody>\n",
       "    <tr>\n",
       "      <th>one</th>\n",
       "      <td>2017</td>\n",
       "      <td>Tokyo</td>\n",
       "      <td>13.70</td>\n",
       "      <td>NaN</td>\n",
       "    </tr>\n",
       "    <tr>\n",
       "      <th>two</th>\n",
       "      <td>2012</td>\n",
       "      <td>Chiba</td>\n",
       "      <td>6.14</td>\n",
       "      <td>NaN</td>\n",
       "    </tr>\n",
       "    <tr>\n",
       "      <th>three</th>\n",
       "      <td>2012</td>\n",
       "      <td>Kanagawa</td>\n",
       "      <td>9.10</td>\n",
       "      <td>NaN</td>\n",
       "    </tr>\n",
       "    <tr>\n",
       "      <th>four</th>\n",
       "      <td>2012</td>\n",
       "      <td>Saitama</td>\n",
       "      <td>7.20</td>\n",
       "      <td>NaN</td>\n",
       "    </tr>\n",
       "  </tbody>\n",
       "</table>\n",
       "</div>"
      ],
      "text/plain": [
       "       year prefecture    pop debt\n",
       "one    2017      Tokyo  13.70  NaN\n",
       "two    2012      Chiba   6.14  NaN\n",
       "three  2012   Kanagawa   9.10  NaN\n",
       "four   2012    Saitama   7.20  NaN"
      ]
     },
     "execution_count": 134,
     "metadata": {},
     "output_type": "execute_result"
    }
   ],
   "source": [
    "del df2[\"capital\"] # Delete the culumn \n",
    "df2"
   ]
  },
  {
   "cell_type": "markdown",
   "metadata": {},
   "source": [
    "`pd.DataFrame` 生成時に辞書が入れ子になっている場合は、以下のように展開される:  "
   ]
  },
  {
   "cell_type": "code",
   "execution_count": 135,
   "metadata": {},
   "outputs": [
    {
     "data": {
      "text/html": [
       "<div>\n",
       "<style scoped>\n",
       "    .dataframe tbody tr th:only-of-type {\n",
       "        vertical-align: middle;\n",
       "    }\n",
       "\n",
       "    .dataframe tbody tr th {\n",
       "        vertical-align: top;\n",
       "    }\n",
       "\n",
       "    .dataframe thead th {\n",
       "        text-align: right;\n",
       "    }\n",
       "</style>\n",
       "<table border=\"1\" class=\"dataframe\">\n",
       "  <thead>\n",
       "    <tr style=\"text-align: right;\">\n",
       "      <th></th>\n",
       "      <th>Chiba</th>\n",
       "      <th>Kanagawa</th>\n",
       "      <th>Tokyo</th>\n",
       "    </tr>\n",
       "  </thead>\n",
       "  <tbody>\n",
       "    <tr>\n",
       "      <th>2012</th>\n",
       "      <td>6.1</td>\n",
       "      <td>9.1</td>\n",
       "      <td>13.1</td>\n",
       "    </tr>\n",
       "    <tr>\n",
       "      <th>2017</th>\n",
       "      <td>NaN</td>\n",
       "      <td>9.1</td>\n",
       "      <td>13.7</td>\n",
       "    </tr>\n",
       "  </tbody>\n",
       "</table>\n",
       "</div>"
      ],
      "text/plain": [
       "      Chiba  Kanagawa  Tokyo\n",
       "2012    6.1       9.1   13.1\n",
       "2017    NaN       9.1   13.7"
      ]
     },
     "execution_count": 135,
     "metadata": {},
     "output_type": "execute_result"
    }
   ],
   "source": [
    "import pandas as pd\n",
    "pop2 = {\"Tokyo\":{2012:13.1, 2017:13.7},\n",
    "       \"Kanagawa\":{2012:9.1, 2017:9.1},\n",
    "       \"Chiba\":{2012:6.1}}\n",
    "\n",
    "df3 = pd.DataFrame(pop2)\n",
    "df3"
   ]
  },
  {
   "cell_type": "markdown",
   "metadata": {},
   "source": [
    "行と列を入れ替える（転置）は、Numpy と同様に `pd.DataFrame.T` が使える:"
   ]
  },
  {
   "cell_type": "code",
   "execution_count": 136,
   "metadata": {},
   "outputs": [
    {
     "data": {
      "text/html": [
       "<div>\n",
       "<style scoped>\n",
       "    .dataframe tbody tr th:only-of-type {\n",
       "        vertical-align: middle;\n",
       "    }\n",
       "\n",
       "    .dataframe tbody tr th {\n",
       "        vertical-align: top;\n",
       "    }\n",
       "\n",
       "    .dataframe thead th {\n",
       "        text-align: right;\n",
       "    }\n",
       "</style>\n",
       "<table border=\"1\" class=\"dataframe\">\n",
       "  <thead>\n",
       "    <tr style=\"text-align: right;\">\n",
       "      <th></th>\n",
       "      <th>Chiba</th>\n",
       "      <th>Kanagawa</th>\n",
       "      <th>Tokyo</th>\n",
       "    </tr>\n",
       "  </thead>\n",
       "  <tbody>\n",
       "    <tr>\n",
       "      <th>2012</th>\n",
       "      <td>6.1</td>\n",
       "      <td>9.1</td>\n",
       "      <td>13.1</td>\n",
       "    </tr>\n",
       "    <tr>\n",
       "      <th>2017</th>\n",
       "      <td>NaN</td>\n",
       "      <td>9.1</td>\n",
       "      <td>13.7</td>\n",
       "    </tr>\n",
       "  </tbody>\n",
       "</table>\n",
       "</div>"
      ],
      "text/plain": [
       "      Chiba  Kanagawa  Tokyo\n",
       "2012    6.1       9.1   13.1\n",
       "2017    NaN       9.1   13.7"
      ]
     },
     "execution_count": 136,
     "metadata": {},
     "output_type": "execute_result"
    }
   ],
   "source": [
    "import pandas as pd\n",
    "pop2 = {\"Tokyo\":{2012:13.1, 2017:13.7},\n",
    "       \"Kanagawa\":{2012:9.1, 2017:9.1},\n",
    "       \"Chiba\":{2012:6.1}}\n",
    "\n",
    "df3 = pd.DataFrame(pop2)\n",
    "df3"
   ]
  },
  {
   "cell_type": "code",
   "execution_count": 137,
   "metadata": {},
   "outputs": [
    {
     "data": {
      "text/html": [
       "<div>\n",
       "<style scoped>\n",
       "    .dataframe tbody tr th:only-of-type {\n",
       "        vertical-align: middle;\n",
       "    }\n",
       "\n",
       "    .dataframe tbody tr th {\n",
       "        vertical-align: top;\n",
       "    }\n",
       "\n",
       "    .dataframe thead th {\n",
       "        text-align: right;\n",
       "    }\n",
       "</style>\n",
       "<table border=\"1\" class=\"dataframe\">\n",
       "  <thead>\n",
       "    <tr style=\"text-align: right;\">\n",
       "      <th></th>\n",
       "      <th>2012</th>\n",
       "      <th>2017</th>\n",
       "    </tr>\n",
       "  </thead>\n",
       "  <tbody>\n",
       "    <tr>\n",
       "      <th>Chiba</th>\n",
       "      <td>6.1</td>\n",
       "      <td>NaN</td>\n",
       "    </tr>\n",
       "    <tr>\n",
       "      <th>Kanagawa</th>\n",
       "      <td>9.1</td>\n",
       "      <td>9.1</td>\n",
       "    </tr>\n",
       "    <tr>\n",
       "      <th>Tokyo</th>\n",
       "      <td>13.1</td>\n",
       "      <td>13.7</td>\n",
       "    </tr>\n",
       "  </tbody>\n",
       "</table>\n",
       "</div>"
      ],
      "text/plain": [
       "          2012  2017\n",
       "Chiba      6.1   NaN\n",
       "Kanagawa   9.1   9.1\n",
       "Tokyo     13.1  13.7"
      ]
     },
     "execution_count": 137,
     "metadata": {},
     "output_type": "execute_result"
    }
   ],
   "source": [
    "df3.T"
   ]
  },
  {
   "cell_type": "markdown",
   "metadata": {},
   "source": [
    "`pd.Dataframe` の行、列に名前をつけることもできる（`pd.Series` と同様）:"
   ]
  },
  {
   "cell_type": "code",
   "execution_count": 138,
   "metadata": {},
   "outputs": [
    {
     "data": {
      "text/html": [
       "<div>\n",
       "<style scoped>\n",
       "    .dataframe tbody tr th:only-of-type {\n",
       "        vertical-align: middle;\n",
       "    }\n",
       "\n",
       "    .dataframe tbody tr th {\n",
       "        vertical-align: top;\n",
       "    }\n",
       "\n",
       "    .dataframe thead th {\n",
       "        text-align: right;\n",
       "    }\n",
       "</style>\n",
       "<table border=\"1\" class=\"dataframe\">\n",
       "  <thead>\n",
       "    <tr style=\"text-align: right;\">\n",
       "      <th>prefecture</th>\n",
       "      <th>Chiba</th>\n",
       "      <th>Kanagawa</th>\n",
       "      <th>Tokyo</th>\n",
       "    </tr>\n",
       "    <tr>\n",
       "      <th>year</th>\n",
       "      <th></th>\n",
       "      <th></th>\n",
       "      <th></th>\n",
       "    </tr>\n",
       "  </thead>\n",
       "  <tbody>\n",
       "    <tr>\n",
       "      <th>2012</th>\n",
       "      <td>6.1</td>\n",
       "      <td>9.1</td>\n",
       "      <td>13.1</td>\n",
       "    </tr>\n",
       "    <tr>\n",
       "      <th>2017</th>\n",
       "      <td>NaN</td>\n",
       "      <td>9.1</td>\n",
       "      <td>13.7</td>\n",
       "    </tr>\n",
       "  </tbody>\n",
       "</table>\n",
       "</div>"
      ],
      "text/plain": [
       "prefecture  Chiba  Kanagawa  Tokyo\n",
       "year                              \n",
       "2012          6.1       9.1   13.1\n",
       "2017          NaN       9.1   13.7"
      ]
     },
     "execution_count": 138,
     "metadata": {},
     "output_type": "execute_result"
    }
   ],
   "source": [
    "import pandas as pd\n",
    "pop2 = {\"Tokyo\":{2012:13.1, 2017:13.7},\n",
    "       \"Kanagawa\":{2012:9.1, 2017:9.1},\n",
    "       \"Chiba\":{2012:6.1}}\n",
    "df3 = pd.DataFrame(pop2)\n",
    "\n",
    "df3.index.name = \"year\"\n",
    "df3.columns.name = \"prefecture\"\n",
    "df3"
   ]
  },
  {
   "cell_type": "markdown",
   "metadata": {},
   "source": [
    "`pd.DataFrame.values` 属性によって、`np.ndarray` を取り出すこともできる。  \n",
    "異なる型がまざっていた場合は（`np.ndarray` は型が一つしかとれないので）もっとも適切な型が選択される:"
   ]
  },
  {
   "cell_type": "code",
   "execution_count": 139,
   "metadata": {},
   "outputs": [
    {
     "name": "stdout",
     "output_type": "stream",
     "text": [
      "NumPy dtype of df3:\n",
      "float64\n",
      "NumPy dtype of df4:\n",
      "object\n"
     ]
    }
   ],
   "source": [
    "import pandas as pd\n",
    "import numpy as np\n",
    "pop2 = {\"Tokyo\":{2012:13.1, 2017:13.7},\n",
    "       \"Kanagawa\":{2012:9.1, 2017:9.1},\n",
    "       \"Chiba\":{2012:6.1}}\n",
    "df3 = pd.DataFrame(pop2)\n",
    "\n",
    "print(\"NumPy dtype of df3:\")\n",
    "print(df3.values.dtype)\n",
    "\n",
    "data_dict = {\"prefecture\":[\"Tokyo\", \"Chiba\", \"Kanagawa\", \"Saitama\"], \n",
    "             \"year\":[2017, 2012, 2012, 2012],\n",
    "             \"pop\":[13.7, 6.14, 9.1, 7.2]}\n",
    "\n",
    "df4= pd.DataFrame(data_dict, columns=[\"year\", \"prefecture\", \"pop\", \"debt\"],\n",
    "                     index=[\"one\", \"two\", \"three\", \"four\"])\n",
    "\n",
    "print(\"NumPy dtype of df4:\")\n",
    "print(df4.values.dtype)"
   ]
  },
  {
   "cell_type": "markdown",
   "metadata": {},
   "source": [
    "### 再インデックス（`pd.Series`, `pd.DataFrame`）\n",
    "`pd.Series.reindex()` メソッドは、与えられるインデックスに対応した新しいオブジェクトを生成する。"
   ]
  },
  {
   "cell_type": "code",
   "execution_count": 140,
   "metadata": {},
   "outputs": [
    {
     "name": "stdout",
     "output_type": "stream",
     "text": [
      "d   -3\n",
      "b   -2\n",
      "c    0\n",
      "a    2\n",
      "dtype: int64\n",
      "\n",
      "a    2.0\n",
      "b   -2.0\n",
      "c    0.0\n",
      "d   -3.0\n",
      "e    NaN\n",
      "dtype: float64\n"
     ]
    }
   ],
   "source": [
    "import pandas as pd\n",
    "obj = pd.Series([-3,-2,0,2], index=[\"d\", \"b\", \"c\", \"a\"])\n",
    "print(obj)\n",
    "print()\n",
    "\n",
    "obj2 = obj.reindex(index = [\"a\", \"b\", \"c\", \"d\", \"e\"])\n",
    "print(obj2)"
   ]
  },
  {
   "cell_type": "markdown",
   "metadata": {},
   "source": [
    "時系列データなど補完が必要なときは、`method = ffill()`、によって補完することも可能: "
   ]
  },
  {
   "cell_type": "code",
   "execution_count": 141,
   "metadata": {},
   "outputs": [
    {
     "name": "stdout",
     "output_type": "stream",
     "text": [
      "0      blue\n",
      "1      blue\n",
      "2    purple\n",
      "3    purple\n",
      "4    yellow\n",
      "5    yellow\n",
      "dtype: object\n"
     ]
    }
   ],
   "source": [
    "import pandas as pd\n",
    "obj3 = pd.Series([\"blue\", \"purple\", \"yellow\"], index=[0,2,4])\n",
    "print(obj3.reindex(index=range(6), method=\"ffill\"))"
   ]
  },
  {
   "cell_type": "markdown",
   "metadata": {},
   "source": [
    "`pd.DataFrame.reindex()`は行、列あるいはその双方に適用できる。  \n",
    "列に適用する場合は `columns` オプションで与える:"
   ]
  },
  {
   "cell_type": "code",
   "execution_count": 142,
   "metadata": {},
   "outputs": [
    {
     "data": {
      "text/html": [
       "<div>\n",
       "<style scoped>\n",
       "    .dataframe tbody tr th:only-of-type {\n",
       "        vertical-align: middle;\n",
       "    }\n",
       "\n",
       "    .dataframe tbody tr th {\n",
       "        vertical-align: top;\n",
       "    }\n",
       "\n",
       "    .dataframe thead th {\n",
       "        text-align: right;\n",
       "    }\n",
       "</style>\n",
       "<table border=\"1\" class=\"dataframe\">\n",
       "  <thead>\n",
       "    <tr style=\"text-align: right;\">\n",
       "      <th></th>\n",
       "      <th>Tokyo</th>\n",
       "      <th>Kanagawa</th>\n",
       "      <th>Chiba</th>\n",
       "    </tr>\n",
       "  </thead>\n",
       "  <tbody>\n",
       "    <tr>\n",
       "      <th>a</th>\n",
       "      <td>0</td>\n",
       "      <td>1</td>\n",
       "      <td>2</td>\n",
       "    </tr>\n",
       "    <tr>\n",
       "      <th>b</th>\n",
       "      <td>3</td>\n",
       "      <td>4</td>\n",
       "      <td>5</td>\n",
       "    </tr>\n",
       "    <tr>\n",
       "      <th>d</th>\n",
       "      <td>6</td>\n",
       "      <td>7</td>\n",
       "      <td>8</td>\n",
       "    </tr>\n",
       "  </tbody>\n",
       "</table>\n",
       "</div>"
      ],
      "text/plain": [
       "   Tokyo  Kanagawa  Chiba\n",
       "a      0         1      2\n",
       "b      3         4      5\n",
       "d      6         7      8"
      ]
     },
     "execution_count": 142,
     "metadata": {},
     "output_type": "execute_result"
    }
   ],
   "source": [
    "import pandas as pd\n",
    "import numpy as np\n",
    "df4 = pd.DataFrame(np.arange(9).reshape([3,3]),\n",
    "                     index=[\"a\", \"b\", \"d\"],\n",
    "                     columns=[\"Tokyo\", \"Kanagawa\", \"Chiba\"])\n",
    "df4"
   ]
  },
  {
   "cell_type": "code",
   "execution_count": 143,
   "metadata": {},
   "outputs": [
    {
     "name": "stdout",
     "output_type": "stream",
     "text": [
      "Re-indexed row:\n"
     ]
    },
    {
     "data": {
      "text/html": [
       "<div>\n",
       "<style scoped>\n",
       "    .dataframe tbody tr th:only-of-type {\n",
       "        vertical-align: middle;\n",
       "    }\n",
       "\n",
       "    .dataframe tbody tr th {\n",
       "        vertical-align: top;\n",
       "    }\n",
       "\n",
       "    .dataframe thead th {\n",
       "        text-align: right;\n",
       "    }\n",
       "</style>\n",
       "<table border=\"1\" class=\"dataframe\">\n",
       "  <thead>\n",
       "    <tr style=\"text-align: right;\">\n",
       "      <th></th>\n",
       "      <th>Tokyo</th>\n",
       "      <th>Kanagawa</th>\n",
       "      <th>Chiba</th>\n",
       "    </tr>\n",
       "  </thead>\n",
       "  <tbody>\n",
       "    <tr>\n",
       "      <th>a</th>\n",
       "      <td>0.0</td>\n",
       "      <td>1.0</td>\n",
       "      <td>2.0</td>\n",
       "    </tr>\n",
       "    <tr>\n",
       "      <th>b</th>\n",
       "      <td>3.0</td>\n",
       "      <td>4.0</td>\n",
       "      <td>5.0</td>\n",
       "    </tr>\n",
       "    <tr>\n",
       "      <th>c</th>\n",
       "      <td>NaN</td>\n",
       "      <td>NaN</td>\n",
       "      <td>NaN</td>\n",
       "    </tr>\n",
       "  </tbody>\n",
       "</table>\n",
       "</div>"
      ],
      "text/plain": [
       "   Tokyo  Kanagawa  Chiba\n",
       "a    0.0       1.0    2.0\n",
       "b    3.0       4.0    5.0\n",
       "c    NaN       NaN    NaN"
      ]
     },
     "execution_count": 143,
     "metadata": {},
     "output_type": "execute_result"
    }
   ],
   "source": [
    "print(\"Re-indexed row:\")\n",
    "df4.reindex([\"a\", \"b\", \"c\"])"
   ]
  },
  {
   "cell_type": "code",
   "execution_count": 144,
   "metadata": {},
   "outputs": [
    {
     "name": "stdout",
     "output_type": "stream",
     "text": [
      "Re-indexed cilumn:\n"
     ]
    },
    {
     "data": {
      "text/html": [
       "<div>\n",
       "<style scoped>\n",
       "    .dataframe tbody tr th:only-of-type {\n",
       "        vertical-align: middle;\n",
       "    }\n",
       "\n",
       "    .dataframe tbody tr th {\n",
       "        vertical-align: top;\n",
       "    }\n",
       "\n",
       "    .dataframe thead th {\n",
       "        text-align: right;\n",
       "    }\n",
       "</style>\n",
       "<table border=\"1\" class=\"dataframe\">\n",
       "  <thead>\n",
       "    <tr style=\"text-align: right;\">\n",
       "      <th></th>\n",
       "      <th>Tokyo</th>\n",
       "      <th>Chiba</th>\n",
       "      <th>Saitama</th>\n",
       "    </tr>\n",
       "  </thead>\n",
       "  <tbody>\n",
       "    <tr>\n",
       "      <th>a</th>\n",
       "      <td>0</td>\n",
       "      <td>2</td>\n",
       "      <td>NaN</td>\n",
       "    </tr>\n",
       "    <tr>\n",
       "      <th>b</th>\n",
       "      <td>3</td>\n",
       "      <td>5</td>\n",
       "      <td>NaN</td>\n",
       "    </tr>\n",
       "    <tr>\n",
       "      <th>d</th>\n",
       "      <td>6</td>\n",
       "      <td>8</td>\n",
       "      <td>NaN</td>\n",
       "    </tr>\n",
       "  </tbody>\n",
       "</table>\n",
       "</div>"
      ],
      "text/plain": [
       "   Tokyo  Chiba  Saitama\n",
       "a      0      2      NaN\n",
       "b      3      5      NaN\n",
       "d      6      8      NaN"
      ]
     },
     "execution_count": 144,
     "metadata": {},
     "output_type": "execute_result"
    }
   ],
   "source": [
    "print(\"Re-indexed cilumn:\")\n",
    "prefectures = [\"Tokyo\", \"Chiba\", \"Saitama\"]\n",
    "df4.reindex(columns=prefectures)"
   ]
  },
  {
   "cell_type": "markdown",
   "metadata": {},
   "source": [
    "### 行・列の削除（`pd.Series`, `pd.DataFrame`）\n",
    "`pd.Series` および `pd.DataFrame`の drop メソッドは引数に指定したデータを削除したオブジェクトをあらたに作成する:  "
   ]
  },
  {
   "cell_type": "code",
   "execution_count": 145,
   "metadata": {},
   "outputs": [
    {
     "name": "stdout",
     "output_type": "stream",
     "text": [
      "Sample:\n",
      "a    0\n",
      "b    1\n",
      "c    2\n",
      "d    3\n",
      "e    4\n",
      "dtype: int64\n",
      "\n",
      "After drop(\"c\"):\n",
      "a    0\n",
      "b    1\n",
      "d    3\n",
      "e    4\n",
      "dtype: int64\n"
     ]
    }
   ],
   "source": [
    "import pandas as pd\n",
    "import numpy as np\n",
    "\n",
    "obj = pd.Series(range(5), index = [\"a\", \"b\", \"c\", \"d\", \"e\"])\n",
    "print(\"Sample:\")\n",
    "print(obj)\n",
    "print()\n",
    "print('After drop(\"c\"):')\n",
    "obj2 = obj.drop(\"c\")\n",
    "print(obj2)"
   ]
  },
  {
   "cell_type": "markdown",
   "metadata": {},
   "source": [
    "`pd.DataFrame` で列を削除したい場合は、`axis=1` あるいは `axis=\"columns\"` を指定する。  \n",
    "また、既存オブジェクトを更新する場合は、`inplace = True` とする:"
   ]
  },
  {
   "cell_type": "code",
   "execution_count": 146,
   "metadata": {},
   "outputs": [
    {
     "name": "stdout",
     "output_type": "stream",
     "text": [
      "Sample:\n"
     ]
    },
    {
     "data": {
      "text/html": [
       "<div>\n",
       "<style scoped>\n",
       "    .dataframe tbody tr th:only-of-type {\n",
       "        vertical-align: middle;\n",
       "    }\n",
       "\n",
       "    .dataframe tbody tr th {\n",
       "        vertical-align: top;\n",
       "    }\n",
       "\n",
       "    .dataframe thead th {\n",
       "        text-align: right;\n",
       "    }\n",
       "</style>\n",
       "<table border=\"1\" class=\"dataframe\">\n",
       "  <thead>\n",
       "    <tr style=\"text-align: right;\">\n",
       "      <th></th>\n",
       "      <th>Tokyo</th>\n",
       "      <th>Chiba</th>\n",
       "      <th>Saitama</th>\n",
       "      <th>Kanagawa</th>\n",
       "    </tr>\n",
       "  </thead>\n",
       "  <tbody>\n",
       "    <tr>\n",
       "      <th>a</th>\n",
       "      <td>0</td>\n",
       "      <td>1</td>\n",
       "      <td>2</td>\n",
       "      <td>3</td>\n",
       "    </tr>\n",
       "    <tr>\n",
       "      <th>b</th>\n",
       "      <td>4</td>\n",
       "      <td>5</td>\n",
       "      <td>6</td>\n",
       "      <td>7</td>\n",
       "    </tr>\n",
       "    <tr>\n",
       "      <th>c</th>\n",
       "      <td>8</td>\n",
       "      <td>9</td>\n",
       "      <td>10</td>\n",
       "      <td>11</td>\n",
       "    </tr>\n",
       "    <tr>\n",
       "      <th>d</th>\n",
       "      <td>12</td>\n",
       "      <td>13</td>\n",
       "      <td>14</td>\n",
       "      <td>15</td>\n",
       "    </tr>\n",
       "  </tbody>\n",
       "</table>\n",
       "</div>"
      ],
      "text/plain": [
       "   Tokyo  Chiba  Saitama  Kanagawa\n",
       "a      0      1        2         3\n",
       "b      4      5        6         7\n",
       "c      8      9       10        11\n",
       "d     12     13       14        15"
      ]
     },
     "execution_count": 146,
     "metadata": {},
     "output_type": "execute_result"
    }
   ],
   "source": [
    "df2 = pd.DataFrame(np.arange(16).reshape([4,4]), \n",
    "                index = [\"a\", \"b\", \"c\", \"d\"],\n",
    "                columns = [\"Tokyo\", \"Chiba\", \"Saitama\", \"Kanagawa\"])\n",
    "print(\"Sample:\")\n",
    "df2"
   ]
  },
  {
   "cell_type": "code",
   "execution_count": 147,
   "metadata": {},
   "outputs": [
    {
     "name": "stdout",
     "output_type": "stream",
     "text": [
      "df2.drop(\"c\"):\n"
     ]
    },
    {
     "data": {
      "text/html": [
       "<div>\n",
       "<style scoped>\n",
       "    .dataframe tbody tr th:only-of-type {\n",
       "        vertical-align: middle;\n",
       "    }\n",
       "\n",
       "    .dataframe tbody tr th {\n",
       "        vertical-align: top;\n",
       "    }\n",
       "\n",
       "    .dataframe thead th {\n",
       "        text-align: right;\n",
       "    }\n",
       "</style>\n",
       "<table border=\"1\" class=\"dataframe\">\n",
       "  <thead>\n",
       "    <tr style=\"text-align: right;\">\n",
       "      <th></th>\n",
       "      <th>Tokyo</th>\n",
       "      <th>Chiba</th>\n",
       "      <th>Saitama</th>\n",
       "      <th>Kanagawa</th>\n",
       "    </tr>\n",
       "  </thead>\n",
       "  <tbody>\n",
       "    <tr>\n",
       "      <th>a</th>\n",
       "      <td>0</td>\n",
       "      <td>1</td>\n",
       "      <td>2</td>\n",
       "      <td>3</td>\n",
       "    </tr>\n",
       "    <tr>\n",
       "      <th>b</th>\n",
       "      <td>4</td>\n",
       "      <td>5</td>\n",
       "      <td>6</td>\n",
       "      <td>7</td>\n",
       "    </tr>\n",
       "    <tr>\n",
       "      <th>d</th>\n",
       "      <td>12</td>\n",
       "      <td>13</td>\n",
       "      <td>14</td>\n",
       "      <td>15</td>\n",
       "    </tr>\n",
       "  </tbody>\n",
       "</table>\n",
       "</div>"
      ],
      "text/plain": [
       "   Tokyo  Chiba  Saitama  Kanagawa\n",
       "a      0      1        2         3\n",
       "b      4      5        6         7\n",
       "d     12     13       14        15"
      ]
     },
     "execution_count": 147,
     "metadata": {},
     "output_type": "execute_result"
    }
   ],
   "source": [
    "print('df2.drop(\"c\"):')\n",
    "df2.drop(\"c\")"
   ]
  },
  {
   "cell_type": "code",
   "execution_count": 148,
   "metadata": {},
   "outputs": [
    {
     "name": "stdout",
     "output_type": "stream",
     "text": [
      "df2.drop(\"Saitama\", axis=1):\n"
     ]
    },
    {
     "data": {
      "text/html": [
       "<div>\n",
       "<style scoped>\n",
       "    .dataframe tbody tr th:only-of-type {\n",
       "        vertical-align: middle;\n",
       "    }\n",
       "\n",
       "    .dataframe tbody tr th {\n",
       "        vertical-align: top;\n",
       "    }\n",
       "\n",
       "    .dataframe thead th {\n",
       "        text-align: right;\n",
       "    }\n",
       "</style>\n",
       "<table border=\"1\" class=\"dataframe\">\n",
       "  <thead>\n",
       "    <tr style=\"text-align: right;\">\n",
       "      <th></th>\n",
       "      <th>Tokyo</th>\n",
       "      <th>Chiba</th>\n",
       "      <th>Kanagawa</th>\n",
       "    </tr>\n",
       "  </thead>\n",
       "  <tbody>\n",
       "    <tr>\n",
       "      <th>a</th>\n",
       "      <td>0</td>\n",
       "      <td>1</td>\n",
       "      <td>3</td>\n",
       "    </tr>\n",
       "    <tr>\n",
       "      <th>b</th>\n",
       "      <td>4</td>\n",
       "      <td>5</td>\n",
       "      <td>7</td>\n",
       "    </tr>\n",
       "    <tr>\n",
       "      <th>c</th>\n",
       "      <td>8</td>\n",
       "      <td>9</td>\n",
       "      <td>11</td>\n",
       "    </tr>\n",
       "    <tr>\n",
       "      <th>d</th>\n",
       "      <td>12</td>\n",
       "      <td>13</td>\n",
       "      <td>15</td>\n",
       "    </tr>\n",
       "  </tbody>\n",
       "</table>\n",
       "</div>"
      ],
      "text/plain": [
       "   Tokyo  Chiba  Kanagawa\n",
       "a      0      1         3\n",
       "b      4      5         7\n",
       "c      8      9        11\n",
       "d     12     13        15"
      ]
     },
     "execution_count": 148,
     "metadata": {},
     "output_type": "execute_result"
    }
   ],
   "source": [
    "print('df2.drop(\"Saitama\", axis=1):')\n",
    "df2.drop(\"Saitama\", axis=1)"
   ]
  },
  {
   "cell_type": "markdown",
   "metadata": {},
   "source": [
    "### インデックス、スライシング、フィルタリング\n",
    "`pd.DataFrame` の列単位のアクセスは辞書のようにおこなえる。フィルタリングも同様:"
   ]
  },
  {
   "cell_type": "code",
   "execution_count": 149,
   "metadata": {},
   "outputs": [
    {
     "name": "stdout",
     "output_type": "stream",
     "text": [
      "Sample:\n"
     ]
    },
    {
     "data": {
      "text/html": [
       "<div>\n",
       "<style scoped>\n",
       "    .dataframe tbody tr th:only-of-type {\n",
       "        vertical-align: middle;\n",
       "    }\n",
       "\n",
       "    .dataframe tbody tr th {\n",
       "        vertical-align: top;\n",
       "    }\n",
       "\n",
       "    .dataframe thead th {\n",
       "        text-align: right;\n",
       "    }\n",
       "</style>\n",
       "<table border=\"1\" class=\"dataframe\">\n",
       "  <thead>\n",
       "    <tr style=\"text-align: right;\">\n",
       "      <th></th>\n",
       "      <th>Tokyo</th>\n",
       "      <th>Chiba</th>\n",
       "      <th>Saitama</th>\n",
       "      <th>Kanagawa</th>\n",
       "    </tr>\n",
       "  </thead>\n",
       "  <tbody>\n",
       "    <tr>\n",
       "      <th>a</th>\n",
       "      <td>0</td>\n",
       "      <td>1</td>\n",
       "      <td>2</td>\n",
       "      <td>3</td>\n",
       "    </tr>\n",
       "    <tr>\n",
       "      <th>b</th>\n",
       "      <td>4</td>\n",
       "      <td>5</td>\n",
       "      <td>6</td>\n",
       "      <td>7</td>\n",
       "    </tr>\n",
       "    <tr>\n",
       "      <th>c</th>\n",
       "      <td>8</td>\n",
       "      <td>9</td>\n",
       "      <td>10</td>\n",
       "      <td>11</td>\n",
       "    </tr>\n",
       "    <tr>\n",
       "      <th>d</th>\n",
       "      <td>12</td>\n",
       "      <td>13</td>\n",
       "      <td>14</td>\n",
       "      <td>15</td>\n",
       "    </tr>\n",
       "  </tbody>\n",
       "</table>\n",
       "</div>"
      ],
      "text/plain": [
       "   Tokyo  Chiba  Saitama  Kanagawa\n",
       "a      0      1        2         3\n",
       "b      4      5        6         7\n",
       "c      8      9       10        11\n",
       "d     12     13       14        15"
      ]
     },
     "execution_count": 149,
     "metadata": {},
     "output_type": "execute_result"
    }
   ],
   "source": [
    "df2 = pd.DataFrame(np.arange(16).reshape([4,4]), \n",
    "                index = [\"a\", \"b\", \"c\", \"d\"],\n",
    "                columns = [\"Tokyo\", \"Chiba\", \"Saitama\", \"Kanagawa\"])\n",
    "print(\"Sample:\")\n",
    "df2"
   ]
  },
  {
   "cell_type": "code",
   "execution_count": 150,
   "metadata": {},
   "outputs": [
    {
     "name": "stdout",
     "output_type": "stream",
     "text": [
      "df2[\"Chiba\"]:\n"
     ]
    },
    {
     "data": {
      "text/plain": [
       "a     1\n",
       "b     5\n",
       "c     9\n",
       "d    13\n",
       "Name: Chiba, dtype: int64"
      ]
     },
     "execution_count": 150,
     "metadata": {},
     "output_type": "execute_result"
    }
   ],
   "source": [
    "print('df2[\"Chiba\"]:')\n",
    "df2[\"Chiba\"]"
   ]
  },
  {
   "cell_type": "code",
   "execution_count": 151,
   "metadata": {},
   "outputs": [
    {
     "name": "stdout",
     "output_type": "stream",
     "text": [
      "df2[[\"Kanagawa\", \"Tokyo\"] as fancy index:\n"
     ]
    },
    {
     "data": {
      "text/html": [
       "<div>\n",
       "<style scoped>\n",
       "    .dataframe tbody tr th:only-of-type {\n",
       "        vertical-align: middle;\n",
       "    }\n",
       "\n",
       "    .dataframe tbody tr th {\n",
       "        vertical-align: top;\n",
       "    }\n",
       "\n",
       "    .dataframe thead th {\n",
       "        text-align: right;\n",
       "    }\n",
       "</style>\n",
       "<table border=\"1\" class=\"dataframe\">\n",
       "  <thead>\n",
       "    <tr style=\"text-align: right;\">\n",
       "      <th></th>\n",
       "      <th>Kanagawa</th>\n",
       "      <th>Tokyo</th>\n",
       "    </tr>\n",
       "  </thead>\n",
       "  <tbody>\n",
       "    <tr>\n",
       "      <th>a</th>\n",
       "      <td>3</td>\n",
       "      <td>0</td>\n",
       "    </tr>\n",
       "    <tr>\n",
       "      <th>b</th>\n",
       "      <td>7</td>\n",
       "      <td>4</td>\n",
       "    </tr>\n",
       "    <tr>\n",
       "      <th>c</th>\n",
       "      <td>11</td>\n",
       "      <td>8</td>\n",
       "    </tr>\n",
       "    <tr>\n",
       "      <th>d</th>\n",
       "      <td>15</td>\n",
       "      <td>12</td>\n",
       "    </tr>\n",
       "  </tbody>\n",
       "</table>\n",
       "</div>"
      ],
      "text/plain": [
       "   Kanagawa  Tokyo\n",
       "a         3      0\n",
       "b         7      4\n",
       "c        11      8\n",
       "d        15     12"
      ]
     },
     "execution_count": 151,
     "metadata": {},
     "output_type": "execute_result"
    }
   ],
   "source": [
    "print('df2[[\"Kanagawa\", \"Tokyo\"] as fancy index:')\n",
    "df2[[\"Kanagawa\", \"Tokyo\"]]"
   ]
  },
  {
   "cell_type": "code",
   "execution_count": 152,
   "metadata": {},
   "outputs": [
    {
     "name": "stdout",
     "output_type": "stream",
     "text": [
      "df2[df2[\"Kanagawa\"] > 7] as filtering:\n"
     ]
    },
    {
     "data": {
      "text/html": [
       "<div>\n",
       "<style scoped>\n",
       "    .dataframe tbody tr th:only-of-type {\n",
       "        vertical-align: middle;\n",
       "    }\n",
       "\n",
       "    .dataframe tbody tr th {\n",
       "        vertical-align: top;\n",
       "    }\n",
       "\n",
       "    .dataframe thead th {\n",
       "        text-align: right;\n",
       "    }\n",
       "</style>\n",
       "<table border=\"1\" class=\"dataframe\">\n",
       "  <thead>\n",
       "    <tr style=\"text-align: right;\">\n",
       "      <th></th>\n",
       "      <th>Tokyo</th>\n",
       "      <th>Chiba</th>\n",
       "      <th>Saitama</th>\n",
       "      <th>Kanagawa</th>\n",
       "    </tr>\n",
       "  </thead>\n",
       "  <tbody>\n",
       "    <tr>\n",
       "      <th>c</th>\n",
       "      <td>8</td>\n",
       "      <td>9</td>\n",
       "      <td>10</td>\n",
       "      <td>11</td>\n",
       "    </tr>\n",
       "    <tr>\n",
       "      <th>d</th>\n",
       "      <td>12</td>\n",
       "      <td>13</td>\n",
       "      <td>14</td>\n",
       "      <td>15</td>\n",
       "    </tr>\n",
       "  </tbody>\n",
       "</table>\n",
       "</div>"
      ],
      "text/plain": [
       "   Tokyo  Chiba  Saitama  Kanagawa\n",
       "c      8      9       10        11\n",
       "d     12     13       14        15"
      ]
     },
     "execution_count": 152,
     "metadata": {},
     "output_type": "execute_result"
    }
   ],
   "source": [
    "print('df2[df2[\"Kanagawa\"] > 7] as filtering:')\n",
    "df2[df2[\"Kanagawa\"] > 7]"
   ]
  },
  {
   "cell_type": "code",
   "execution_count": null,
   "metadata": {},
   "outputs": [],
   "source": []
  },
  {
   "cell_type": "markdown",
   "metadata": {},
   "source": [
    "ただしスライシングは行に対して適用される。"
   ]
  },
  {
   "cell_type": "code",
   "execution_count": 153,
   "metadata": {},
   "outputs": [
    {
     "name": "stdout",
     "output_type": "stream",
     "text": [
      "df2[:2] as slicing:\n"
     ]
    },
    {
     "data": {
      "text/html": [
       "<div>\n",
       "<style scoped>\n",
       "    .dataframe tbody tr th:only-of-type {\n",
       "        vertical-align: middle;\n",
       "    }\n",
       "\n",
       "    .dataframe tbody tr th {\n",
       "        vertical-align: top;\n",
       "    }\n",
       "\n",
       "    .dataframe thead th {\n",
       "        text-align: right;\n",
       "    }\n",
       "</style>\n",
       "<table border=\"1\" class=\"dataframe\">\n",
       "  <thead>\n",
       "    <tr style=\"text-align: right;\">\n",
       "      <th></th>\n",
       "      <th>Tokyo</th>\n",
       "      <th>Chiba</th>\n",
       "      <th>Saitama</th>\n",
       "      <th>Kanagawa</th>\n",
       "    </tr>\n",
       "  </thead>\n",
       "  <tbody>\n",
       "    <tr>\n",
       "      <th>a</th>\n",
       "      <td>0</td>\n",
       "      <td>1</td>\n",
       "      <td>2</td>\n",
       "      <td>3</td>\n",
       "    </tr>\n",
       "    <tr>\n",
       "      <th>b</th>\n",
       "      <td>4</td>\n",
       "      <td>5</td>\n",
       "      <td>6</td>\n",
       "      <td>7</td>\n",
       "    </tr>\n",
       "  </tbody>\n",
       "</table>\n",
       "</div>"
      ],
      "text/plain": [
       "   Tokyo  Chiba  Saitama  Kanagawa\n",
       "a      0      1        2         3\n",
       "b      4      5        6         7"
      ]
     },
     "execution_count": 153,
     "metadata": {},
     "output_type": "execute_result"
    }
   ],
   "source": [
    "df2 = pd.DataFrame(np.arange(16).reshape([4,4]), \n",
    "                index = [\"a\", \"b\", \"c\", \"d\"],\n",
    "                columns = [\"Tokyo\", \"Chiba\", \"Saitama\", \"Kanagawa\"])\n",
    "\n",
    "print(\"df2[:2] as slicing:\")\n",
    "df2[:2]"
   ]
  },
  {
   "cell_type": "markdown",
   "metadata": {},
   "source": [
    "`pd.DataFrame` からブール要素だけの別の `DataFrame` を作成することもできる。\n",
    "特定の条件を満たす要素に代入することもできる:"
   ]
  },
  {
   "cell_type": "code",
   "execution_count": 154,
   "metadata": {},
   "outputs": [
    {
     "name": "stdout",
     "output_type": "stream",
     "text": [
      "df2 < 7:\n"
     ]
    },
    {
     "data": {
      "text/html": [
       "<div>\n",
       "<style scoped>\n",
       "    .dataframe tbody tr th:only-of-type {\n",
       "        vertical-align: middle;\n",
       "    }\n",
       "\n",
       "    .dataframe tbody tr th {\n",
       "        vertical-align: top;\n",
       "    }\n",
       "\n",
       "    .dataframe thead th {\n",
       "        text-align: right;\n",
       "    }\n",
       "</style>\n",
       "<table border=\"1\" class=\"dataframe\">\n",
       "  <thead>\n",
       "    <tr style=\"text-align: right;\">\n",
       "      <th></th>\n",
       "      <th>Tokyo</th>\n",
       "      <th>Chiba</th>\n",
       "      <th>Saitama</th>\n",
       "      <th>Kanagawa</th>\n",
       "    </tr>\n",
       "  </thead>\n",
       "  <tbody>\n",
       "    <tr>\n",
       "      <th>a</th>\n",
       "      <td>True</td>\n",
       "      <td>True</td>\n",
       "      <td>True</td>\n",
       "      <td>True</td>\n",
       "    </tr>\n",
       "    <tr>\n",
       "      <th>b</th>\n",
       "      <td>True</td>\n",
       "      <td>True</td>\n",
       "      <td>True</td>\n",
       "      <td>False</td>\n",
       "    </tr>\n",
       "    <tr>\n",
       "      <th>c</th>\n",
       "      <td>False</td>\n",
       "      <td>False</td>\n",
       "      <td>False</td>\n",
       "      <td>False</td>\n",
       "    </tr>\n",
       "    <tr>\n",
       "      <th>d</th>\n",
       "      <td>False</td>\n",
       "      <td>False</td>\n",
       "      <td>False</td>\n",
       "      <td>False</td>\n",
       "    </tr>\n",
       "  </tbody>\n",
       "</table>\n",
       "</div>"
      ],
      "text/plain": [
       "   Tokyo  Chiba  Saitama  Kanagawa\n",
       "a   True   True     True      True\n",
       "b   True   True     True     False\n",
       "c  False  False    False     False\n",
       "d  False  False    False     False"
      ]
     },
     "execution_count": 154,
     "metadata": {},
     "output_type": "execute_result"
    }
   ],
   "source": [
    "df2 = pd.DataFrame(np.arange(16).reshape([4,4]), \n",
    "                index = [\"a\", \"b\", \"c\", \"d\"],\n",
    "                columns = [\"Tokyo\", \"Chiba\", \"Saitama\", \"Kanagawa\"])\n",
    "\n",
    "print('df2 < 7:')\n",
    "df2 < 7"
   ]
  },
  {
   "cell_type": "code",
   "execution_count": 155,
   "metadata": {},
   "outputs": [
    {
     "name": "stdout",
     "output_type": "stream",
     "text": [
      "df[df2 < 7] = 0:\n"
     ]
    },
    {
     "data": {
      "text/html": [
       "<div>\n",
       "<style scoped>\n",
       "    .dataframe tbody tr th:only-of-type {\n",
       "        vertical-align: middle;\n",
       "    }\n",
       "\n",
       "    .dataframe tbody tr th {\n",
       "        vertical-align: top;\n",
       "    }\n",
       "\n",
       "    .dataframe thead th {\n",
       "        text-align: right;\n",
       "    }\n",
       "</style>\n",
       "<table border=\"1\" class=\"dataframe\">\n",
       "  <thead>\n",
       "    <tr style=\"text-align: right;\">\n",
       "      <th></th>\n",
       "      <th>Tokyo</th>\n",
       "      <th>Chiba</th>\n",
       "      <th>Saitama</th>\n",
       "      <th>Kanagawa</th>\n",
       "    </tr>\n",
       "  </thead>\n",
       "  <tbody>\n",
       "    <tr>\n",
       "      <th>a</th>\n",
       "      <td>0</td>\n",
       "      <td>0</td>\n",
       "      <td>0</td>\n",
       "      <td>0</td>\n",
       "    </tr>\n",
       "    <tr>\n",
       "      <th>b</th>\n",
       "      <td>0</td>\n",
       "      <td>0</td>\n",
       "      <td>0</td>\n",
       "      <td>7</td>\n",
       "    </tr>\n",
       "    <tr>\n",
       "      <th>c</th>\n",
       "      <td>8</td>\n",
       "      <td>9</td>\n",
       "      <td>10</td>\n",
       "      <td>11</td>\n",
       "    </tr>\n",
       "    <tr>\n",
       "      <th>d</th>\n",
       "      <td>12</td>\n",
       "      <td>13</td>\n",
       "      <td>14</td>\n",
       "      <td>15</td>\n",
       "    </tr>\n",
       "  </tbody>\n",
       "</table>\n",
       "</div>"
      ],
      "text/plain": [
       "   Tokyo  Chiba  Saitama  Kanagawa\n",
       "a      0      0        0         0\n",
       "b      0      0        0         7\n",
       "c      8      9       10        11\n",
       "d     12     13       14        15"
      ]
     },
     "execution_count": 155,
     "metadata": {},
     "output_type": "execute_result"
    }
   ],
   "source": [
    "print('df[df2 < 7] = 0:')\n",
    "df2[df2 < 7] = 0\n",
    "df2"
   ]
  },
  {
   "cell_type": "markdown",
   "metadata": {},
   "source": [
    "## 行・列を指定した `pd.DataFrame` アクセス\n",
    "`pd.DataFrame[\"インデックス\"]` のようなアクセスは列に対してのみおこなわれる。  \n",
    "行単位でアクセスしたい場合は、インデックスで指定する `pd.DataFrame.loc`, あるいは行番号で指定する`pd.DataFram.iloc` 属性を利用する。\n",
    "これらは、行・列インデックスあるいは行・列数で指定する:"
   ]
  },
  {
   "cell_type": "code",
   "execution_count": 156,
   "metadata": {},
   "outputs": [
    {
     "name": "stdout",
     "output_type": "stream",
     "text": [
      "Sample:\n"
     ]
    },
    {
     "data": {
      "text/html": [
       "<div>\n",
       "<style scoped>\n",
       "    .dataframe tbody tr th:only-of-type {\n",
       "        vertical-align: middle;\n",
       "    }\n",
       "\n",
       "    .dataframe tbody tr th {\n",
       "        vertical-align: top;\n",
       "    }\n",
       "\n",
       "    .dataframe thead th {\n",
       "        text-align: right;\n",
       "    }\n",
       "</style>\n",
       "<table border=\"1\" class=\"dataframe\">\n",
       "  <thead>\n",
       "    <tr style=\"text-align: right;\">\n",
       "      <th></th>\n",
       "      <th>Tokyo</th>\n",
       "      <th>Chiba</th>\n",
       "      <th>Saitama</th>\n",
       "      <th>Kanagawa</th>\n",
       "    </tr>\n",
       "  </thead>\n",
       "  <tbody>\n",
       "    <tr>\n",
       "      <th>a</th>\n",
       "      <td>0</td>\n",
       "      <td>1</td>\n",
       "      <td>2</td>\n",
       "      <td>3</td>\n",
       "    </tr>\n",
       "    <tr>\n",
       "      <th>b</th>\n",
       "      <td>4</td>\n",
       "      <td>5</td>\n",
       "      <td>6</td>\n",
       "      <td>7</td>\n",
       "    </tr>\n",
       "    <tr>\n",
       "      <th>c</th>\n",
       "      <td>8</td>\n",
       "      <td>9</td>\n",
       "      <td>10</td>\n",
       "      <td>11</td>\n",
       "    </tr>\n",
       "    <tr>\n",
       "      <th>d</th>\n",
       "      <td>12</td>\n",
       "      <td>13</td>\n",
       "      <td>14</td>\n",
       "      <td>15</td>\n",
       "    </tr>\n",
       "  </tbody>\n",
       "</table>\n",
       "</div>"
      ],
      "text/plain": [
       "   Tokyo  Chiba  Saitama  Kanagawa\n",
       "a      0      1        2         3\n",
       "b      4      5        6         7\n",
       "c      8      9       10        11\n",
       "d     12     13       14        15"
      ]
     },
     "execution_count": 156,
     "metadata": {},
     "output_type": "execute_result"
    }
   ],
   "source": [
    "import pandas as pd\n",
    "df2 = pd.DataFrame(np.arange(16).reshape([4,4]), \n",
    "                index = [\"a\", \"b\", \"c\", \"d\"],\n",
    "                columns = [\"Tokyo\", \"Chiba\", \"Saitama\", \"Kanagawa\"])\n",
    "print(\"Sample:\")\n",
    "df2"
   ]
  },
  {
   "cell_type": "code",
   "execution_count": 157,
   "metadata": {},
   "outputs": [
    {
     "name": "stdout",
     "output_type": "stream",
     "text": [
      "df2.loc[\"d\", [\"Tokyo\", \"Kanagawa\"]]\n"
     ]
    },
    {
     "data": {
      "text/plain": [
       "Tokyo       12\n",
       "Kanagawa    15\n",
       "Name: d, dtype: int64"
      ]
     },
     "execution_count": 157,
     "metadata": {},
     "output_type": "execute_result"
    }
   ],
   "source": [
    "print('df2.loc[\"d\", [\"Tokyo\", \"Kanagawa\"]]')\n",
    "df2.loc[\"d\", [\"Tokyo\", \"Kanagawa\"]]        # index oriented"
   ]
  },
  {
   "cell_type": "code",
   "execution_count": 158,
   "metadata": {},
   "outputs": [
    {
     "name": "stdout",
     "output_type": "stream",
     "text": [
      "df2.iloc[3, [0,3]]\n"
     ]
    },
    {
     "data": {
      "text/plain": [
       "Tokyo       12\n",
       "Kanagawa    15\n",
       "Name: d, dtype: int64"
      ]
     },
     "execution_count": 158,
     "metadata": {},
     "output_type": "execute_result"
    }
   ],
   "source": [
    "print('df2.iloc[3, [0,3]]')\n",
    "df2.iloc[3, [0,3]]        # number oriented"
   ]
  },
  {
   "cell_type": "markdown",
   "metadata": {},
   "source": [
    "もちろんスライスも使える。ただし、インデックスで指定する `pd.DataFrame.loc()`では stop も含まれることに注意:"
   ]
  },
  {
   "cell_type": "code",
   "execution_count": 159,
   "metadata": {},
   "outputs": [
    {
     "name": "stdout",
     "output_type": "stream",
     "text": [
      "Sample:\n"
     ]
    },
    {
     "data": {
      "text/html": [
       "<div>\n",
       "<style scoped>\n",
       "    .dataframe tbody tr th:only-of-type {\n",
       "        vertical-align: middle;\n",
       "    }\n",
       "\n",
       "    .dataframe tbody tr th {\n",
       "        vertical-align: top;\n",
       "    }\n",
       "\n",
       "    .dataframe thead th {\n",
       "        text-align: right;\n",
       "    }\n",
       "</style>\n",
       "<table border=\"1\" class=\"dataframe\">\n",
       "  <thead>\n",
       "    <tr style=\"text-align: right;\">\n",
       "      <th></th>\n",
       "      <th>Tokyo</th>\n",
       "      <th>Chiba</th>\n",
       "      <th>Saitama</th>\n",
       "      <th>Kanagawa</th>\n",
       "    </tr>\n",
       "  </thead>\n",
       "  <tbody>\n",
       "    <tr>\n",
       "      <th>a</th>\n",
       "      <td>0</td>\n",
       "      <td>1</td>\n",
       "      <td>2</td>\n",
       "      <td>3</td>\n",
       "    </tr>\n",
       "    <tr>\n",
       "      <th>b</th>\n",
       "      <td>4</td>\n",
       "      <td>5</td>\n",
       "      <td>6</td>\n",
       "      <td>7</td>\n",
       "    </tr>\n",
       "    <tr>\n",
       "      <th>c</th>\n",
       "      <td>8</td>\n",
       "      <td>9</td>\n",
       "      <td>10</td>\n",
       "      <td>11</td>\n",
       "    </tr>\n",
       "    <tr>\n",
       "      <th>d</th>\n",
       "      <td>12</td>\n",
       "      <td>13</td>\n",
       "      <td>14</td>\n",
       "      <td>15</td>\n",
       "    </tr>\n",
       "  </tbody>\n",
       "</table>\n",
       "</div>"
      ],
      "text/plain": [
       "   Tokyo  Chiba  Saitama  Kanagawa\n",
       "a      0      1        2         3\n",
       "b      4      5        6         7\n",
       "c      8      9       10        11\n",
       "d     12     13       14        15"
      ]
     },
     "execution_count": 159,
     "metadata": {},
     "output_type": "execute_result"
    }
   ],
   "source": [
    "import pandas as pd\n",
    "df2 = pd.DataFrame(np.arange(16).reshape([4,4]), \n",
    "                index = [\"a\", \"b\", \"c\", \"d\"],\n",
    "                columns = [\"Tokyo\", \"Chiba\", \"Saitama\", \"Kanagawa\"])\n",
    "print(\"Sample:\")\n",
    "df2"
   ]
  },
  {
   "cell_type": "code",
   "execution_count": 160,
   "metadata": {},
   "outputs": [
    {
     "name": "stdout",
     "output_type": "stream",
     "text": [
      "df2.loc[\"b\":\"c\",:\"Saitama\"]\n"
     ]
    },
    {
     "data": {
      "text/html": [
       "<div>\n",
       "<style scoped>\n",
       "    .dataframe tbody tr th:only-of-type {\n",
       "        vertical-align: middle;\n",
       "    }\n",
       "\n",
       "    .dataframe tbody tr th {\n",
       "        vertical-align: top;\n",
       "    }\n",
       "\n",
       "    .dataframe thead th {\n",
       "        text-align: right;\n",
       "    }\n",
       "</style>\n",
       "<table border=\"1\" class=\"dataframe\">\n",
       "  <thead>\n",
       "    <tr style=\"text-align: right;\">\n",
       "      <th></th>\n",
       "      <th>Tokyo</th>\n",
       "      <th>Chiba</th>\n",
       "      <th>Saitama</th>\n",
       "    </tr>\n",
       "  </thead>\n",
       "  <tbody>\n",
       "    <tr>\n",
       "      <th>b</th>\n",
       "      <td>4</td>\n",
       "      <td>5</td>\n",
       "      <td>6</td>\n",
       "    </tr>\n",
       "    <tr>\n",
       "      <th>c</th>\n",
       "      <td>8</td>\n",
       "      <td>9</td>\n",
       "      <td>10</td>\n",
       "    </tr>\n",
       "  </tbody>\n",
       "</table>\n",
       "</div>"
      ],
      "text/plain": [
       "   Tokyo  Chiba  Saitama\n",
       "b      4      5        6\n",
       "c      8      9       10"
      ]
     },
     "execution_count": 160,
     "metadata": {},
     "output_type": "execute_result"
    }
   ],
   "source": [
    "print('df2.loc[\"b\":\"c\",:\"Saitama\"]')\n",
    "df2.loc[\"b\":\"c\", :\"Saitama\"]      # index oriented , to include stop index number"
   ]
  },
  {
   "cell_type": "code",
   "execution_count": 161,
   "metadata": {},
   "outputs": [
    {
     "data": {
      "text/html": [
       "<div>\n",
       "<style scoped>\n",
       "    .dataframe tbody tr th:only-of-type {\n",
       "        vertical-align: middle;\n",
       "    }\n",
       "\n",
       "    .dataframe tbody tr th {\n",
       "        vertical-align: top;\n",
       "    }\n",
       "\n",
       "    .dataframe thead th {\n",
       "        text-align: right;\n",
       "    }\n",
       "</style>\n",
       "<table border=\"1\" class=\"dataframe\">\n",
       "  <thead>\n",
       "    <tr style=\"text-align: right;\">\n",
       "      <th></th>\n",
       "      <th>Tokyo</th>\n",
       "      <th>Chiba</th>\n",
       "    </tr>\n",
       "  </thead>\n",
       "  <tbody>\n",
       "    <tr>\n",
       "      <th>c</th>\n",
       "      <td>8</td>\n",
       "      <td>9</td>\n",
       "    </tr>\n",
       "  </tbody>\n",
       "</table>\n",
       "</div>"
      ],
      "text/plain": [
       "   Tokyo  Chiba\n",
       "c      8      9"
      ]
     },
     "execution_count": 161,
     "metadata": {},
     "output_type": "execute_result"
    }
   ],
   "source": [
    "'df2.iloc[2:3,:2]'\n",
    "df2.iloc[2:3,:2]                   # number oriented, not to include stop index number"
   ]
  },
  {
   "cell_type": "markdown",
   "metadata": {},
   "source": [
    "行・列を指定して１要素のみにアクセスするには、`pd.DataFrame.at` あるいは　`pd.DataFrame.iat` 属性を利用する。属性なので代入もできる:"
   ]
  },
  {
   "cell_type": "code",
   "execution_count": 162,
   "metadata": {},
   "outputs": [
    {
     "name": "stdout",
     "output_type": "stream",
     "text": [
      "Sample:\n",
      "   Tokyo  Chiba  Saitama  Kanagawa\n",
      "a      0      1        2         3\n",
      "b      4      5        6         7\n",
      "c      8      9       10        11\n",
      "d     12     13       14        15\n",
      "\n",
      "df2.at[\"c\",\"Saitama\"]\n",
      "10\n",
      "\n",
      "df2.at[2,2]\n",
      "10\n",
      "\n",
      "after df2.at[\"b\",\"Saitama\"] = 9999\n",
      "   Tokyo  Chiba  Saitama  Kanagawa\n",
      "a      0      1        2         3\n",
      "b      4      5     9999         7\n",
      "c      8      9       10        11\n",
      "d     12     13       14        15\n",
      "\n"
     ]
    }
   ],
   "source": [
    "import pandas as pd\n",
    "df2 = pd.DataFrame(np.arange(16).reshape([4,4]), \n",
    "                index = [\"a\", \"b\", \"c\", \"d\"],\n",
    "                columns = [\"Tokyo\", \"Chiba\", \"Saitama\", \"Kanagawa\"])\n",
    "print(\"Sample:\")\n",
    "print(df2)\n",
    "print()\n",
    "print('df2.at[\"c\",\"Saitama\"]')      \n",
    "print(df2.at[\"c\",\"Saitama\"])        # index oriented , to include stop index number\n",
    "print()\n",
    "\n",
    "print('df2.at[2,2]') \n",
    "print(df2.iat[2,2])                 # number oriented\n",
    "print()\n",
    "\n",
    "print('after df2.at[\"b\",\"Saitama\"] = 9999')\n",
    "df2.at[\"b\",\"Saitama\"] = 9999\n",
    "print(df2)\n",
    "print()"
   ]
  },
  {
   "cell_type": "markdown",
   "metadata": {},
   "source": [
    "### `pd.Series`, `pd.DataFrame` の算法\n",
    "演算子の性質は行・列番号ではなく、インデックスによっておこなわれることを除けば`NumPy.ndarray` とほぼ同じ。  \n",
    "多くの演算が要素単位におこなわれる。"
   ]
  },
  {
   "cell_type": "markdown",
   "metadata": {},
   "source": [
    "`pd.Series`への演算子の適用は同じインデックスをもつ要素同士でおこなわれ、インデックスの調整（拡張）もおこなわれる:"
   ]
  },
  {
   "cell_type": "code",
   "execution_count": 163,
   "metadata": {},
   "outputs": [
    {
     "name": "stdout",
     "output_type": "stream",
     "text": [
      "obj3:\n",
      "Chiba        800\n",
      "Kanagawa     900\n",
      "Tokyo       1000\n",
      "dtype: int64\n",
      "\n",
      "obj4:\n",
      "Tokyo      1000.0\n",
      "Chiba       800.0\n",
      "Saitama       NaN\n",
      "dtype: float64\n",
      "\n",
      "obj3 + obj4:\n",
      "Chiba       1600.0\n",
      "Kanagawa       NaN\n",
      "Saitama        NaN\n",
      "Tokyo       2000.0\n",
      "dtype: float64\n"
     ]
    }
   ],
   "source": [
    "import pandas as pd\n",
    "data_dict = {\"Tokyo\":1000, \"Kanagawa\":900, \"Chiba\":800}\n",
    "obj3 = pd.Series(data_dict)\n",
    "obj4 = pd.Series(data_dict, index=[\"Tokyo\", \"Chiba\", \"Saitama\"])\n",
    "\n",
    "print(\"obj3:\")\n",
    "print(obj3)\n",
    "print()\n",
    "print(\"obj4:\")\n",
    "print(obj4)\n",
    "print()\n",
    "print(\"obj3 + obj4:\")\n",
    "print(obj3 + obj4)"
   ]
  },
  {
   "cell_type": "markdown",
   "metadata": {},
   "source": [
    "`pd.DataFrame` も同じ:"
   ]
  },
  {
   "cell_type": "code",
   "execution_count": 164,
   "metadata": {},
   "outputs": [
    {
     "data": {
      "text/html": [
       "<div>\n",
       "<style scoped>\n",
       "    .dataframe tbody tr th:only-of-type {\n",
       "        vertical-align: middle;\n",
       "    }\n",
       "\n",
       "    .dataframe tbody tr th {\n",
       "        vertical-align: top;\n",
       "    }\n",
       "\n",
       "    .dataframe thead th {\n",
       "        text-align: right;\n",
       "    }\n",
       "</style>\n",
       "<table border=\"1\" class=\"dataframe\">\n",
       "  <thead>\n",
       "    <tr style=\"text-align: right;\">\n",
       "      <th></th>\n",
       "      <th>Chiba</th>\n",
       "      <th>Ibaragi</th>\n",
       "      <th>Kanagawa</th>\n",
       "      <th>Saitama</th>\n",
       "      <th>Tokyo</th>\n",
       "      <th>Yamanashi</th>\n",
       "    </tr>\n",
       "  </thead>\n",
       "  <tbody>\n",
       "    <tr>\n",
       "      <th>a</th>\n",
       "      <td>18.0</td>\n",
       "      <td>NaN</td>\n",
       "      <td>NaN</td>\n",
       "      <td>NaN</td>\n",
       "      <td>16.0</td>\n",
       "      <td>NaN</td>\n",
       "    </tr>\n",
       "    <tr>\n",
       "      <th>b</th>\n",
       "      <td>26.0</td>\n",
       "      <td>NaN</td>\n",
       "      <td>NaN</td>\n",
       "      <td>NaN</td>\n",
       "      <td>24.0</td>\n",
       "      <td>NaN</td>\n",
       "    </tr>\n",
       "    <tr>\n",
       "      <th>c</th>\n",
       "      <td>NaN</td>\n",
       "      <td>NaN</td>\n",
       "      <td>NaN</td>\n",
       "      <td>NaN</td>\n",
       "      <td>NaN</td>\n",
       "      <td>NaN</td>\n",
       "    </tr>\n",
       "    <tr>\n",
       "      <th>d</th>\n",
       "      <td>NaN</td>\n",
       "      <td>NaN</td>\n",
       "      <td>NaN</td>\n",
       "      <td>NaN</td>\n",
       "      <td>NaN</td>\n",
       "      <td>NaN</td>\n",
       "    </tr>\n",
       "    <tr>\n",
       "      <th>e</th>\n",
       "      <td>NaN</td>\n",
       "      <td>NaN</td>\n",
       "      <td>NaN</td>\n",
       "      <td>NaN</td>\n",
       "      <td>NaN</td>\n",
       "      <td>NaN</td>\n",
       "    </tr>\n",
       "    <tr>\n",
       "      <th>f</th>\n",
       "      <td>NaN</td>\n",
       "      <td>NaN</td>\n",
       "      <td>NaN</td>\n",
       "      <td>NaN</td>\n",
       "      <td>NaN</td>\n",
       "      <td>NaN</td>\n",
       "    </tr>\n",
       "  </tbody>\n",
       "</table>\n",
       "</div>"
      ],
      "text/plain": [
       "   Chiba  Ibaragi  Kanagawa  Saitama  Tokyo  Yamanashi\n",
       "a   18.0      NaN       NaN      NaN   16.0        NaN\n",
       "b   26.0      NaN       NaN      NaN   24.0        NaN\n",
       "c    NaN      NaN       NaN      NaN    NaN        NaN\n",
       "d    NaN      NaN       NaN      NaN    NaN        NaN\n",
       "e    NaN      NaN       NaN      NaN    NaN        NaN\n",
       "f    NaN      NaN       NaN      NaN    NaN        NaN"
      ]
     },
     "execution_count": 164,
     "metadata": {},
     "output_type": "execute_result"
    }
   ],
   "source": [
    "import pandas as pd\n",
    "\n",
    "df2 = pd.DataFrame(np.arange(16).reshape([4,4]), \n",
    "                index = [\"a\", \"b\", \"c\", \"d\"],\n",
    "                columns = [\"Tokyo\", \"Chiba\", \"Saitama\", \"Kanagawa\"])\n",
    "\n",
    "df3 = pd.DataFrame(np.arange(16, 32).reshape([4,4]), \n",
    "                index = [\"a\", \"b\", \"e\", \"f\"],\n",
    "                columns = [\"Tokyo\", \"Chiba\", \"Ibaragi\", \"Yamanashi\"])\n",
    "\n",
    "df2 + df3"
   ]
  },
  {
   "cell_type": "markdown",
   "metadata": {},
   "source": [
    "`pd.DataFrame.add()` メソッドでは演算の際に NaN を埋める`fill_value`オプションもある（両方の値がなければ NaN のまま）:"
   ]
  },
  {
   "cell_type": "code",
   "execution_count": 165,
   "metadata": {
    "scrolled": true
   },
   "outputs": [
    {
     "data": {
      "text/html": [
       "<div>\n",
       "<style scoped>\n",
       "    .dataframe tbody tr th:only-of-type {\n",
       "        vertical-align: middle;\n",
       "    }\n",
       "\n",
       "    .dataframe tbody tr th {\n",
       "        vertical-align: top;\n",
       "    }\n",
       "\n",
       "    .dataframe thead th {\n",
       "        text-align: right;\n",
       "    }\n",
       "</style>\n",
       "<table border=\"1\" class=\"dataframe\">\n",
       "  <thead>\n",
       "    <tr style=\"text-align: right;\">\n",
       "      <th></th>\n",
       "      <th>Chiba</th>\n",
       "      <th>Ibaragi</th>\n",
       "      <th>Kanagawa</th>\n",
       "      <th>Saitama</th>\n",
       "      <th>Tokyo</th>\n",
       "      <th>Yamanashi</th>\n",
       "    </tr>\n",
       "  </thead>\n",
       "  <tbody>\n",
       "    <tr>\n",
       "      <th>a</th>\n",
       "      <td>18.0</td>\n",
       "      <td>18.0</td>\n",
       "      <td>3.0</td>\n",
       "      <td>2.0</td>\n",
       "      <td>16.0</td>\n",
       "      <td>19.0</td>\n",
       "    </tr>\n",
       "    <tr>\n",
       "      <th>b</th>\n",
       "      <td>26.0</td>\n",
       "      <td>22.0</td>\n",
       "      <td>7.0</td>\n",
       "      <td>6.0</td>\n",
       "      <td>24.0</td>\n",
       "      <td>23.0</td>\n",
       "    </tr>\n",
       "    <tr>\n",
       "      <th>c</th>\n",
       "      <td>9.0</td>\n",
       "      <td>NaN</td>\n",
       "      <td>11.0</td>\n",
       "      <td>10.0</td>\n",
       "      <td>8.0</td>\n",
       "      <td>NaN</td>\n",
       "    </tr>\n",
       "    <tr>\n",
       "      <th>d</th>\n",
       "      <td>13.0</td>\n",
       "      <td>NaN</td>\n",
       "      <td>15.0</td>\n",
       "      <td>14.0</td>\n",
       "      <td>12.0</td>\n",
       "      <td>NaN</td>\n",
       "    </tr>\n",
       "    <tr>\n",
       "      <th>e</th>\n",
       "      <td>25.0</td>\n",
       "      <td>26.0</td>\n",
       "      <td>NaN</td>\n",
       "      <td>NaN</td>\n",
       "      <td>24.0</td>\n",
       "      <td>27.0</td>\n",
       "    </tr>\n",
       "    <tr>\n",
       "      <th>f</th>\n",
       "      <td>29.0</td>\n",
       "      <td>30.0</td>\n",
       "      <td>NaN</td>\n",
       "      <td>NaN</td>\n",
       "      <td>28.0</td>\n",
       "      <td>31.0</td>\n",
       "    </tr>\n",
       "  </tbody>\n",
       "</table>\n",
       "</div>"
      ],
      "text/plain": [
       "   Chiba  Ibaragi  Kanagawa  Saitama  Tokyo  Yamanashi\n",
       "a   18.0     18.0       3.0      2.0   16.0       19.0\n",
       "b   26.0     22.0       7.0      6.0   24.0       23.0\n",
       "c    9.0      NaN      11.0     10.0    8.0        NaN\n",
       "d   13.0      NaN      15.0     14.0   12.0        NaN\n",
       "e   25.0     26.0       NaN      NaN   24.0       27.0\n",
       "f   29.0     30.0       NaN      NaN   28.0       31.0"
      ]
     },
     "execution_count": 165,
     "metadata": {},
     "output_type": "execute_result"
    }
   ],
   "source": [
    "import pandas as pd\n",
    "\n",
    "df2 = pd.DataFrame(np.arange(16).reshape([4,4]), \n",
    "                index = [\"a\", \"b\", \"c\", \"d\"],\n",
    "                columns = [\"Tokyo\", \"Chiba\", \"Saitama\", \"Kanagawa\"])\n",
    "\n",
    "df3 = pd.DataFrame(np.arange(16, 32).reshape([4,4]), \n",
    "                index = [\"a\", \"b\", \"e\", \"f\"],\n",
    "                columns = [\"Tokyo\", \"Chiba\", \"Ibaragi\", \"Yamanashi\"])\n",
    "\n",
    "df2.add(df3, fill_value=0)"
   ]
  },
  {
   "cell_type": "code",
   "execution_count": 166,
   "metadata": {},
   "outputs": [
    {
     "data": {
      "text/html": [
       "<div>\n",
       "<style scoped>\n",
       "    .dataframe tbody tr th:only-of-type {\n",
       "        vertical-align: middle;\n",
       "    }\n",
       "\n",
       "    .dataframe tbody tr th {\n",
       "        vertical-align: top;\n",
       "    }\n",
       "\n",
       "    .dataframe thead th {\n",
       "        text-align: right;\n",
       "    }\n",
       "</style>\n",
       "<table border=\"1\" class=\"dataframe\">\n",
       "  <thead>\n",
       "    <tr style=\"text-align: right;\">\n",
       "      <th></th>\n",
       "      <th>Tokyo</th>\n",
       "      <th>Chiba</th>\n",
       "      <th>Saitama</th>\n",
       "      <th>Kanagawa</th>\n",
       "    </tr>\n",
       "  </thead>\n",
       "  <tbody>\n",
       "    <tr>\n",
       "      <th>a</th>\n",
       "      <td>inf</td>\n",
       "      <td>1.000000</td>\n",
       "      <td>0.500000</td>\n",
       "      <td>0.333333</td>\n",
       "    </tr>\n",
       "    <tr>\n",
       "      <th>b</th>\n",
       "      <td>0.250000</td>\n",
       "      <td>0.200000</td>\n",
       "      <td>0.166667</td>\n",
       "      <td>0.142857</td>\n",
       "    </tr>\n",
       "    <tr>\n",
       "      <th>c</th>\n",
       "      <td>0.125000</td>\n",
       "      <td>0.111111</td>\n",
       "      <td>0.100000</td>\n",
       "      <td>0.090909</td>\n",
       "    </tr>\n",
       "    <tr>\n",
       "      <th>d</th>\n",
       "      <td>0.083333</td>\n",
       "      <td>0.076923</td>\n",
       "      <td>0.071429</td>\n",
       "      <td>0.066667</td>\n",
       "    </tr>\n",
       "  </tbody>\n",
       "</table>\n",
       "</div>"
      ],
      "text/plain": [
       "      Tokyo     Chiba   Saitama  Kanagawa\n",
       "a       inf  1.000000  0.500000  0.333333\n",
       "b  0.250000  0.200000  0.166667  0.142857\n",
       "c  0.125000  0.111111  0.100000  0.090909\n",
       "d  0.083333  0.076923  0.071429  0.066667"
      ]
     },
     "execution_count": 166,
     "metadata": {},
     "output_type": "execute_result"
    }
   ],
   "source": [
    "1/df2"
   ]
  },
  {
   "cell_type": "markdown",
   "metadata": {},
   "source": [
    "### 汎用関数と関数 `map` \n",
    "Numpy の汎用関数、`np.exp`, `np.sqrt` などは、`pd.Series`, `pd.DataFrame`各要素に対して適用される:"
   ]
  },
  {
   "cell_type": "code",
   "execution_count": 167,
   "metadata": {},
   "outputs": [
    {
     "data": {
      "text/html": [
       "<div>\n",
       "<style scoped>\n",
       "    .dataframe tbody tr th:only-of-type {\n",
       "        vertical-align: middle;\n",
       "    }\n",
       "\n",
       "    .dataframe tbody tr th {\n",
       "        vertical-align: top;\n",
       "    }\n",
       "\n",
       "    .dataframe thead th {\n",
       "        text-align: right;\n",
       "    }\n",
       "</style>\n",
       "<table border=\"1\" class=\"dataframe\">\n",
       "  <thead>\n",
       "    <tr style=\"text-align: right;\">\n",
       "      <th></th>\n",
       "      <th>Tokyo</th>\n",
       "      <th>Chiba</th>\n",
       "      <th>Saitama</th>\n",
       "      <th>Kanagawa</th>\n",
       "    </tr>\n",
       "  </thead>\n",
       "  <tbody>\n",
       "    <tr>\n",
       "      <th>a</th>\n",
       "      <td>0.000000</td>\n",
       "      <td>1.000000</td>\n",
       "      <td>1.414214</td>\n",
       "      <td>1.732051</td>\n",
       "    </tr>\n",
       "    <tr>\n",
       "      <th>b</th>\n",
       "      <td>2.000000</td>\n",
       "      <td>2.236068</td>\n",
       "      <td>2.449490</td>\n",
       "      <td>2.645751</td>\n",
       "    </tr>\n",
       "    <tr>\n",
       "      <th>c</th>\n",
       "      <td>2.828427</td>\n",
       "      <td>3.000000</td>\n",
       "      <td>3.162278</td>\n",
       "      <td>3.316625</td>\n",
       "    </tr>\n",
       "    <tr>\n",
       "      <th>d</th>\n",
       "      <td>3.464102</td>\n",
       "      <td>3.605551</td>\n",
       "      <td>3.741657</td>\n",
       "      <td>3.872983</td>\n",
       "    </tr>\n",
       "  </tbody>\n",
       "</table>\n",
       "</div>"
      ],
      "text/plain": [
       "      Tokyo     Chiba   Saitama  Kanagawa\n",
       "a  0.000000  1.000000  1.414214  1.732051\n",
       "b  2.000000  2.236068  2.449490  2.645751\n",
       "c  2.828427  3.000000  3.162278  3.316625\n",
       "d  3.464102  3.605551  3.741657  3.872983"
      ]
     },
     "execution_count": 167,
     "metadata": {},
     "output_type": "execute_result"
    }
   ],
   "source": [
    "import pandas as pd\n",
    "\n",
    "df2 = pd.DataFrame(np.arange(16).reshape([4,4]), \n",
    "                index = [\"a\", \"b\", \"c\", \"d\"],\n",
    "                columns = [\"Tokyo\", \"Chiba\", \"Saitama\", \"Kanagawa\"])\n",
    "np.sqrt(df2)"
   ]
  },
  {
   "cell_type": "markdown",
   "metadata": {},
   "source": [
    "よく使われる別の方法として、関数`map`も利用される:"
   ]
  },
  {
   "cell_type": "code",
   "execution_count": 168,
   "metadata": {},
   "outputs": [
    {
     "data": {
      "text/html": [
       "<div>\n",
       "<style scoped>\n",
       "    .dataframe tbody tr th:only-of-type {\n",
       "        vertical-align: middle;\n",
       "    }\n",
       "\n",
       "    .dataframe tbody tr th {\n",
       "        vertical-align: top;\n",
       "    }\n",
       "\n",
       "    .dataframe thead th {\n",
       "        text-align: right;\n",
       "    }\n",
       "</style>\n",
       "<table border=\"1\" class=\"dataframe\">\n",
       "  <thead>\n",
       "    <tr style=\"text-align: right;\">\n",
       "      <th></th>\n",
       "      <th>Tokyo</th>\n",
       "      <th>Chiba</th>\n",
       "      <th>Saitama</th>\n",
       "      <th>Kanagawa</th>\n",
       "    </tr>\n",
       "  </thead>\n",
       "  <tbody>\n",
       "    <tr>\n",
       "      <th>a</th>\n",
       "      <td>0</td>\n",
       "      <td>1</td>\n",
       "      <td>2</td>\n",
       "      <td>3</td>\n",
       "    </tr>\n",
       "    <tr>\n",
       "      <th>b</th>\n",
       "      <td>4</td>\n",
       "      <td>5</td>\n",
       "      <td>6</td>\n",
       "      <td>7</td>\n",
       "    </tr>\n",
       "    <tr>\n",
       "      <th>c</th>\n",
       "      <td>8</td>\n",
       "      <td>9</td>\n",
       "      <td>10</td>\n",
       "      <td>11</td>\n",
       "    </tr>\n",
       "    <tr>\n",
       "      <th>d</th>\n",
       "      <td>12</td>\n",
       "      <td>13</td>\n",
       "      <td>14</td>\n",
       "      <td>15</td>\n",
       "    </tr>\n",
       "  </tbody>\n",
       "</table>\n",
       "</div>"
      ],
      "text/plain": [
       "   Tokyo  Chiba  Saitama  Kanagawa\n",
       "a      0      1        2         3\n",
       "b      4      5        6         7\n",
       "c      8      9       10        11\n",
       "d     12     13       14        15"
      ]
     },
     "execution_count": 168,
     "metadata": {},
     "output_type": "execute_result"
    }
   ],
   "source": [
    "import pandas as pd\n",
    "\n",
    "df2 = pd.DataFrame(np.arange(16).reshape([4,4]), \n",
    "                index = [\"a\", \"b\", \"c\", \"d\"],\n",
    "                columns = [\"Tokyo\", \"Chiba\", \"Saitama\", \"Kanagawa\"])\n",
    "df2"
   ]
  },
  {
   "cell_type": "code",
   "execution_count": 169,
   "metadata": {},
   "outputs": [
    {
     "data": {
      "text/plain": [
       "Tokyo       24\n",
       "Chiba       28\n",
       "Saitama     32\n",
       "Kanagawa    36\n",
       "dtype: int64"
      ]
     },
     "execution_count": 169,
     "metadata": {},
     "output_type": "execute_result"
    }
   ],
   "source": [
    "f = lambda x: x.sum()\n",
    "df2.apply(f)"
   ]
  },
  {
   "cell_type": "markdown",
   "metadata": {},
   "source": []
  },
  {
   "cell_type": "markdown",
   "metadata": {},
   "source": []
  },
  {
   "cell_type": "code",
   "execution_count": 170,
   "metadata": {},
   "outputs": [
    {
     "data": {
      "text/plain": [
       "a  2000   -0.606417\n",
       "   2010    0.504888\n",
       "b  2000   -0.947369\n",
       "c  2000    0.228710\n",
       "d  2000   -0.063714\n",
       "   2010   -0.318073\n",
       "e  2000   -1.951952\n",
       "   2010    0.716546\n",
       "dtype: float64"
      ]
     },
     "execution_count": 170,
     "metadata": {},
     "output_type": "execute_result"
    }
   ],
   "source": [
    "import numpy as np\n",
    "import pandas as pd\n",
    "ser = pd.Series(np.random.randn(8), \n",
    "                 index=[[\"a\", \"a\", \"b\", \"c\", \"d\", \"d\", \"e\", \"e\"],\n",
    "                        [\"2000\",\"2010\",\"2000\",\"2000\",\"2000\",\"2010\",\"2000\",\"2010\"]])\n",
    "ser"
   ]
  },
  {
   "cell_type": "markdown",
   "metadata": {},
   "source": [
    "これをインデックスで指定すると:"
   ]
  },
  {
   "cell_type": "code",
   "execution_count": 171,
   "metadata": {},
   "outputs": [
    {
     "data": {
      "text/plain": [
       "2000   -0.606417\n",
       "2010    0.504888\n",
       "dtype: float64"
      ]
     },
     "execution_count": 171,
     "metadata": {},
     "output_type": "execute_result"
    }
   ],
   "source": [
    "ser[\"a\"]"
   ]
  },
  {
   "cell_type": "code",
   "execution_count": 172,
   "metadata": {},
   "outputs": [
    {
     "data": {
      "text/plain": [
       "b  2000   -0.947369\n",
       "c  2000    0.228710\n",
       "dtype: float64"
      ]
     },
     "execution_count": 172,
     "metadata": {},
     "output_type": "execute_result"
    }
   ],
   "source": [
    "ser[\"b\":\"c\"]"
   ]
  },
  {
   "cell_type": "code",
   "execution_count": 173,
   "metadata": {},
   "outputs": [
    {
     "data": {
      "text/plain": [
       "a  2000   -0.606417\n",
       "   2010    0.504888\n",
       "d  2000   -0.063714\n",
       "   2010   -0.318073\n",
       "dtype: float64"
      ]
     },
     "execution_count": 173,
     "metadata": {},
     "output_type": "execute_result"
    }
   ],
   "source": [
    "ser.loc[[\"a\", \"d\"]]"
   ]
  },
  {
   "cell_type": "markdown",
   "metadata": {},
   "source": [
    "`iloc()` の働きは（もちろん）同じ:"
   ]
  },
  {
   "cell_type": "code",
   "execution_count": 174,
   "metadata": {},
   "outputs": [
    {
     "data": {
      "text/plain": [
       "b  2000   -0.947369\n",
       "c  2000    0.228710\n",
       "dtype: float64"
      ]
     },
     "execution_count": 174,
     "metadata": {},
     "output_type": "execute_result"
    }
   ],
   "source": [
    "ser.iloc[2:4]"
   ]
  },
  {
   "cell_type": "markdown",
   "metadata": {},
   "source": [
    "低い階層のインデックスも指定するには、コンマで区切る:"
   ]
  },
  {
   "cell_type": "code",
   "execution_count": 175,
   "metadata": {},
   "outputs": [
    {
     "data": {
      "text/plain": [
       "a   -0.606417\n",
       "b   -0.947369\n",
       "c    0.228710\n",
       "d   -0.063714\n",
       "e   -1.951952\n",
       "dtype: float64"
      ]
     },
     "execution_count": 175,
     "metadata": {},
     "output_type": "execute_result"
    }
   ],
   "source": [
    "ser.loc[:,\"2000\"]"
   ]
  },
  {
   "cell_type": "markdown",
   "metadata": {},
   "source": [
    "インデックスからデータセットを作り直すには、`pd.unstack()` が使える:"
   ]
  },
  {
   "cell_type": "code",
   "execution_count": 176,
   "metadata": {},
   "outputs": [
    {
     "data": {
      "text/html": [
       "<div>\n",
       "<style scoped>\n",
       "    .dataframe tbody tr th:only-of-type {\n",
       "        vertical-align: middle;\n",
       "    }\n",
       "\n",
       "    .dataframe tbody tr th {\n",
       "        vertical-align: top;\n",
       "    }\n",
       "\n",
       "    .dataframe thead th {\n",
       "        text-align: right;\n",
       "    }\n",
       "</style>\n",
       "<table border=\"1\" class=\"dataframe\">\n",
       "  <thead>\n",
       "    <tr style=\"text-align: right;\">\n",
       "      <th></th>\n",
       "      <th>2000</th>\n",
       "      <th>2010</th>\n",
       "    </tr>\n",
       "  </thead>\n",
       "  <tbody>\n",
       "    <tr>\n",
       "      <th>a</th>\n",
       "      <td>-0.606417</td>\n",
       "      <td>0.504888</td>\n",
       "    </tr>\n",
       "    <tr>\n",
       "      <th>b</th>\n",
       "      <td>-0.947369</td>\n",
       "      <td>NaN</td>\n",
       "    </tr>\n",
       "    <tr>\n",
       "      <th>c</th>\n",
       "      <td>0.228710</td>\n",
       "      <td>NaN</td>\n",
       "    </tr>\n",
       "    <tr>\n",
       "      <th>d</th>\n",
       "      <td>-0.063714</td>\n",
       "      <td>-0.318073</td>\n",
       "    </tr>\n",
       "    <tr>\n",
       "      <th>e</th>\n",
       "      <td>-1.951952</td>\n",
       "      <td>0.716546</td>\n",
       "    </tr>\n",
       "  </tbody>\n",
       "</table>\n",
       "</div>"
      ],
      "text/plain": [
       "       2000      2010\n",
       "a -0.606417  0.504888\n",
       "b -0.947369       NaN\n",
       "c  0.228710       NaN\n",
       "d -0.063714 -0.318073\n",
       "e -1.951952  0.716546"
      ]
     },
     "execution_count": 176,
     "metadata": {},
     "output_type": "execute_result"
    }
   ],
   "source": [
    "ser.unstack()"
   ]
  },
  {
   "cell_type": "markdown",
   "metadata": {},
   "source": [
    "`pd.stack()` は逆をおこなう:"
   ]
  },
  {
   "cell_type": "code",
   "execution_count": 177,
   "metadata": {},
   "outputs": [
    {
     "data": {
      "text/plain": [
       "a  2000   -0.606417\n",
       "   2010    0.504888\n",
       "b  2000   -0.947369\n",
       "c  2000    0.228710\n",
       "d  2000   -0.063714\n",
       "   2010   -0.318073\n",
       "e  2000   -1.951952\n",
       "   2010    0.716546\n",
       "dtype: float64"
      ]
     },
     "execution_count": 177,
     "metadata": {},
     "output_type": "execute_result"
    }
   ],
   "source": [
    "ser.unstack().stack()"
   ]
  },
  {
   "cell_type": "markdown",
   "metadata": {},
   "source": [
    "#### `pd.DataFrame` の Multiindex\n",
    "`pd.DataFrame` では行・列いずれにも Multiindex は適用できる:"
   ]
  },
  {
   "cell_type": "code",
   "execution_count": 178,
   "metadata": {},
   "outputs": [
    {
     "data": {
      "text/html": [
       "<div>\n",
       "<style scoped>\n",
       "    .dataframe tbody tr th:only-of-type {\n",
       "        vertical-align: middle;\n",
       "    }\n",
       "\n",
       "    .dataframe tbody tr th {\n",
       "        vertical-align: top;\n",
       "    }\n",
       "\n",
       "    .dataframe thead tr th {\n",
       "        text-align: left;\n",
       "    }\n",
       "</style>\n",
       "<table border=\"1\" class=\"dataframe\">\n",
       "  <thead>\n",
       "    <tr>\n",
       "      <th></th>\n",
       "      <th></th>\n",
       "      <th colspan=\"2\" halign=\"left\">Tokyo</th>\n",
       "      <th>Saitama</th>\n",
       "      <th>Nagano</th>\n",
       "    </tr>\n",
       "    <tr>\n",
       "      <th></th>\n",
       "      <th></th>\n",
       "      <th>Mainland</th>\n",
       "      <th>Isrands</th>\n",
       "      <th>Mainland</th>\n",
       "      <th>Mainland</th>\n",
       "    </tr>\n",
       "  </thead>\n",
       "  <tbody>\n",
       "    <tr>\n",
       "      <th rowspan=\"2\" valign=\"top\">a</th>\n",
       "      <th>2000</th>\n",
       "      <td>1.610434</td>\n",
       "      <td>1.579511</td>\n",
       "      <td>-2.132923</td>\n",
       "      <td>-1.529732</td>\n",
       "    </tr>\n",
       "    <tr>\n",
       "      <th>2010</th>\n",
       "      <td>0.193866</td>\n",
       "      <td>0.564393</td>\n",
       "      <td>1.504812</td>\n",
       "      <td>0.803416</td>\n",
       "    </tr>\n",
       "    <tr>\n",
       "      <th rowspan=\"2\" valign=\"top\">b</th>\n",
       "      <th>2000</th>\n",
       "      <td>-1.172775</td>\n",
       "      <td>-0.268446</td>\n",
       "      <td>-0.767634</td>\n",
       "      <td>1.585794</td>\n",
       "    </tr>\n",
       "    <tr>\n",
       "      <th>2010</th>\n",
       "      <td>0.752033</td>\n",
       "      <td>-0.443915</td>\n",
       "      <td>1.378504</td>\n",
       "      <td>-0.158456</td>\n",
       "    </tr>\n",
       "    <tr>\n",
       "      <th rowspan=\"2\" valign=\"top\">c</th>\n",
       "      <th>2000</th>\n",
       "      <td>-0.549010</td>\n",
       "      <td>0.576572</td>\n",
       "      <td>-1.214103</td>\n",
       "      <td>-0.717802</td>\n",
       "    </tr>\n",
       "    <tr>\n",
       "      <th>2010</th>\n",
       "      <td>2.740482</td>\n",
       "      <td>0.071307</td>\n",
       "      <td>1.351915</td>\n",
       "      <td>1.529581</td>\n",
       "    </tr>\n",
       "  </tbody>\n",
       "</table>\n",
       "</div>"
      ],
      "text/plain": [
       "           Tokyo             Saitama    Nagano\n",
       "        Mainland   Isrands  Mainland  Mainland\n",
       "a 2000  1.610434  1.579511 -2.132923 -1.529732\n",
       "  2010  0.193866  0.564393  1.504812  0.803416\n",
       "b 2000 -1.172775 -0.268446 -0.767634  1.585794\n",
       "  2010  0.752033 -0.443915  1.378504 -0.158456\n",
       "c 2000 -0.549010  0.576572 -1.214103 -0.717802\n",
       "  2010  2.740482  0.071307  1.351915  1.529581"
      ]
     },
     "execution_count": 178,
     "metadata": {},
     "output_type": "execute_result"
    }
   ],
   "source": [
    "import numpy as np\n",
    "import pandas as pd\n",
    "df = pd.DataFrame(np.random.randn(24).reshape(6,4),\n",
    "                 index =[[\"a\", \"a\", \"b\", \"b\", \"c\", \"c\"],[\"2000\", \"2010\", \"2000\", \"2010\", \"2000\", \"2010\"]],\n",
    "                 columns = [[\"Tokyo\", \"Tokyo\", \"Saitama\", \"Nagano\"],[\"Mainland\", \"Isrands\", \"Mainland\", \"Mainland\"]])\n",
    "df"
   ]
  },
  {
   "cell_type": "markdown",
   "metadata": {},
   "source": [
    "インデックスの指定は、`pd.Series`と同じ:"
   ]
  },
  {
   "cell_type": "code",
   "execution_count": 179,
   "metadata": {},
   "outputs": [
    {
     "data": {
      "text/html": [
       "<div>\n",
       "<style scoped>\n",
       "    .dataframe tbody tr th:only-of-type {\n",
       "        vertical-align: middle;\n",
       "    }\n",
       "\n",
       "    .dataframe tbody tr th {\n",
       "        vertical-align: top;\n",
       "    }\n",
       "\n",
       "    .dataframe thead th {\n",
       "        text-align: right;\n",
       "    }\n",
       "</style>\n",
       "<table border=\"1\" class=\"dataframe\">\n",
       "  <thead>\n",
       "    <tr style=\"text-align: right;\">\n",
       "      <th></th>\n",
       "      <th></th>\n",
       "      <th>Mainland</th>\n",
       "      <th>Isrands</th>\n",
       "    </tr>\n",
       "  </thead>\n",
       "  <tbody>\n",
       "    <tr>\n",
       "      <th rowspan=\"2\" valign=\"top\">a</th>\n",
       "      <th>2000</th>\n",
       "      <td>1.610434</td>\n",
       "      <td>1.579511</td>\n",
       "    </tr>\n",
       "    <tr>\n",
       "      <th>2010</th>\n",
       "      <td>0.193866</td>\n",
       "      <td>0.564393</td>\n",
       "    </tr>\n",
       "    <tr>\n",
       "      <th rowspan=\"2\" valign=\"top\">b</th>\n",
       "      <th>2000</th>\n",
       "      <td>-1.172775</td>\n",
       "      <td>-0.268446</td>\n",
       "    </tr>\n",
       "    <tr>\n",
       "      <th>2010</th>\n",
       "      <td>0.752033</td>\n",
       "      <td>-0.443915</td>\n",
       "    </tr>\n",
       "    <tr>\n",
       "      <th rowspan=\"2\" valign=\"top\">c</th>\n",
       "      <th>2000</th>\n",
       "      <td>-0.549010</td>\n",
       "      <td>0.576572</td>\n",
       "    </tr>\n",
       "    <tr>\n",
       "      <th>2010</th>\n",
       "      <td>2.740482</td>\n",
       "      <td>0.071307</td>\n",
       "    </tr>\n",
       "  </tbody>\n",
       "</table>\n",
       "</div>"
      ],
      "text/plain": [
       "        Mainland   Isrands\n",
       "a 2000  1.610434  1.579511\n",
       "  2010  0.193866  0.564393\n",
       "b 2000 -1.172775 -0.268446\n",
       "  2010  0.752033 -0.443915\n",
       "c 2000 -0.549010  0.576572\n",
       "  2010  2.740482  0.071307"
      ]
     },
     "execution_count": 179,
     "metadata": {},
     "output_type": "execute_result"
    }
   ],
   "source": [
    "df[\"Tokyo\"]"
   ]
  },
  {
   "cell_type": "code",
   "execution_count": 180,
   "metadata": {},
   "outputs": [
    {
     "data": {
      "text/plain": [
       "a  2000    1.610434\n",
       "   2010    0.193866\n",
       "b  2000   -1.172775\n",
       "   2010    0.752033\n",
       "c  2000   -0.549010\n",
       "   2010    2.740482\n",
       "Name: (Tokyo, Mainland), dtype: float64"
      ]
     },
     "execution_count": 180,
     "metadata": {},
     "output_type": "execute_result"
    }
   ],
   "source": [
    "df[\"Tokyo\",\"Mainland\"]"
   ]
  },
  {
   "cell_type": "code",
   "execution_count": 181,
   "metadata": {},
   "outputs": [
    {
     "data": {
      "text/html": [
       "<div>\n",
       "<style scoped>\n",
       "    .dataframe tbody tr th:only-of-type {\n",
       "        vertical-align: middle;\n",
       "    }\n",
       "\n",
       "    .dataframe tbody tr th {\n",
       "        vertical-align: top;\n",
       "    }\n",
       "\n",
       "    .dataframe thead tr th {\n",
       "        text-align: left;\n",
       "    }\n",
       "</style>\n",
       "<table border=\"1\" class=\"dataframe\">\n",
       "  <thead>\n",
       "    <tr>\n",
       "      <th></th>\n",
       "      <th colspan=\"2\" halign=\"left\">Tokyo</th>\n",
       "      <th>Saitama</th>\n",
       "      <th>Nagano</th>\n",
       "    </tr>\n",
       "    <tr>\n",
       "      <th></th>\n",
       "      <th>Mainland</th>\n",
       "      <th>Isrands</th>\n",
       "      <th>Mainland</th>\n",
       "      <th>Mainland</th>\n",
       "    </tr>\n",
       "  </thead>\n",
       "  <tbody>\n",
       "    <tr>\n",
       "      <th>2000</th>\n",
       "      <td>1.610434</td>\n",
       "      <td>1.579511</td>\n",
       "      <td>-2.132923</td>\n",
       "      <td>-1.529732</td>\n",
       "    </tr>\n",
       "    <tr>\n",
       "      <th>2010</th>\n",
       "      <td>0.193866</td>\n",
       "      <td>0.564393</td>\n",
       "      <td>1.504812</td>\n",
       "      <td>0.803416</td>\n",
       "    </tr>\n",
       "  </tbody>\n",
       "</table>\n",
       "</div>"
      ],
      "text/plain": [
       "         Tokyo             Saitama    Nagano\n",
       "      Mainland   Isrands  Mainland  Mainland\n",
       "2000  1.610434  1.579511 -2.132923 -1.529732\n",
       "2010  0.193866  0.564393  1.504812  0.803416"
      ]
     },
     "execution_count": 181,
     "metadata": {},
     "output_type": "execute_result"
    }
   ],
   "source": [
    "df.loc[\"a\"]"
   ]
  },
  {
   "cell_type": "markdown",
   "metadata": {},
   "source": [
    "ただし、`pd.DataFrame` なのでスライスは行に対して適用される:"
   ]
  },
  {
   "cell_type": "code",
   "execution_count": 182,
   "metadata": {},
   "outputs": [
    {
     "data": {
      "text/html": [
       "<div>\n",
       "<style scoped>\n",
       "    .dataframe tbody tr th:only-of-type {\n",
       "        vertical-align: middle;\n",
       "    }\n",
       "\n",
       "    .dataframe tbody tr th {\n",
       "        vertical-align: top;\n",
       "    }\n",
       "\n",
       "    .dataframe thead tr th {\n",
       "        text-align: left;\n",
       "    }\n",
       "</style>\n",
       "<table border=\"1\" class=\"dataframe\">\n",
       "  <thead>\n",
       "    <tr>\n",
       "      <th></th>\n",
       "      <th></th>\n",
       "      <th colspan=\"2\" halign=\"left\">Tokyo</th>\n",
       "      <th>Saitama</th>\n",
       "      <th>Nagano</th>\n",
       "    </tr>\n",
       "    <tr>\n",
       "      <th></th>\n",
       "      <th></th>\n",
       "      <th>Mainland</th>\n",
       "      <th>Isrands</th>\n",
       "      <th>Mainland</th>\n",
       "      <th>Mainland</th>\n",
       "    </tr>\n",
       "  </thead>\n",
       "  <tbody>\n",
       "    <tr>\n",
       "      <th rowspan=\"2\" valign=\"top\">a</th>\n",
       "      <th>2000</th>\n",
       "      <td>1.610434</td>\n",
       "      <td>1.579511</td>\n",
       "      <td>-2.132923</td>\n",
       "      <td>-1.529732</td>\n",
       "    </tr>\n",
       "    <tr>\n",
       "      <th>2010</th>\n",
       "      <td>0.193866</td>\n",
       "      <td>0.564393</td>\n",
       "      <td>1.504812</td>\n",
       "      <td>0.803416</td>\n",
       "    </tr>\n",
       "    <tr>\n",
       "      <th rowspan=\"2\" valign=\"top\">b</th>\n",
       "      <th>2000</th>\n",
       "      <td>-1.172775</td>\n",
       "      <td>-0.268446</td>\n",
       "      <td>-0.767634</td>\n",
       "      <td>1.585794</td>\n",
       "    </tr>\n",
       "    <tr>\n",
       "      <th>2010</th>\n",
       "      <td>0.752033</td>\n",
       "      <td>-0.443915</td>\n",
       "      <td>1.378504</td>\n",
       "      <td>-0.158456</td>\n",
       "    </tr>\n",
       "  </tbody>\n",
       "</table>\n",
       "</div>"
      ],
      "text/plain": [
       "           Tokyo             Saitama    Nagano\n",
       "        Mainland   Isrands  Mainland  Mainland\n",
       "a 2000  1.610434  1.579511 -2.132923 -1.529732\n",
       "  2010  0.193866  0.564393  1.504812  0.803416\n",
       "b 2000 -1.172775 -0.268446 -0.767634  1.585794\n",
       "  2010  0.752033 -0.443915  1.378504 -0.158456"
      ]
     },
     "execution_count": 182,
     "metadata": {},
     "output_type": "execute_result"
    }
   ],
   "source": [
    "df[\"a\":\"b\"]"
   ]
  },
  {
   "cell_type": "markdown",
   "metadata": {},
   "source": []
  },
  {
   "cell_type": "markdown",
   "metadata": {},
   "source": [
    "### 整数インデックス（参考）\n",
    "Pandas の添字の与え方は、通常の Python とちがうことに注意する。  \n",
    "たとえば、以下はエラーとなる。インデックスが整数型で、インデックスにない番号でアクセスされたため:"
   ]
  },
  {
   "cell_type": "code",
   "execution_count": 183,
   "metadata": {},
   "outputs": [],
   "source": [
    "import pandas as pd\n",
    "import numpy as np\n",
    "ser = pd.Series(np.arange(3.0))\n",
    "print(ser)\n",
    "print(ser[-1])"
   ]
  },
  {
   "cell_type": "markdown",
   "metadata": {},
   "source": [
    "一方で、以下のようにインデックスが非整数の場合はエラーとならない:"
   ]
  },
  {
   "cell_type": "code",
   "execution_count": 184,
   "metadata": {},
   "outputs": [
    {
     "name": "stdout",
     "output_type": "stream",
     "text": [
      "a    0.0\n",
      "b    1.0\n",
      "c    2.0\n",
      "dtype: float64\n",
      "2.0\n"
     ]
    }
   ],
   "source": [
    "import pandas as pd\n",
    "import numpy as np\n",
    "ser2 = pd.Series(np.arange(3.0), index=[\"a\", \"b\", \"c\"])\n",
    "print(ser2)\n",
    "print(ser2[-1])"
   ]
  }
 ],
 "metadata": {
  "celltoolbar": "Slideshow",
  "kernelspec": {
   "display_name": "Python 3",
   "language": "python",
   "name": "python3"
  },
  "language_info": {
   "codemirror_mode": {
    "name": "ipython",
    "version": 3
   },
   "file_extension": ".py",
   "mimetype": "text/x-python",
   "name": "python",
   "nbconvert_exporter": "python",
   "pygments_lexer": "ipython3",
   "version": "3.7.3"
  }
 },
 "nbformat": 4,
 "nbformat_minor": 2
}
